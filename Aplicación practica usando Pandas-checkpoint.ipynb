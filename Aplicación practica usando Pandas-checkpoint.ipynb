{
 "cells": [
  {
   "cell_type": "markdown",
   "metadata": {
    "colab_type": "text",
    "id": "yEP5BHB0gGAm"
   },
   "source": [
    "# UBER Movement"
   ]
  },
  {
   "cell_type": "markdown",
   "metadata": {
    "colab_type": "text",
    "id": "E69Djm7lgGAo"
   },
   "source": [
    "\n",
    "## Descripción del proyecto\n",
    "\n",
    "Para el siguiente proyecto se van a usar los datos agregados de tiempos en la ciudad de Bogotá D.C. usando la plataforma de Uber. [Uber Movement](https://movement.uber.com) presenta datos agregados de viajes para los años 2016, 2017 y 2018. A pesar de que para el diplomado se provee una parte del conjunto de datos, usted puede descargarlos usando su cuenta de Uber para ingresar a [https://movement.uber.com](https://movement.uber.com). La plataforma presenta los datos de dos maneras: agregados trimestrales durante los tres años y tiempos agregados de viaje desde un origen específico hacia todos los destinos donde se hayan realizado viajes. Esta última modalidad permite consultar agregados para rangos de tiempo que varían entre 1 dia y 3 meses. A continuación, se explica como se presentan los datos de cada formato:\n",
    "\n",
    "### Agregados trimestrales:\n",
    "\n",
    "Son presentados en archivos .csv, donde cada registro corresponde a un origen y un destino. Entre paréntesis se ha colocado el nombre de cada archivo para su referencia (Sin extensión CSV)\n",
    "\n",
    "- Agregado horario para todos los días. (Origen, destino, hora del día, media, media geométrica, desviación estándar) (**All-HourlyAggregate**)\n",
    "- Agregado horario para los días entre semana. (Origen, destino, hora del día, media, media geométrica, desviación estándar) (**OnlyWeekdays-HourlyAggregate**)\n",
    "- Agregado horario para los fines de semana. (Origen, destino, hora del día, media, media geométrica, desviación estándar) (**OnlyWeekends-HourlyAggregate**)\n",
    "- Agregado mensual para todos los días. (Origen, destino, mes, media, media geométrica, desviación estándar) (**All-MonthlyAggregate**)\n",
    "- Agregado mensual para los días entre semana. (Origen, destino, mes, media, media geométrica, desviación estándar) (**OnlyWeekdays-MonthlyAggregate**)\n",
    "- Agregado mensual para los fines de semana. (Origen, destino, mes, media, media geométrica, desviación estándar) (**OnlyWeekends-MonthlyAggregate**)\n",
    "- Agregado por día de la semana. (Origen, destino, día de la semana, media, media geométrica, desviación estándar) (**WeeklyAggregate**)"
   ]
  },
  {
   "cell_type": "markdown",
   "metadata": {
    "colab_type": "text",
    "id": "WhK656-_gGAo"
   },
   "source": [
    "Verifique que anaconda tenga instalados los siguientes paquetes:\n",
    "- pysal\n",
    "- geopandas\n",
    "\n",
    "*Geopandas* permite cargar archivos georeferenciados, como GeoJSON y abrirlos como DataFrames de *Pandas*. *PySAL* es una librería de análisis espacial. Ambas se usarán con el propósito de visualizar algunos elementos sobre el conjunto de datos de UBER Movement.\n",
    "\n",
    "Desde Ubuntu puede instalarlos así:\n",
    "\n",
    "```bash\n",
    "$ pip install pysal\n",
    "$ pip install geopandas\n",
    "```"
   ]
  },
  {
   "cell_type": "code",
   "execution_count": 0,
   "metadata": {
    "colab": {
     "autoexec": {
      "startup": false,
      "wait_interval": 0
     }
    },
    "colab_type": "code",
    "id": "vrL7O9QygGAp"
   },
   "outputs": [],
   "source": [
    "import pandas as pd\n",
    "import numpy as np\n",
    "import pysal\n",
    "\n",
    "import matplotlib as mpl\n",
    "import matplotlib.pyplot as plt\n",
    "\n",
    "%matplotlib inline"
   ]
  },
  {
   "cell_type": "markdown",
   "metadata": {
    "colab_type": "text",
    "id": "rF7ahmpHgGAt"
   },
   "source": [
    "A continuación, cargamos el conjunto de datos con agregados cada hora durante el segundo semestre de 2017. Procure conservar las rutas de los archivos que aquí se proponen, o modifíquelas por la ubicación real de estos archivos. `hod` corresponde a la hora del día en la cual se presentó el viaje. Los tiempos reportados en `mean_travel_time` se encuentran en segundos."
   ]
  },
  {
   "cell_type": "code",
   "execution_count": 0,
   "metadata": {
    "colab": {
     "autoexec": {
      "startup": false,
      "wait_interval": 0
     }
    },
    "colab_type": "code",
    "id": "cbata-9OgGAt"
   },
   "outputs": [],
   "source": [
    "df = pd.read_csv('data/uber/2017-2/bogota-cadastral-2017-2-All-HourlyAggregate.csv')"
   ]
  },
  {
   "cell_type": "code",
   "execution_count": 0,
   "metadata": {
    "colab": {
     "autoexec": {
      "startup": false,
      "wait_interval": 0
     }
    },
    "colab_type": "code",
    "id": "7YFj5jswgGAx",
    "outputId": "0637b0ea-4445-4cc2-99d7-7bc3dafe3e16"
   },
   "outputs": [
    {
     "data": {
      "text/html": [
       "<div>\n",
       "<style scoped>\n",
       "    .dataframe tbody tr th:only-of-type {\n",
       "        vertical-align: middle;\n",
       "    }\n",
       "\n",
       "    .dataframe tbody tr th {\n",
       "        vertical-align: top;\n",
       "    }\n",
       "\n",
       "    .dataframe thead th {\n",
       "        text-align: right;\n",
       "    }\n",
       "</style>\n",
       "<table border=\"1\" class=\"dataframe\">\n",
       "  <thead>\n",
       "    <tr style=\"text-align: right;\">\n",
       "      <th></th>\n",
       "      <th>sourceid</th>\n",
       "      <th>dstid</th>\n",
       "      <th>hod</th>\n",
       "      <th>mean_travel_time</th>\n",
       "      <th>standard_deviation_travel_time</th>\n",
       "      <th>geometric_mean_travel_time</th>\n",
       "      <th>geometric_standard_deviation_travel_time</th>\n",
       "    </tr>\n",
       "  </thead>\n",
       "  <tbody>\n",
       "    <tr>\n",
       "      <th>0</th>\n",
       "      <td>4</td>\n",
       "      <td>6</td>\n",
       "      <td>0</td>\n",
       "      <td>873.74</td>\n",
       "      <td>355.19</td>\n",
       "      <td>810.01</td>\n",
       "      <td>1.47</td>\n",
       "    </tr>\n",
       "    <tr>\n",
       "      <th>1</th>\n",
       "      <td>4</td>\n",
       "      <td>8</td>\n",
       "      <td>6</td>\n",
       "      <td>1677.16</td>\n",
       "      <td>545.10</td>\n",
       "      <td>1591.77</td>\n",
       "      <td>1.39</td>\n",
       "    </tr>\n",
       "    <tr>\n",
       "      <th>2</th>\n",
       "      <td>4</td>\n",
       "      <td>9</td>\n",
       "      <td>9</td>\n",
       "      <td>1959.37</td>\n",
       "      <td>466.70</td>\n",
       "      <td>1904.34</td>\n",
       "      <td>1.27</td>\n",
       "    </tr>\n",
       "    <tr>\n",
       "      <th>3</th>\n",
       "      <td>5</td>\n",
       "      <td>4</td>\n",
       "      <td>19</td>\n",
       "      <td>1471.08</td>\n",
       "      <td>285.52</td>\n",
       "      <td>1444.58</td>\n",
       "      <td>1.21</td>\n",
       "    </tr>\n",
       "    <tr>\n",
       "      <th>4</th>\n",
       "      <td>6</td>\n",
       "      <td>4</td>\n",
       "      <td>10</td>\n",
       "      <td>1382.60</td>\n",
       "      <td>625.00</td>\n",
       "      <td>1266.53</td>\n",
       "      <td>1.50</td>\n",
       "    </tr>\n",
       "  </tbody>\n",
       "</table>\n",
       "</div>"
      ],
      "text/plain": [
       "   sourceid  dstid  hod  mean_travel_time  standard_deviation_travel_time  \\\n",
       "0         4      6    0            873.74                          355.19   \n",
       "1         4      8    6           1677.16                          545.10   \n",
       "2         4      9    9           1959.37                          466.70   \n",
       "3         5      4   19           1471.08                          285.52   \n",
       "4         6      4   10           1382.60                          625.00   \n",
       "\n",
       "   geometric_mean_travel_time  geometric_standard_deviation_travel_time  \n",
       "0                      810.01                                      1.47  \n",
       "1                     1591.77                                      1.39  \n",
       "2                     1904.34                                      1.27  \n",
       "3                     1444.58                                      1.21  \n",
       "4                     1266.53                                      1.50  "
      ]
     },
     "execution_count": 3,
     "metadata": {
      "tags": []
     },
     "output_type": "execute_result"
    }
   ],
   "source": [
    "df.head()"
   ]
  },
  {
   "cell_type": "markdown",
   "metadata": {
    "colab_type": "text",
    "id": "D8iCUADxgGA3"
   },
   "source": [
    "De la misma forma que en los agregados horarios, `month` corresponde al mes sobre el cual se reportan los agregados."
   ]
  },
  {
   "cell_type": "code",
   "execution_count": 0,
   "metadata": {
    "colab": {
     "autoexec": {
      "startup": false,
      "wait_interval": 0
     }
    },
    "colab_type": "code",
    "id": "9t7UPrW_gGA3"
   },
   "outputs": [],
   "source": [
    "df = pd.read_csv('data/uber/2017-2/bogota-cadastral-2017-2-All-MonthlyAggregate.csv')"
   ]
  },
  {
   "cell_type": "code",
   "execution_count": 0,
   "metadata": {
    "colab": {
     "autoexec": {
      "startup": false,
      "wait_interval": 0
     }
    },
    "colab_type": "code",
    "id": "6U6jaATGgGA5",
    "outputId": "21c2c570-1e93-4e5e-9edd-fdb0d1717506"
   },
   "outputs": [
    {
     "data": {
      "text/html": [
       "<div>\n",
       "<style scoped>\n",
       "    .dataframe tbody tr th:only-of-type {\n",
       "        vertical-align: middle;\n",
       "    }\n",
       "\n",
       "    .dataframe tbody tr th {\n",
       "        vertical-align: top;\n",
       "    }\n",
       "\n",
       "    .dataframe thead th {\n",
       "        text-align: right;\n",
       "    }\n",
       "</style>\n",
       "<table border=\"1\" class=\"dataframe\">\n",
       "  <thead>\n",
       "    <tr style=\"text-align: right;\">\n",
       "      <th></th>\n",
       "      <th>sourceid</th>\n",
       "      <th>dstid</th>\n",
       "      <th>month</th>\n",
       "      <th>mean_travel_time</th>\n",
       "      <th>standard_deviation_travel_time</th>\n",
       "      <th>geometric_mean_travel_time</th>\n",
       "      <th>geometric_standard_deviation_travel_time</th>\n",
       "    </tr>\n",
       "  </thead>\n",
       "  <tbody>\n",
       "    <tr>\n",
       "      <th>0</th>\n",
       "      <td>368</td>\n",
       "      <td>706</td>\n",
       "      <td>4</td>\n",
       "      <td>1297.66</td>\n",
       "      <td>666.58</td>\n",
       "      <td>1183.32</td>\n",
       "      <td>1.50</td>\n",
       "    </tr>\n",
       "    <tr>\n",
       "      <th>1</th>\n",
       "      <td>527</td>\n",
       "      <td>963</td>\n",
       "      <td>6</td>\n",
       "      <td>1992.84</td>\n",
       "      <td>578.92</td>\n",
       "      <td>1914.77</td>\n",
       "      <td>1.33</td>\n",
       "    </tr>\n",
       "    <tr>\n",
       "      <th>2</th>\n",
       "      <td>134</td>\n",
       "      <td>549</td>\n",
       "      <td>6</td>\n",
       "      <td>2516.98</td>\n",
       "      <td>988.41</td>\n",
       "      <td>2336.02</td>\n",
       "      <td>1.48</td>\n",
       "    </tr>\n",
       "    <tr>\n",
       "      <th>3</th>\n",
       "      <td>80</td>\n",
       "      <td>477</td>\n",
       "      <td>6</td>\n",
       "      <td>2651.44</td>\n",
       "      <td>1096.23</td>\n",
       "      <td>2442.11</td>\n",
       "      <td>1.50</td>\n",
       "    </tr>\n",
       "    <tr>\n",
       "      <th>4</th>\n",
       "      <td>76</td>\n",
       "      <td>1129</td>\n",
       "      <td>6</td>\n",
       "      <td>1860.13</td>\n",
       "      <td>682.34</td>\n",
       "      <td>1751.34</td>\n",
       "      <td>1.41</td>\n",
       "    </tr>\n",
       "  </tbody>\n",
       "</table>\n",
       "</div>"
      ],
      "text/plain": [
       "   sourceid  dstid  month  mean_travel_time  standard_deviation_travel_time  \\\n",
       "0       368    706      4           1297.66                          666.58   \n",
       "1       527    963      6           1992.84                          578.92   \n",
       "2       134    549      6           2516.98                          988.41   \n",
       "3        80    477      6           2651.44                         1096.23   \n",
       "4        76   1129      6           1860.13                          682.34   \n",
       "\n",
       "   geometric_mean_travel_time  geometric_standard_deviation_travel_time  \n",
       "0                     1183.32                                      1.50  \n",
       "1                     1914.77                                      1.33  \n",
       "2                     2336.02                                      1.48  \n",
       "3                     2442.11                                      1.50  \n",
       "4                     1751.34                                      1.41  "
      ]
     },
     "execution_count": 5,
     "metadata": {
      "tags": []
     },
     "output_type": "execute_result"
    }
   ],
   "source": [
    "df.head()"
   ]
  },
  {
   "cell_type": "markdown",
   "metadata": {
    "colab_type": "text",
    "id": "Q4lu6m-ogGA_"
   },
   "source": [
    "**WeeklyAggregate** presenta los agregados de cada día de la semana durante el segundo trimestre de 2017. `dow` representa el día de la semana de 1 a 7, donde 1 es Lunes y 7 es Domingo."
   ]
  },
  {
   "cell_type": "code",
   "execution_count": 0,
   "metadata": {
    "colab": {
     "autoexec": {
      "startup": false,
      "wait_interval": 0
     }
    },
    "colab_type": "code",
    "id": "Q3Di60UbgGBA"
   },
   "outputs": [],
   "source": [
    "df = pd.read_csv('data/uber/2017-2/bogota-cadastral-2017-2-WeeklyAggregate.csv')"
   ]
  },
  {
   "cell_type": "code",
   "execution_count": 0,
   "metadata": {
    "colab": {
     "autoexec": {
      "startup": false,
      "wait_interval": 0
     }
    },
    "colab_type": "code",
    "id": "1Kibv8rMgGBD",
    "outputId": "d39aa070-6699-4800-a903-6dc83361b16a"
   },
   "outputs": [
    {
     "data": {
      "text/html": [
       "<div>\n",
       "<style scoped>\n",
       "    .dataframe tbody tr th:only-of-type {\n",
       "        vertical-align: middle;\n",
       "    }\n",
       "\n",
       "    .dataframe tbody tr th {\n",
       "        vertical-align: top;\n",
       "    }\n",
       "\n",
       "    .dataframe thead th {\n",
       "        text-align: right;\n",
       "    }\n",
       "</style>\n",
       "<table border=\"1\" class=\"dataframe\">\n",
       "  <thead>\n",
       "    <tr style=\"text-align: right;\">\n",
       "      <th></th>\n",
       "      <th>sourceid</th>\n",
       "      <th>dstid</th>\n",
       "      <th>dow</th>\n",
       "      <th>mean_travel_time</th>\n",
       "      <th>standard_deviation_travel_time</th>\n",
       "      <th>geometric_mean_travel_time</th>\n",
       "      <th>geometric_standard_deviation_travel_time</th>\n",
       "    </tr>\n",
       "  </thead>\n",
       "  <tbody>\n",
       "    <tr>\n",
       "      <th>0</th>\n",
       "      <td>53</td>\n",
       "      <td>1138</td>\n",
       "      <td>7</td>\n",
       "      <td>644.79</td>\n",
       "      <td>380.84</td>\n",
       "      <td>574.07</td>\n",
       "      <td>1.57</td>\n",
       "    </tr>\n",
       "    <tr>\n",
       "      <th>1</th>\n",
       "      <td>750</td>\n",
       "      <td>631</td>\n",
       "      <td>2</td>\n",
       "      <td>1967.10</td>\n",
       "      <td>738.83</td>\n",
       "      <td>1836.14</td>\n",
       "      <td>1.45</td>\n",
       "    </tr>\n",
       "    <tr>\n",
       "      <th>2</th>\n",
       "      <td>742</td>\n",
       "      <td>711</td>\n",
       "      <td>2</td>\n",
       "      <td>1782.59</td>\n",
       "      <td>652.02</td>\n",
       "      <td>1686.59</td>\n",
       "      <td>1.38</td>\n",
       "    </tr>\n",
       "    <tr>\n",
       "      <th>3</th>\n",
       "      <td>113</td>\n",
       "      <td>538</td>\n",
       "      <td>7</td>\n",
       "      <td>1311.87</td>\n",
       "      <td>465.08</td>\n",
       "      <td>1245.94</td>\n",
       "      <td>1.36</td>\n",
       "    </tr>\n",
       "    <tr>\n",
       "      <th>4</th>\n",
       "      <td>770</td>\n",
       "      <td>431</td>\n",
       "      <td>2</td>\n",
       "      <td>1391.98</td>\n",
       "      <td>645.27</td>\n",
       "      <td>1264.53</td>\n",
       "      <td>1.55</td>\n",
       "    </tr>\n",
       "  </tbody>\n",
       "</table>\n",
       "</div>"
      ],
      "text/plain": [
       "   sourceid  dstid  dow  mean_travel_time  standard_deviation_travel_time  \\\n",
       "0        53   1138    7            644.79                          380.84   \n",
       "1       750    631    2           1967.10                          738.83   \n",
       "2       742    711    2           1782.59                          652.02   \n",
       "3       113    538    7           1311.87                          465.08   \n",
       "4       770    431    2           1391.98                          645.27   \n",
       "\n",
       "   geometric_mean_travel_time  geometric_standard_deviation_travel_time  \n",
       "0                      574.07                                      1.57  \n",
       "1                     1836.14                                      1.45  \n",
       "2                     1686.59                                      1.38  \n",
       "3                     1245.94                                      1.36  \n",
       "4                     1264.53                                      1.55  "
      ]
     },
     "execution_count": 7,
     "metadata": {
      "tags": []
     },
     "output_type": "execute_result"
    }
   ],
   "source": [
    "df.head()"
   ]
  },
  {
   "cell_type": "markdown",
   "metadata": {
    "colab_type": "text",
    "id": "v_tN6rMdgGBG"
   },
   "source": [
    "### Agregado desde un origen para una ventana de tiempo entre 1 día a 3 meses:\n",
    "- Agregado por destino para todo el día. (Origen, destino, media, mínimo, máximo)\n",
    "- Agregado por destino para la franja horaria de 12am a 7am. (Origen, destino, media, mínimo, máximo)\n",
    "- Agregado por destino para la franja horaria de 7am a 10am. (Origen, destino, media, mínimo, máximo)\n",
    "- Agregado por destino para la franja horaria de 10am a 4pm. (Origen, destino, media, mínimo, máximo)\n",
    "- Agregado por destino para la franja horaria de 4pm a 7pm. (Origen, destino, media, mínimo, máximo)\n",
    "- Agregado por destino para la franja horaria de 7pm a 12am. (Origen, destino, media, mínimo, máximo)"
   ]
  },
  {
   "cell_type": "markdown",
   "metadata": {
    "colab_type": "text",
    "id": "Yb1NWhupgGBG"
   },
   "source": [
    "Por ejemplo, a continuación cargamos el agregado de viajes que partieron desde la zona de la florida el día 3 de Marzo de 2017."
   ]
  },
  {
   "cell_type": "code",
   "execution_count": 0,
   "metadata": {
    "colab": {
     "autoexec": {
      "startup": false,
      "wait_interval": 0
     }
    },
    "colab_type": "code",
    "id": "7Vgkwk5dgGBI"
   },
   "outputs": [],
   "source": [
    "df = pd.read_csv('data/uber/florida_3_01_All.csv')"
   ]
  },
  {
   "cell_type": "code",
   "execution_count": 0,
   "metadata": {
    "colab": {
     "autoexec": {
      "startup": false,
      "wait_interval": 0
     }
    },
    "colab_type": "code",
    "id": "AX7-iFecgGBL",
    "outputId": "03af9b62-86d9-4bf8-8132-7b61bc37dd2a"
   },
   "outputs": [
    {
     "data": {
      "text/html": [
       "<div>\n",
       "<style scoped>\n",
       "    .dataframe tbody tr th:only-of-type {\n",
       "        vertical-align: middle;\n",
       "    }\n",
       "\n",
       "    .dataframe tbody tr th {\n",
       "        vertical-align: top;\n",
       "    }\n",
       "\n",
       "    .dataframe thead th {\n",
       "        text-align: right;\n",
       "    }\n",
       "</style>\n",
       "<table border=\"1\" class=\"dataframe\">\n",
       "  <thead>\n",
       "    <tr style=\"text-align: right;\">\n",
       "      <th></th>\n",
       "      <th>Origen Movement ID</th>\n",
       "      <th>Nombre de origen</th>\n",
       "      <th>Destino Movement ID</th>\n",
       "      <th>Nombre de destino</th>\n",
       "      <th>Rango de fechas</th>\n",
       "      <th>Tiempo promedio de viaje (segundos)</th>\n",
       "      <th>Rango - Tiempo de viaje límite inferior (segundos)</th>\n",
       "      <th>Rango - Tiempo de viaje límite superior (segundos)</th>\n",
       "    </tr>\n",
       "  </thead>\n",
       "  <tbody>\n",
       "    <tr>\n",
       "      <th>0</th>\n",
       "      <td>644</td>\n",
       "      <td>FLORIDA, 006101 (644)</td>\n",
       "      <td>4</td>\n",
       "      <td>PALO BLANCO, 005501 (4)</td>\n",
       "      <td>3/1/2017, Cada día, Promedio diario</td>\n",
       "      <td>1380</td>\n",
       "      <td>892</td>\n",
       "      <td>2132</td>\n",
       "    </tr>\n",
       "    <tr>\n",
       "      <th>1</th>\n",
       "      <td>644</td>\n",
       "      <td>FLORIDA, 006101 (644)</td>\n",
       "      <td>6</td>\n",
       "      <td>BANCO CENTRAL, 007208 (6)</td>\n",
       "      <td>3/1/2017, Cada día, Promedio diario</td>\n",
       "      <td>548</td>\n",
       "      <td>361</td>\n",
       "      <td>830</td>\n",
       "    </tr>\n",
       "    <tr>\n",
       "      <th>2</th>\n",
       "      <td>644</td>\n",
       "      <td>FLORIDA, 006101 (644)</td>\n",
       "      <td>8</td>\n",
       "      <td>LA ESTANZUELA, 004104 (8)</td>\n",
       "      <td>3/1/2017, Cada día, Promedio diario</td>\n",
       "      <td>672</td>\n",
       "      <td>427</td>\n",
       "      <td>1055</td>\n",
       "    </tr>\n",
       "    <tr>\n",
       "      <th>3</th>\n",
       "      <td>644</td>\n",
       "      <td>FLORIDA, 006101 (644)</td>\n",
       "      <td>9</td>\n",
       "      <td>LAS NIEVES, 003102 (9)</td>\n",
       "      <td>3/1/2017, Cada día, Promedio diario</td>\n",
       "      <td>523</td>\n",
       "      <td>308</td>\n",
       "      <td>886</td>\n",
       "    </tr>\n",
       "    <tr>\n",
       "      <th>4</th>\n",
       "      <td>644</td>\n",
       "      <td>FLORIDA, 006101 (644)</td>\n",
       "      <td>12</td>\n",
       "      <td>LA CAPUCHINA, 003108 (12)</td>\n",
       "      <td>3/1/2017, Cada día, Promedio diario</td>\n",
       "      <td>789</td>\n",
       "      <td>413</td>\n",
       "      <td>1506</td>\n",
       "    </tr>\n",
       "  </tbody>\n",
       "</table>\n",
       "</div>"
      ],
      "text/plain": [
       "   Origen Movement ID       Nombre de origen  Destino Movement ID  \\\n",
       "0                 644  FLORIDA, 006101 (644)                    4   \n",
       "1                 644  FLORIDA, 006101 (644)                    6   \n",
       "2                 644  FLORIDA, 006101 (644)                    8   \n",
       "3                 644  FLORIDA, 006101 (644)                    9   \n",
       "4                 644  FLORIDA, 006101 (644)                   12   \n",
       "\n",
       "           Nombre de destino                      Rango de fechas  \\\n",
       "0    PALO BLANCO, 005501 (4)  3/1/2017, Cada día, Promedio diario   \n",
       "1  BANCO CENTRAL, 007208 (6)  3/1/2017, Cada día, Promedio diario   \n",
       "2  LA ESTANZUELA, 004104 (8)  3/1/2017, Cada día, Promedio diario   \n",
       "3     LAS NIEVES, 003102 (9)  3/1/2017, Cada día, Promedio diario   \n",
       "4  LA CAPUCHINA, 003108 (12)  3/1/2017, Cada día, Promedio diario   \n",
       "\n",
       "   Tiempo promedio de viaje (segundos)  \\\n",
       "0                                 1380   \n",
       "1                                  548   \n",
       "2                                  672   \n",
       "3                                  523   \n",
       "4                                  789   \n",
       "\n",
       "   Rango - Tiempo de viaje límite inferior (segundos)  \\\n",
       "0                                                892    \n",
       "1                                                361    \n",
       "2                                                427    \n",
       "3                                                308    \n",
       "4                                                413    \n",
       "\n",
       "   Rango - Tiempo de viaje límite superior (segundos)  \n",
       "0                                               2132   \n",
       "1                                                830   \n",
       "2                                               1055   \n",
       "3                                                886   \n",
       "4                                               1506   "
      ]
     },
     "execution_count": 79,
     "metadata": {
      "tags": []
     },
     "output_type": "execute_result"
    }
   ],
   "source": [
    "df.head()"
   ]
  },
  {
   "cell_type": "markdown",
   "metadata": {
    "colab_type": "text",
    "id": "kpkXcFuJgGBO"
   },
   "source": [
    "### Ideas:\n",
    "\n",
    "Vale la pena mencionar, que solo se entregan datos agregados, es decir, no se tienen los datos exactos de cuántos viajes ocurrieron entre un origen y un destino, ni el tiempo exacto que duró aquel viaje. A pesar de esto, es una herramienta útil para entender las dinámicas de la movilidad bogotana. Permite formularnos preguntas como:\n",
    "\n",
    "- ¿Se redujeron los tiempos de desplazamiento desde la 94 con la construcción del deprimido? ¿En cuanto se redujeron?\n",
    "- ¿Cuales son los orígenes predilectos para los viajes de uber en horas pico? ¿Cambian entre la hora pico de la mañana y la hora pico de la tarde?\n",
    "- ¿Cuales son los destinos predilectos para los viajes de uber en horas pico? ¿Cambian entre la hora pico de la mañana y la hora pico de la tarde?\n",
    "- ¿Qué influencia tiene la realización de un evento en el estadio el Campín a la movilidad de la zona de Galerías?"
   ]
  },
  {
   "cell_type": "markdown",
   "metadata": {
    "colab_type": "text",
    "id": "12ODWrsngGBO"
   },
   "source": [
    "Varias de estas días se han reportado en algunos medios que registraron la noticia de UBER Movement. A continuación, podrá encontrar un par de enlaces de interés, acerca del potencial que implica la liberación de los datos agregados de UBER en Bogotá D.C.\n",
    "\n",
    "- [Revista Dinero](http://www.dinero.com/economia/articulo/uber-movement-revelo-datos-clave-de-la-movilidad-de-bogota-en-2017/253076)\n",
    "- [The Verge](https://www.theverge.com/2018/3/15/17123372/uber-movement-urban-planning-tool-anonymized-ride-data-london)"
   ]
  },
  {
   "cell_type": "markdown",
   "metadata": {
    "colab_type": "text",
    "id": "WhtfgenLgGBR"
   },
   "source": [
    "## Aplicación Practica"
   ]
  },
  {
   "cell_type": "markdown",
   "metadata": {
    "colab_type": "text",
    "id": "nh3q53__gGBS"
   },
   "source": [
    "El siguiente taller va a permitir explorar los diferentes niveles de agregación que provee la información de UBER Movement."
   ]
  },
  {
   "cell_type": "markdown",
   "metadata": {
    "colab_type": "text",
    "id": "YZMaMZ6ggGBT"
   },
   "source": [
    "### 1. Usando los datos de navegación agregados - Para el segundo trimestre de 2017:\n",
    "\n",
    "Cada punto está descrito brevemente, sin embargo, más adelante se brindará información adicional para resolver cada punto.\n",
    "\n",
    "1. Encuentre cuales son los orígenes más comunes de viajes de Uber para el trimestre designado. Combine el archivo de viajes con el archivo de información de cada zona, con el objetivo de mostrar el nombre de la zona desde la cual se piden estos viajes.\n",
    "2. Encuentre cuales son los destinos más comunes de viajes de Uber para el trimestre designado. Combine el archivo de viajes con el archivo de información de cada zona, con el objetivo de mostrar el nombre de la zona desde la cual se piden estos viajes.\n",
    "3. ¿En qué porcentaje mejoró la movilidad en las hora pico de la tarde, luego de ponerse en funcionamiento el deprimido de la 94? Para evaluar este punto se tomará en cuenta un trayecto que comúnmente pasa a través de este deprimido: **SUPERCADE DE LA 30 - UNICENTRO**.\n",
    "\n",
    "### 2. Usando los datos desde un origen frecuente:\n",
    "\n",
    "Para la segunda parte se tomará un caso de estudio en concreto. Se analizarán los tiempos del recorrido **SUPERCADE DE LA 30 - UNICENTRO**. Se provee una carpeta que continene los datos agregados por día (todo el día, en horas pico de la mañana y en horas pico de la tarde) durante Marzo y Abril de 2017. Esto, con el objetivo de también analizar el impacto de la entrada en funcionamiento del deprimido.\n",
    "\n",
    "1. Construya la serie de tiempo de la ruta **SUPERCADE DE LA 30 - UNICENTRO** durante Marzo y Abril de 2017, recolectando la información agregada de tiempo durante todo el día, durante las horas pico de la mañana y durante las horas pico de la tarde. En total son 3 series de tiempo.\n",
    "\n",
    "2. Use las herramientas de visualización de Pandas e imprima las 3 series de tiempo en un gráfico.\n",
    "\n",
    "3. Filtre cada serie de tiempo a solo días entre semana e imprima las 3 series de tiempo en un gráfico. (**IMPORTANTE**: Descarte Jueves y Viernes Santo)\n",
    "\n",
    "4. Filtre cada serie de tiempo a solo fines de semana e imprima las 3 series de tiempo en un gráfico.\n",
    "\n",
    "5. Escoja otro trayecto, que atraviese el deprimido de la 94 y realice el mismo análisis. (**OPCIONAL**)"
   ]
  },
  {
   "cell_type": "markdown",
   "metadata": {
    "colab_type": "text",
    "id": "4hYBYMWsgGBV"
   },
   "source": [
    "## Desarrollo"
   ]
  },
  {
   "cell_type": "markdown",
   "metadata": {
    "colab_type": "text",
    "id": "pxewUhaagGBV"
   },
   "source": [
    "## 1. Usando los datos de navegación agregados\n",
    "\n",
    "Uber facilita la información geográfica de Bogotá en forma de polígonos o zonas. El archivo `bogota_cadastral.json` contiene para cada registro: secuencia de puntos que forman una zona, el nombre de la zona y el identificador MOVEMENT, que es el que utiliza Uber para referenciar las zonas de origen y destino de sus viajes. Usareos `Geopandas` para cargar la información de este archivo."
   ]
  },
  {
   "cell_type": "code",
   "execution_count": 0,
   "metadata": {
    "colab": {
     "autoexec": {
      "startup": false,
      "wait_interval": 0
     }
    },
    "colab_type": "code",
    "id": "Jv7oahocgGBY"
   },
   "outputs": [],
   "source": [
    "import geopandas as gpd"
   ]
  },
  {
   "cell_type": "code",
   "execution_count": 0,
   "metadata": {
    "colab": {
     "autoexec": {
      "startup": false,
      "wait_interval": 0
     }
    },
    "colab_type": "code",
    "id": "gbMxO9tHgGBa"
   },
   "outputs": [],
   "source": [
    "df_bogota = gpd.read_file('data/uber/bogota_cadastral.json')"
   ]
  },
  {
   "cell_type": "markdown",
   "metadata": {
    "colab_type": "text",
    "id": "364mlDtqgGBd"
   },
   "source": [
    "Las columnas `MOVEMENT_ID` y `scanombre` nos permiten saber qué zona estamos seleccionando en el conjunto de datos de UBER Movement. `geometry` contiene para cada registro, una secuencia de puntos que forman un polígono."
   ]
  },
  {
   "cell_type": "code",
   "execution_count": 0,
   "metadata": {
    "colab": {
     "autoexec": {
      "startup": false,
      "wait_interval": 0
     }
    },
    "colab_type": "code",
    "id": "auliISSqgGBd",
    "outputId": "e262e60d-e038-4517-d1ca-b7c1a16da029"
   },
   "outputs": [
    {
     "data": {
      "text/html": [
       "<div>\n",
       "<style scoped>\n",
       "    .dataframe tbody tr th:only-of-type {\n",
       "        vertical-align: middle;\n",
       "    }\n",
       "\n",
       "    .dataframe tbody tr th {\n",
       "        vertical-align: top;\n",
       "    }\n",
       "\n",
       "    .dataframe thead th {\n",
       "        text-align: right;\n",
       "    }\n",
       "</style>\n",
       "<table border=\"1\" class=\"dataframe\">\n",
       "  <thead>\n",
       "    <tr style=\"text-align: right;\">\n",
       "      <th></th>\n",
       "      <th>cartodb_id</th>\n",
       "      <th>scacodigo</th>\n",
       "      <th>scatipo</th>\n",
       "      <th>scanombre</th>\n",
       "      <th>shape_leng</th>\n",
       "      <th>shape_area</th>\n",
       "      <th>MOVEMENT_ID</th>\n",
       "      <th>DISPLAY_NAME</th>\n",
       "      <th>geometry</th>\n",
       "    </tr>\n",
       "  </thead>\n",
       "  <tbody>\n",
       "    <tr>\n",
       "      <th>0</th>\n",
       "      <td>12</td>\n",
       "      <td>004575</td>\n",
       "      <td>0</td>\n",
       "      <td>LOS LAURELES</td>\n",
       "      <td>0.027741</td>\n",
       "      <td>0.000037</td>\n",
       "      <td>1</td>\n",
       "      <td>LOS LAURELES, 004575 (1)</td>\n",
       "      <td>(POLYGON ((-74.200295 4.617249, -74.2002849999...</td>\n",
       "    </tr>\n",
       "    <tr>\n",
       "      <th>1</th>\n",
       "      <td>26</td>\n",
       "      <td>006524</td>\n",
       "      <td>0</td>\n",
       "      <td>LA MAGDALENA</td>\n",
       "      <td>0.053219</td>\n",
       "      <td>0.000089</td>\n",
       "      <td>2</td>\n",
       "      <td>LA MAGDALENA, 006524 (2)</td>\n",
       "      <td>(POLYGON ((-74.16276000000001 4.660079, -74.16...</td>\n",
       "    </tr>\n",
       "    <tr>\n",
       "      <th>2</th>\n",
       "      <td>45</td>\n",
       "      <td>102502</td>\n",
       "      <td>1</td>\n",
       "      <td>EL UVAL RURAL</td>\n",
       "      <td>0.171333</td>\n",
       "      <td>0.000708</td>\n",
       "      <td>3</td>\n",
       "      <td>EL UVAL RURAL, 102502 (3)</td>\n",
       "      <td>(POLYGON ((-74.11930700000001 4.490175, -74.11...</td>\n",
       "    </tr>\n",
       "    <tr>\n",
       "      <th>3</th>\n",
       "      <td>74</td>\n",
       "      <td>005501</td>\n",
       "      <td>0</td>\n",
       "      <td>PALO BLANCO</td>\n",
       "      <td>0.017187</td>\n",
       "      <td>0.000018</td>\n",
       "      <td>4</td>\n",
       "      <td>PALO BLANCO, 005501 (4)</td>\n",
       "      <td>(POLYGON ((-74.09353299999999 4.681014, -74.09...</td>\n",
       "    </tr>\n",
       "    <tr>\n",
       "      <th>4</th>\n",
       "      <td>77</td>\n",
       "      <td>009240</td>\n",
       "      <td>0</td>\n",
       "      <td>POTRERILLO</td>\n",
       "      <td>0.010527</td>\n",
       "      <td>0.000007</td>\n",
       "      <td>5</td>\n",
       "      <td>POTRERILLO, 009240 (5)</td>\n",
       "      <td>(POLYGON ((-74.097435 4.735314, -74.096203 4.7...</td>\n",
       "    </tr>\n",
       "  </tbody>\n",
       "</table>\n",
       "</div>"
      ],
      "text/plain": [
       "   cartodb_id scacodigo  scatipo      scanombre  shape_leng  shape_area  \\\n",
       "0          12    004575        0   LOS LAURELES    0.027741    0.000037   \n",
       "1          26    006524        0   LA MAGDALENA    0.053219    0.000089   \n",
       "2          45    102502        1  EL UVAL RURAL    0.171333    0.000708   \n",
       "3          74    005501        0    PALO BLANCO    0.017187    0.000018   \n",
       "4          77    009240        0     POTRERILLO    0.010527    0.000007   \n",
       "\n",
       "  MOVEMENT_ID               DISPLAY_NAME  \\\n",
       "0           1   LOS LAURELES, 004575 (1)   \n",
       "1           2   LA MAGDALENA, 006524 (2)   \n",
       "2           3  EL UVAL RURAL, 102502 (3)   \n",
       "3           4    PALO BLANCO, 005501 (4)   \n",
       "4           5     POTRERILLO, 009240 (5)   \n",
       "\n",
       "                                            geometry  \n",
       "0  (POLYGON ((-74.200295 4.617249, -74.2002849999...  \n",
       "1  (POLYGON ((-74.16276000000001 4.660079, -74.16...  \n",
       "2  (POLYGON ((-74.11930700000001 4.490175, -74.11...  \n",
       "3  (POLYGON ((-74.09353299999999 4.681014, -74.09...  \n",
       "4  (POLYGON ((-74.097435 4.735314, -74.096203 4.7...  "
      ]
     },
     "execution_count": 61,
     "metadata": {
      "tags": []
     },
     "output_type": "execute_result"
    }
   ],
   "source": [
    "df_bogota.head()"
   ]
  },
  {
   "cell_type": "markdown",
   "metadata": {
    "colab_type": "text",
    "id": "8n8GT9mOgGBh"
   },
   "source": [
    "Cargamos de nuevo el DataFrame del segundo trimestre de 2017"
   ]
  },
  {
   "cell_type": "code",
   "execution_count": 0,
   "metadata": {
    "colab": {
     "autoexec": {
      "startup": false,
      "wait_interval": 0
     }
    },
    "colab_type": "code",
    "id": "BWSHJuHqgGBj"
   },
   "outputs": [],
   "source": [
    "df = pd.read_csv('data/uber/2017-2/bogota-cadastral-2017-2-All-HourlyAggregate.csv')"
   ]
  },
  {
   "cell_type": "code",
   "execution_count": 0,
   "metadata": {
    "colab": {
     "autoexec": {
      "startup": false,
      "wait_interval": 0
     }
    },
    "colab_type": "code",
    "id": "3ZCcGTEXgGBm",
    "outputId": "15f52f6d-4c58-4d03-9071-9774a2f72a6d"
   },
   "outputs": [
    {
     "data": {
      "text/html": [
       "<div>\n",
       "<style scoped>\n",
       "    .dataframe tbody tr th:only-of-type {\n",
       "        vertical-align: middle;\n",
       "    }\n",
       "\n",
       "    .dataframe tbody tr th {\n",
       "        vertical-align: top;\n",
       "    }\n",
       "\n",
       "    .dataframe thead th {\n",
       "        text-align: right;\n",
       "    }\n",
       "</style>\n",
       "<table border=\"1\" class=\"dataframe\">\n",
       "  <thead>\n",
       "    <tr style=\"text-align: right;\">\n",
       "      <th></th>\n",
       "      <th>sourceid</th>\n",
       "      <th>dstid</th>\n",
       "      <th>hod</th>\n",
       "      <th>mean_travel_time</th>\n",
       "      <th>standard_deviation_travel_time</th>\n",
       "      <th>geometric_mean_travel_time</th>\n",
       "      <th>geometric_standard_deviation_travel_time</th>\n",
       "    </tr>\n",
       "  </thead>\n",
       "  <tbody>\n",
       "    <tr>\n",
       "      <th>0</th>\n",
       "      <td>4</td>\n",
       "      <td>6</td>\n",
       "      <td>0</td>\n",
       "      <td>873.74</td>\n",
       "      <td>355.19</td>\n",
       "      <td>810.01</td>\n",
       "      <td>1.47</td>\n",
       "    </tr>\n",
       "    <tr>\n",
       "      <th>1</th>\n",
       "      <td>4</td>\n",
       "      <td>8</td>\n",
       "      <td>6</td>\n",
       "      <td>1677.16</td>\n",
       "      <td>545.10</td>\n",
       "      <td>1591.77</td>\n",
       "      <td>1.39</td>\n",
       "    </tr>\n",
       "    <tr>\n",
       "      <th>2</th>\n",
       "      <td>4</td>\n",
       "      <td>9</td>\n",
       "      <td>9</td>\n",
       "      <td>1959.37</td>\n",
       "      <td>466.70</td>\n",
       "      <td>1904.34</td>\n",
       "      <td>1.27</td>\n",
       "    </tr>\n",
       "    <tr>\n",
       "      <th>3</th>\n",
       "      <td>5</td>\n",
       "      <td>4</td>\n",
       "      <td>19</td>\n",
       "      <td>1471.08</td>\n",
       "      <td>285.52</td>\n",
       "      <td>1444.58</td>\n",
       "      <td>1.21</td>\n",
       "    </tr>\n",
       "    <tr>\n",
       "      <th>4</th>\n",
       "      <td>6</td>\n",
       "      <td>4</td>\n",
       "      <td>10</td>\n",
       "      <td>1382.60</td>\n",
       "      <td>625.00</td>\n",
       "      <td>1266.53</td>\n",
       "      <td>1.50</td>\n",
       "    </tr>\n",
       "  </tbody>\n",
       "</table>\n",
       "</div>"
      ],
      "text/plain": [
       "   sourceid  dstid  hod  mean_travel_time  standard_deviation_travel_time  \\\n",
       "0         4      6    0            873.74                          355.19   \n",
       "1         4      8    6           1677.16                          545.10   \n",
       "2         4      9    9           1959.37                          466.70   \n",
       "3         5      4   19           1471.08                          285.52   \n",
       "4         6      4   10           1382.60                          625.00   \n",
       "\n",
       "   geometric_mean_travel_time  geometric_standard_deviation_travel_time  \n",
       "0                      810.01                                      1.47  \n",
       "1                     1591.77                                      1.39  \n",
       "2                     1904.34                                      1.27  \n",
       "3                     1444.58                                      1.21  \n",
       "4                     1266.53                                      1.50  "
      ]
     },
     "execution_count": 63,
     "metadata": {
      "tags": []
     },
     "output_type": "execute_result"
    }
   ],
   "source": [
    "df.head()"
   ]
  },
  {
   "cell_type": "markdown",
   "metadata": {
    "colab_type": "text",
    "id": "bJD48r4ugGBo"
   },
   "source": [
    "### 1.1.\n",
    "Encuentre cuales son los orígenes más comunes de viajes de Uber para el trimestre designado. Combine el archivo de viajes con el archivo de información de cada zona, con el objetivo de mostrar el nombre de la zona desde la cual se piden estos viajes."
   ]
  },
  {
   "cell_type": "code",
   "execution_count": 0,
   "metadata": {
    "colab": {
     "autoexec": {
      "startup": false,
      "wait_interval": 0
     }
    },
    "colab_type": "code",
    "id": "a1iy5x7bgGBp"
   },
   "outputs": [],
   "source": [
    "# PONGA SU CÓDIGO AQUÍ\n",
    "# Defina que sources sea igual a la columna sourceid del DataFrame df\n"
   ]
  },
  {
   "cell_type": "code",
   "execution_count": 0,
   "metadata": {
    "colab": {
     "autoexec": {
      "startup": false,
      "wait_interval": 0
     }
    },
    "colab_type": "code",
    "id": "kM_Fl8PWgGBs"
   },
   "outputs": [],
   "source": [
    "# USE ESTA CELDA PARA PROBAR SU CÓDIGO\n",
    "\n",
    "print sources.value_counts().head()\n",
    "print sources.value_counts().tail()"
   ]
  },
  {
   "cell_type": "code",
   "execution_count": 0,
   "metadata": {
    "colab": {
     "autoexec": {
      "startup": false,
      "wait_interval": 0
     }
    },
    "colab_type": "code",
    "id": "oxl_caOHgGBu",
    "outputId": "3e474bed-7eb1-4620-8287-5f75bb1483d1"
   },
   "outputs": [
    {
     "name": "stdout",
     "output_type": "stream",
     "text": [
      "60     20219\n",
      "644    19433\n",
      "871    18888\n",
      "491    18787\n",
      "288    18692\n",
      "Name: sourceid, dtype: int64\n",
      "964     2\n",
      "883     1\n",
      "1154    1\n",
      "639     1\n",
      "886     1\n",
      "Name: sourceid, dtype: int64\n"
     ]
    }
   ],
   "source": [
    "print sources.value_counts().head() # NO USE ESTA CELDA\n",
    "print sources.value_counts().tail()"
   ]
  },
  {
   "cell_type": "markdown",
   "metadata": {
    "colab_type": "text",
    "id": "5v19_7FigGBz"
   },
   "source": [
    "Ahora, unimos el archivo `bogota_cadastral.json`. Para esto, se extraeran las columnas `'MOVEMENT_ID'` y `'scanombre'` del DataFrame `df_bogota`"
   ]
  },
  {
   "cell_type": "code",
   "execution_count": 0,
   "metadata": {
    "colab": {
     "autoexec": {
      "startup": false,
      "wait_interval": 0
     }
    },
    "colab_type": "code",
    "id": "c26JZwVbgGBz"
   },
   "outputs": [],
   "source": [
    "# PONGA SU CÓDIGO AQUÍ\n",
    "# Cree movement_info usando solamente las columnas MOVEMENT_ID\n",
    "# y scanombre del DataFrame df_bogota\n",
    "\n"
   ]
  },
  {
   "cell_type": "markdown",
   "metadata": {
    "colab_type": "text",
    "id": "Cb3bBubfgGB1"
   },
   "source": [
    "Transformamos la columna a `'MOVEMENT_ID'` a tipo numérico para evitar cualquier confusión futura"
   ]
  },
  {
   "cell_type": "code",
   "execution_count": 0,
   "metadata": {
    "colab": {
     "autoexec": {
      "startup": false,
      "wait_interval": 0
     }
    },
    "colab_type": "code",
    "id": "Zam_GdESgGB1"
   },
   "outputs": [],
   "source": [
    "movement_info[['MOVEMENT_ID']] = movement_info[['MOVEMENT_ID']].apply(pd.to_numeric)"
   ]
  },
  {
   "cell_type": "code",
   "execution_count": 0,
   "metadata": {
    "colab": {
     "autoexec": {
      "startup": false,
      "wait_interval": 0
     }
    },
    "colab_type": "code",
    "id": "uKCeJ3tggGB4"
   },
   "outputs": [],
   "source": [
    "# USE ESTA CELDA PARA PROBAR SU CÓDIGO\n",
    "movement_info.head()"
   ]
  },
  {
   "cell_type": "code",
   "execution_count": 0,
   "metadata": {
    "colab": {
     "autoexec": {
      "startup": false,
      "wait_interval": 0
     }
    },
    "colab_type": "code",
    "id": "EbJTAiNrgGB9",
    "outputId": "aededb73-fe48-4be6-dc29-10e460c7ab30"
   },
   "outputs": [
    {
     "data": {
      "text/html": [
       "<div>\n",
       "<style scoped>\n",
       "    .dataframe tbody tr th:only-of-type {\n",
       "        vertical-align: middle;\n",
       "    }\n",
       "\n",
       "    .dataframe tbody tr th {\n",
       "        vertical-align: top;\n",
       "    }\n",
       "\n",
       "    .dataframe thead th {\n",
       "        text-align: right;\n",
       "    }\n",
       "</style>\n",
       "<table border=\"1\" class=\"dataframe\">\n",
       "  <thead>\n",
       "    <tr style=\"text-align: right;\">\n",
       "      <th></th>\n",
       "      <th>MOVEMENT_ID</th>\n",
       "      <th>scanombre</th>\n",
       "    </tr>\n",
       "  </thead>\n",
       "  <tbody>\n",
       "    <tr>\n",
       "      <th>0</th>\n",
       "      <td>1</td>\n",
       "      <td>LOS LAURELES</td>\n",
       "    </tr>\n",
       "    <tr>\n",
       "      <th>1</th>\n",
       "      <td>2</td>\n",
       "      <td>LA MAGDALENA</td>\n",
       "    </tr>\n",
       "    <tr>\n",
       "      <th>2</th>\n",
       "      <td>3</td>\n",
       "      <td>EL UVAL RURAL</td>\n",
       "    </tr>\n",
       "    <tr>\n",
       "      <th>3</th>\n",
       "      <td>4</td>\n",
       "      <td>PALO BLANCO</td>\n",
       "    </tr>\n",
       "    <tr>\n",
       "      <th>4</th>\n",
       "      <td>5</td>\n",
       "      <td>POTRERILLO</td>\n",
       "    </tr>\n",
       "  </tbody>\n",
       "</table>\n",
       "</div>"
      ],
      "text/plain": [
       "   MOVEMENT_ID      scanombre\n",
       "0            1   LOS LAURELES\n",
       "1            2   LA MAGDALENA\n",
       "2            3  EL UVAL RURAL\n",
       "3            4    PALO BLANCO\n",
       "4            5     POTRERILLO"
      ]
     },
     "execution_count": 68,
     "metadata": {
      "tags": []
     },
     "output_type": "execute_result"
    }
   ],
   "source": [
    "movement_info.head() # NO MODIFIQUE ESTA CELDA"
   ]
  },
  {
   "cell_type": "markdown",
   "metadata": {
    "colab_type": "text",
    "id": "kq3kzLcegGCA"
   },
   "source": [
    "Creamos un DataFrame con 2 columnas: `'MOVEMENT_ID'` y `'counting'`. **Tip**: Use `sources.value_counts().index` y `sources.value_counts().values` para cada una de las columnas."
   ]
  },
  {
   "cell_type": "code",
   "execution_count": 0,
   "metadata": {
    "colab": {
     "autoexec": {
      "startup": false,
      "wait_interval": 0
     }
    },
    "colab_type": "code",
    "id": "eLWYath8gGCB"
   },
   "outputs": [],
   "source": [
    "# PONGA SU CÓDIGO AQUÍ\n",
    "# Defina source_df"
   ]
  },
  {
   "cell_type": "code",
   "execution_count": 0,
   "metadata": {
    "colab": {
     "autoexec": {
      "startup": false,
      "wait_interval": 0
     }
    },
    "colab_type": "code",
    "id": "fVI71EBegGCD",
    "outputId": "04797adf-9177-483c-833d-82839ba690e1"
   },
   "outputs": [
    {
     "data": {
      "text/html": [
       "<div>\n",
       "<style scoped>\n",
       "    .dataframe tbody tr th:only-of-type {\n",
       "        vertical-align: middle;\n",
       "    }\n",
       "\n",
       "    .dataframe tbody tr th {\n",
       "        vertical-align: top;\n",
       "    }\n",
       "\n",
       "    .dataframe thead th {\n",
       "        text-align: right;\n",
       "    }\n",
       "</style>\n",
       "<table border=\"1\" class=\"dataframe\">\n",
       "  <thead>\n",
       "    <tr style=\"text-align: right;\">\n",
       "      <th></th>\n",
       "      <th>MOVEMENT_ID</th>\n",
       "      <th>counting</th>\n",
       "    </tr>\n",
       "  </thead>\n",
       "  <tbody>\n",
       "    <tr>\n",
       "      <th>0</th>\n",
       "      <td>60</td>\n",
       "      <td>20219</td>\n",
       "    </tr>\n",
       "    <tr>\n",
       "      <th>1</th>\n",
       "      <td>644</td>\n",
       "      <td>19433</td>\n",
       "    </tr>\n",
       "    <tr>\n",
       "      <th>2</th>\n",
       "      <td>871</td>\n",
       "      <td>18888</td>\n",
       "    </tr>\n",
       "    <tr>\n",
       "      <th>3</th>\n",
       "      <td>491</td>\n",
       "      <td>18787</td>\n",
       "    </tr>\n",
       "    <tr>\n",
       "      <th>4</th>\n",
       "      <td>288</td>\n",
       "      <td>18692</td>\n",
       "    </tr>\n",
       "  </tbody>\n",
       "</table>\n",
       "</div>"
      ],
      "text/plain": [
       "   MOVEMENT_ID  counting\n",
       "0           60     20219\n",
       "1          644     19433\n",
       "2          871     18888\n",
       "3          491     18787\n",
       "4          288     18692"
      ]
     },
     "execution_count": 70,
     "metadata": {
      "tags": []
     },
     "output_type": "execute_result"
    }
   ],
   "source": [
    "source_df.head() # NO MODIFIQUE ESTA CELDA"
   ]
  },
  {
   "cell_type": "markdown",
   "metadata": {
    "colab_type": "text",
    "id": "PvUsQDVrgGCI"
   },
   "source": [
    "Ahora, fusione el `source_df` con `movement_info`. **Tip**: `pd.merge` permite unir dos dataframes usando una columna como enlace. Esto quiere decir que aquellos elementos que no estén en ambas columnas, serán descartados."
   ]
  },
  {
   "cell_type": "code",
   "execution_count": 0,
   "metadata": {
    "colab": {
     "autoexec": {
      "startup": false,
      "wait_interval": 0
     }
    },
    "colab_type": "code",
    "id": "Q5xW5PGPgGCI"
   },
   "outputs": [],
   "source": [
    "# PONGA SU CÓDIGO AQUÍ\n",
    "# Fusione el source_df con movement_info\n"
   ]
  },
  {
   "cell_type": "code",
   "execution_count": 0,
   "metadata": {
    "colab": {
     "autoexec": {
      "startup": false,
      "wait_interval": 0
     }
    },
    "colab_type": "code",
    "id": "96qmpwI5gGCJ"
   },
   "outputs": [],
   "source": [
    "# USE ESTA CELDA PARA PROBAR SU CÓDIGO\n",
    "\n",
    "print source_df.head()\n",
    "print source_df.tail()"
   ]
  },
  {
   "cell_type": "code",
   "execution_count": 0,
   "metadata": {
    "colab": {
     "autoexec": {
      "startup": false,
      "wait_interval": 0
     }
    },
    "colab_type": "code",
    "id": "g9ChL1tPgGCL",
    "outputId": "d0eeb4b0-a9cc-4398-e10e-e81897cabb11"
   },
   "outputs": [
    {
     "name": "stdout",
     "output_type": "stream",
     "text": [
      "   MOVEMENT_ID  counting                scanombre\n",
      "0           60     20219  CORREDOR FERREO DEL SUR\n",
      "1          644     19433                  FLORIDA\n",
      "2          871     18888          CIUDAD HAYUELOS\n",
      "3          491     18787     CIUDAD UNIVERSITARIA\n",
      "4          288     18692                 RICAURTE\n",
      "      MOVEMENT_ID  counting             scanombre\n",
      "1019          964         2     MIRADOR DEL NORTE\n",
      "1020          883         1   EL BOSQUE CENTRAL I\n",
      "1021         1154         1               SIBERIA\n",
      "1022          639         1           EL PEDREGAL\n",
      "1023          886         1  BRAZUELOS OCCIDENTAL\n"
     ]
    }
   ],
   "source": [
    "print source_df.head() # NO MODIFIQUE ESTA CELDA\n",
    "print source_df.tail()"
   ]
  },
  {
   "cell_type": "markdown",
   "metadata": {
    "colab_type": "text",
    "id": "Ou3AXMOvgGCO"
   },
   "source": [
    "### 1.2.\n",
    "Encuentre cuales son los destinos más comunes de viajes de Uber para el trimestre designado. Combine el archivo de viajes con el archivo de información de cada zona, con el objetivo de mostrar el nombre de la zona desde la cual se piden estos viajes.\n",
    "\n",
    "Hacemos el mismo proceso para los destinos (Sin tener que volver a crear el dataframe `movement_info`):"
   ]
  },
  {
   "cell_type": "code",
   "execution_count": 0,
   "metadata": {
    "colab": {
     "autoexec": {
      "startup": false,
      "wait_interval": 0
     }
    },
    "colab_type": "code",
    "id": "AFc4hE7ugGCO"
   },
   "outputs": [],
   "source": [
    "# PONGA SU CÓDIGO AQUÍ\n",
    "# Defina que dests sea igual a la columna destid del DataFrame df\n"
   ]
  },
  {
   "cell_type": "code",
   "execution_count": 0,
   "metadata": {
    "colab": {
     "autoexec": {
      "startup": false,
      "wait_interval": 0
     }
    },
    "colab_type": "code",
    "id": "PRGN9FkqgGCR"
   },
   "outputs": [],
   "source": [
    "# PRUEBE SU CÓDIGO AQUÍ\n",
    "\n",
    "print dests.value_counts().head()\n",
    "print dests.value_counts().tail()"
   ]
  },
  {
   "cell_type": "code",
   "execution_count": 0,
   "metadata": {
    "colab": {
     "autoexec": {
      "startup": false,
      "wait_interval": 0
     }
    },
    "colab_type": "code",
    "id": "vVEeYvJpgGCT",
    "outputId": "040b3907-6ee8-4f5c-89bf-3152a8c0460a"
   },
   "outputs": [
    {
     "name": "stdout",
     "output_type": "stream",
     "text": [
      "60     20121\n",
      "644    19697\n",
      "871    19295\n",
      "700    19287\n",
      "800    19101\n",
      "Name: dstid, dtype: int64\n",
      "1124    9\n",
      "639     6\n",
      "258     5\n",
      "385     2\n",
      "428     2\n",
      "Name: dstid, dtype: int64\n"
     ]
    }
   ],
   "source": [
    "print dests.value_counts().head() # NO MODIFIQUE ESTA CELDA\n",
    "print dests.value_counts().tail()"
   ]
  },
  {
   "cell_type": "code",
   "execution_count": 0,
   "metadata": {
    "colab": {
     "autoexec": {
      "startup": false,
      "wait_interval": 0
     }
    },
    "colab_type": "code",
    "id": "7QFQSI5bgGCV"
   },
   "outputs": [],
   "source": [
    "# PONGA SU CÓDIGO AQUÍ\n",
    "# Defina dests_df\n",
    "# Fusione dests_df con movement_info\n",
    "\n",
    "dests_df = pd.DataFrame({'MOVEMENT_ID':dests.value_counts().index, 'counting':dests.value_counts().values})\n",
    "dests_df = pd.merge(dests_df, movement_info, on='MOVEMENT_ID')"
   ]
  },
  {
   "cell_type": "code",
   "execution_count": 0,
   "metadata": {
    "colab": {
     "autoexec": {
      "startup": false,
      "wait_interval": 0
     }
    },
    "colab_type": "code",
    "id": "3stGAsBigGCY"
   },
   "outputs": [],
   "source": [
    "# PRUEBE SU CÓDIGO AQUÍ\n",
    "\n",
    "print dests_df.head() \n",
    "print dests_df.tail()"
   ]
  },
  {
   "cell_type": "code",
   "execution_count": 0,
   "metadata": {
    "colab": {
     "autoexec": {
      "startup": false,
      "wait_interval": 0
     }
    },
    "colab_type": "code",
    "id": "v9dkrLnCgGCb",
    "outputId": "dc3d626c-94bc-41ee-f841-28fa82ccde7d"
   },
   "outputs": [
    {
     "name": "stdout",
     "output_type": "stream",
     "text": [
      "   MOVEMENT_ID  counting                scanombre\n",
      "0           60     20121  CORREDOR FERREO DEL SUR\n",
      "1          644     19697                  FLORIDA\n",
      "2          871     19295          CIUDAD HAYUELOS\n",
      "3          700     19287             LAS AMERICAS\n",
      "4          800     19101       LA ESPERANZA NORTE\n",
      "      MOVEMENT_ID  counting           scanombre\n",
      "1035         1124         9            EL CEDRO\n",
      "1036          639         6         EL PEDREGAL\n",
      "1037          258         5      EL CORZO RURAL\n",
      "1038          385         2       EL TINTAL III\n",
      "1039          428         2  MOLINOS DE ORIENTE\n"
     ]
    }
   ],
   "source": [
    "print dests_df.head() # NO MODIFIQUE ESTA CELDA\n",
    "print dests_df.tail()"
   ]
  },
  {
   "cell_type": "markdown",
   "metadata": {
    "colab_type": "text",
    "id": "GoWeL3U5gGCe"
   },
   "source": [
    "#### Visualizamos la información geográfica:\n",
    "\n",
    "A continuación proveemos una sección de código que nos muestra los polígonos contenidos en `bogota_cadastral.json`. Primero verificamos que `'MOVEMENT_ID'` sea una columna de tipo numérica y luego filtramos aquellas zonas que no aparezcan en la lista de zonas origen `sources`. Esto solo se hace con el objetivo de evitar que el mapa presente a todo Bogotá, debido a que muy rara vez se realizan viajes de Uber a la zona de Sumapaz."
   ]
  },
  {
   "cell_type": "code",
   "execution_count": 0,
   "metadata": {
    "colab": {
     "autoexec": {
      "startup": false,
      "wait_interval": 0
     }
    },
    "colab_type": "code",
    "id": "vX-RRUbOgGCe"
   },
   "outputs": [],
   "source": [
    "df_bogota.MOVEMENT_ID = df_bogota.MOVEMENT_ID.astype(np.int64)\n",
    "df_bogota_filtered = df_bogota.loc[df_bogota['MOVEMENT_ID'].isin(sources.unique())]"
   ]
  },
  {
   "cell_type": "markdown",
   "metadata": {
    "colab_type": "text",
    "id": "RoZMGtNZgGCg"
   },
   "source": [
    "Como se observa abajo, GeoPandas recibe elementos de matplotlib, con los cuales añade estilo al mapa generado."
   ]
  },
  {
   "cell_type": "code",
   "execution_count": 0,
   "metadata": {
    "colab": {
     "autoexec": {
      "startup": false,
      "wait_interval": 0
     }
    },
    "colab_type": "code",
    "id": "KK08Gd0GgGCh",
    "outputId": "d38c1533-e3af-4ed8-daa7-5c1a3aff8bdf"
   },
   "outputs": [
    {
     "data": {
      "text/plain": [
       "(-74.23244790000001, -73.98948209999999, 4.395338600000001, 4.8579854)"
      ]
     },
     "execution_count": 77,
     "metadata": {
      "tags": []
     },
     "output_type": "execute_result"
    },
    {
     "data": {
      "image/png": "[encoded data removed]",
      "text/plain": [
       "<Figure size 1080x720 with 1 Axes>"
      ]
     },
     "metadata": {
      "tags": []
     },
     "output_type": "display_data"
    }
   ],
   "source": [
    "f, ax = plt.subplots(1, figsize=(15, 10))\n",
    "ax.set_title(u'Bogotá')\n",
    "df_bogota_filtered.plot(ax=ax)\n",
    "ax.set_axis_off()\n",
    "plt.axis('equal')"
   ]
  },
  {
   "cell_type": "markdown",
   "metadata": {
    "colab_type": "text",
    "id": "LzGjgnwagGCl"
   },
   "source": [
    "### 1.3.\n",
    "¿En qué porcentaje mejoró la movilidad en las hora pico de la tarde, luego de ponerse en funcionamiento el deprimido de la 94? Para evaluar este punto se tomará en cuenta un trayecto que comúnmente pasa a través de este deprimido: SUPERCADE DE LA 30 - UNICENTRO. El SUPERCADE DE LA 30 está representado como la zona *FLORIDA*, con id 644. Mientras la zona de Unicentro está representada por la zona *Santa Barbara Occidental*, con id 326."
   ]
  },
  {
   "cell_type": "markdown",
   "metadata": {
    "colab_type": "text",
    "id": "ht7vLfA6gGCl"
   },
   "source": [
    "Cargamos los archivos `bogota-cadastral-2017-2-OnlyWeekdays-HourlyAggregate.csv` y `bogota-cadastral-2016-2-OnlyWeekdays-HourlyAggregate.csv` en `df_2017_2` y `df_2016_2` respectivamente."
   ]
  },
  {
   "cell_type": "code",
   "execution_count": 0,
   "metadata": {
    "colab": {
     "autoexec": {
      "startup": false,
      "wait_interval": 0
     }
    },
    "colab_type": "code",
    "id": "Y2X1C9C1gGCm"
   },
   "outputs": [],
   "source": [
    "df_2017_2 = pd.read_csv('data/uber/2017-2/bogota-cadastral-2017-2-OnlyWeekdays-HourlyAggregate.csv')\n",
    "df_2016_2 = pd.read_csv('data/uber/2016-2/bogota-cadastral-2016-2-OnlyWeekdays-HourlyAggregate.csv')"
   ]
  },
  {
   "cell_type": "code",
   "execution_count": 0,
   "metadata": {
    "colab": {
     "autoexec": {
      "startup": false,
      "wait_interval": 0
     }
    },
    "colab_type": "code",
    "id": "RIVsJDJOgGCn",
    "outputId": "568007f7-fd7e-44d9-8e7c-684352905885"
   },
   "outputs": [
    {
     "data": {
      "text/html": [
       "<div>\n",
       "<style scoped>\n",
       "    .dataframe tbody tr th:only-of-type {\n",
       "        vertical-align: middle;\n",
       "    }\n",
       "\n",
       "    .dataframe tbody tr th {\n",
       "        vertical-align: top;\n",
       "    }\n",
       "\n",
       "    .dataframe thead th {\n",
       "        text-align: right;\n",
       "    }\n",
       "</style>\n",
       "<table border=\"1\" class=\"dataframe\">\n",
       "  <thead>\n",
       "    <tr style=\"text-align: right;\">\n",
       "      <th></th>\n",
       "      <th>sourceid</th>\n",
       "      <th>dstid</th>\n",
       "      <th>hod</th>\n",
       "      <th>mean_travel_time</th>\n",
       "      <th>standard_deviation_travel_time</th>\n",
       "      <th>geometric_mean_travel_time</th>\n",
       "      <th>geometric_standard_deviation_travel_time</th>\n",
       "    </tr>\n",
       "  </thead>\n",
       "  <tbody>\n",
       "    <tr>\n",
       "      <th>0</th>\n",
       "      <td>4</td>\n",
       "      <td>6</td>\n",
       "      <td>0</td>\n",
       "      <td>853.22</td>\n",
       "      <td>344.13</td>\n",
       "      <td>788.49</td>\n",
       "      <td>1.48</td>\n",
       "    </tr>\n",
       "    <tr>\n",
       "      <th>1</th>\n",
       "      <td>4</td>\n",
       "      <td>8</td>\n",
       "      <td>6</td>\n",
       "      <td>1793.80</td>\n",
       "      <td>525.03</td>\n",
       "      <td>1721.41</td>\n",
       "      <td>1.33</td>\n",
       "    </tr>\n",
       "    <tr>\n",
       "      <th>2</th>\n",
       "      <td>4</td>\n",
       "      <td>9</td>\n",
       "      <td>9</td>\n",
       "      <td>2028.88</td>\n",
       "      <td>438.35</td>\n",
       "      <td>1983.36</td>\n",
       "      <td>1.24</td>\n",
       "    </tr>\n",
       "    <tr>\n",
       "      <th>3</th>\n",
       "      <td>5</td>\n",
       "      <td>4</td>\n",
       "      <td>19</td>\n",
       "      <td>1346.33</td>\n",
       "      <td>183.04</td>\n",
       "      <td>1334.16</td>\n",
       "      <td>1.14</td>\n",
       "    </tr>\n",
       "    <tr>\n",
       "      <th>4</th>\n",
       "      <td>6</td>\n",
       "      <td>4</td>\n",
       "      <td>10</td>\n",
       "      <td>1336.50</td>\n",
       "      <td>443.70</td>\n",
       "      <td>1275.49</td>\n",
       "      <td>1.34</td>\n",
       "    </tr>\n",
       "  </tbody>\n",
       "</table>\n",
       "</div>"
      ],
      "text/plain": [
       "   sourceid  dstid  hod  mean_travel_time  standard_deviation_travel_time  \\\n",
       "0         4      6    0            853.22                          344.13   \n",
       "1         4      8    6           1793.80                          525.03   \n",
       "2         4      9    9           2028.88                          438.35   \n",
       "3         5      4   19           1346.33                          183.04   \n",
       "4         6      4   10           1336.50                          443.70   \n",
       "\n",
       "   geometric_mean_travel_time  geometric_standard_deviation_travel_time  \n",
       "0                      788.49                                      1.48  \n",
       "1                     1721.41                                      1.33  \n",
       "2                     1983.36                                      1.24  \n",
       "3                     1334.16                                      1.14  \n",
       "4                     1275.49                                      1.34  "
      ]
     },
     "execution_count": 25,
     "metadata": {
      "tags": []
     },
     "output_type": "execute_result"
    }
   ],
   "source": [
    "df_2017_2.head()"
   ]
  },
  {
   "cell_type": "markdown",
   "metadata": {
    "colab_type": "text",
    "id": "jVXZiQutgGCq"
   },
   "source": [
    "Filtre ambos dataframes, reteniendo solo aquellos registros que estén entre las horas 16 y 19. (Sin incluir a las 19:00hs). **Tip**: Utilice `df.loc[(_) & (_)]`."
   ]
  },
  {
   "cell_type": "code",
   "execution_count": 0,
   "metadata": {
    "colab": {
     "autoexec": {
      "startup": false,
      "wait_interval": 0
     }
    },
    "colab_type": "code",
    "id": "xuLzQNwbgGCr"
   },
   "outputs": [],
   "source": [
    "# PONGA SU CÓDIGO AQUÍ\n",
    "# Redefina df_2016_2 y df_2017_2 reteniendo solo aquellos registros que estén entre las horas 16 y 19\n"
   ]
  },
  {
   "cell_type": "code",
   "execution_count": 0,
   "metadata": {
    "colab": {
     "autoexec": {
      "startup": false,
      "wait_interval": 0
     }
    },
    "colab_type": "code",
    "id": "PcHESo3AgGCv"
   },
   "outputs": [],
   "source": [
    "# PRUEBE SU CÓDIGO AQUÍ\n",
    "\n",
    "print df_2016_2.head() \n",
    "print df_2017_2.head()"
   ]
  },
  {
   "cell_type": "code",
   "execution_count": 0,
   "metadata": {
    "colab": {
     "autoexec": {
      "startup": false,
      "wait_interval": 0
     }
    },
    "colab_type": "code",
    "id": "SjUzF5xtgGCx",
    "outputId": "b75a9a98-ee4f-47a3-dcab-19b0b1186700"
   },
   "outputs": [
    {
     "name": "stdout",
     "output_type": "stream",
     "text": [
      "    sourceid  dstid  hod  mean_travel_time  standard_deviation_travel_time  \\\n",
      "3        338   1093   17           1273.76                          389.06   \n",
      "4        339   1083   17           1856.77                          536.11   \n",
      "17       152     53   16           1831.84                          425.16   \n",
      "18       151     63   16           1436.85                          898.20   \n",
      "39      1129    702   18            214.81                          141.69   \n",
      "\n",
      "    geometric_mean_travel_time  geometric_standard_deviation_travel_time  \n",
      "3                      1225.01                                      1.31  \n",
      "4                      1793.47                                      1.29  \n",
      "17                     1789.41                                      1.24  \n",
      "18                     1256.33                                      1.62  \n",
      "39                      175.13                                      1.98  \n",
      "    sourceid  dstid  hod  mean_travel_time  standard_deviation_travel_time  \\\n",
      "7          9      4   17           2611.40                          752.77   \n",
      "29         6     29   17            162.98                          182.26   \n",
      "33         8     11   18           1315.07                          295.03   \n",
      "48         4     64   18           1533.76                          465.77   \n",
      "49         6     44   18           1688.86                          363.22   \n",
      "\n",
      "    geometric_mean_travel_time  geometric_standard_deviation_travel_time  \n",
      "7                      2487.35                                      1.39  \n",
      "29                      111.38                                      2.41  \n",
      "33                     1275.77                                      1.30  \n",
      "48                     1457.19                                      1.39  \n",
      "49                     1644.40                                      1.27  \n"
     ]
    }
   ],
   "source": [
    "print df_2016_2.head() # NO MODIFIQUE ESTA CELDA\n",
    "print df_2017_2.head()"
   ]
  },
  {
   "cell_type": "markdown",
   "metadata": {
    "colab_type": "text",
    "id": "UxPj7W0HgGC2"
   },
   "source": [
    "De la misma forma, ahora se filtra cada Dataframe para obtener solo los tiempos de viaje entre la zona con ID 644 (**SUPERCADE DE LA 30**) y la zona con ID 326 (**UNICENTRO**)"
   ]
  },
  {
   "cell_type": "code",
   "execution_count": 0,
   "metadata": {
    "colab": {
     "autoexec": {
      "startup": false,
      "wait_interval": 0
     }
    },
    "colab_type": "code",
    "id": "SMVOGOcsgGC2"
   },
   "outputs": [],
   "source": [
    "# PONGA SU CÓDIGO AQUÍ\n",
    "# Defina time_florida_unicentro_2016 y time_florida_unicentro_2017\n",
    "# Cada uno se obtiene filtrando df_2016_2 y df_2017_2  usando .loc \n",
    "# Al final cada nuevo dataframe debe tener solo 3 registros:\n",
    "# El tiempo agregado todo el día, en las horas pico de la mañana\n",
    "# Y en las horas pico de la tarde\n"
   ]
  },
  {
   "cell_type": "code",
   "execution_count": 0,
   "metadata": {
    "colab": {
     "autoexec": {
      "startup": false,
      "wait_interval": 0
     }
    },
    "colab_type": "code",
    "id": "kC3WVRx_gGC4"
   },
   "outputs": [],
   "source": [
    "# PRUEBE SU CÓDIGO AQUÍ\n",
    "\n",
    "time_florida_unicentro_2016.sort_values('hod')"
   ]
  },
  {
   "cell_type": "code",
   "execution_count": 0,
   "metadata": {
    "colab": {
     "autoexec": {
      "startup": false,
      "wait_interval": 0
     }
    },
    "colab_type": "code",
    "id": "raYkIxccgGC8",
    "outputId": "79a38b38-d492-40a3-8cbf-bfee07802f82"
   },
   "outputs": [
    {
     "data": {
      "text/html": [
       "<div>\n",
       "<style scoped>\n",
       "    .dataframe tbody tr th:only-of-type {\n",
       "        vertical-align: middle;\n",
       "    }\n",
       "\n",
       "    .dataframe tbody tr th {\n",
       "        vertical-align: top;\n",
       "    }\n",
       "\n",
       "    .dataframe thead th {\n",
       "        text-align: right;\n",
       "    }\n",
       "</style>\n",
       "<table border=\"1\" class=\"dataframe\">\n",
       "  <thead>\n",
       "    <tr style=\"text-align: right;\">\n",
       "      <th></th>\n",
       "      <th>sourceid</th>\n",
       "      <th>dstid</th>\n",
       "      <th>hod</th>\n",
       "      <th>mean_travel_time</th>\n",
       "      <th>standard_deviation_travel_time</th>\n",
       "      <th>geometric_mean_travel_time</th>\n",
       "      <th>geometric_standard_deviation_travel_time</th>\n",
       "    </tr>\n",
       "  </thead>\n",
       "  <tbody>\n",
       "    <tr>\n",
       "      <th>3890987</th>\n",
       "      <td>644</td>\n",
       "      <td>326</td>\n",
       "      <td>16</td>\n",
       "      <td>1635.59</td>\n",
       "      <td>802.74</td>\n",
       "      <td>1482.08</td>\n",
       "      <td>1.54</td>\n",
       "    </tr>\n",
       "    <tr>\n",
       "      <th>230278</th>\n",
       "      <td>644</td>\n",
       "      <td>326</td>\n",
       "      <td>17</td>\n",
       "      <td>2440.68</td>\n",
       "      <td>830.90</td>\n",
       "      <td>2287.22</td>\n",
       "      <td>1.46</td>\n",
       "    </tr>\n",
       "    <tr>\n",
       "      <th>277253</th>\n",
       "      <td>644</td>\n",
       "      <td>326</td>\n",
       "      <td>18</td>\n",
       "      <td>1855.26</td>\n",
       "      <td>836.75</td>\n",
       "      <td>1591.44</td>\n",
       "      <td>1.85</td>\n",
       "    </tr>\n",
       "  </tbody>\n",
       "</table>\n",
       "</div>"
      ],
      "text/plain": [
       "         sourceid  dstid  hod  mean_travel_time  \\\n",
       "3890987       644    326   16           1635.59   \n",
       "230278        644    326   17           2440.68   \n",
       "277253        644    326   18           1855.26   \n",
       "\n",
       "         standard_deviation_travel_time  geometric_mean_travel_time  \\\n",
       "3890987                          802.74                     1482.08   \n",
       "230278                           830.90                     2287.22   \n",
       "277253                           836.75                     1591.44   \n",
       "\n",
       "         geometric_standard_deviation_travel_time  \n",
       "3890987                                      1.54  \n",
       "230278                                       1.46  \n",
       "277253                                       1.85  "
      ]
     },
     "execution_count": 74,
     "metadata": {
      "tags": []
     },
     "output_type": "execute_result"
    }
   ],
   "source": [
    "time_florida_unicentro_2016.sort_values('hod') # NO MODIFIQUE ESTA CELDA"
   ]
  },
  {
   "cell_type": "code",
   "execution_count": 0,
   "metadata": {
    "colab": {
     "autoexec": {
      "startup": false,
      "wait_interval": 0
     }
    },
    "colab_type": "code",
    "id": "a2QoKG1fgGDB",
    "outputId": "72e65a87-6bc3-4973-8d13-105660229013"
   },
   "outputs": [
    {
     "data": {
      "text/html": [
       "<div>\n",
       "<style scoped>\n",
       "    .dataframe tbody tr th:only-of-type {\n",
       "        vertical-align: middle;\n",
       "    }\n",
       "\n",
       "    .dataframe tbody tr th {\n",
       "        vertical-align: top;\n",
       "    }\n",
       "\n",
       "    .dataframe thead th {\n",
       "        text-align: right;\n",
       "    }\n",
       "</style>\n",
       "<table border=\"1\" class=\"dataframe\">\n",
       "  <thead>\n",
       "    <tr style=\"text-align: right;\">\n",
       "      <th></th>\n",
       "      <th>sourceid</th>\n",
       "      <th>dstid</th>\n",
       "      <th>hod</th>\n",
       "      <th>mean_travel_time</th>\n",
       "      <th>standard_deviation_travel_time</th>\n",
       "      <th>geometric_mean_travel_time</th>\n",
       "      <th>geometric_standard_deviation_travel_time</th>\n",
       "    </tr>\n",
       "  </thead>\n",
       "  <tbody>\n",
       "    <tr>\n",
       "      <th>4466722</th>\n",
       "      <td>644</td>\n",
       "      <td>326</td>\n",
       "      <td>16</td>\n",
       "      <td>1535.80</td>\n",
       "      <td>714.09</td>\n",
       "      <td>1398.89</td>\n",
       "      <td>1.54</td>\n",
       "    </tr>\n",
       "    <tr>\n",
       "      <th>4740735</th>\n",
       "      <td>644</td>\n",
       "      <td>326</td>\n",
       "      <td>17</td>\n",
       "      <td>2155.74</td>\n",
       "      <td>874.06</td>\n",
       "      <td>1929.15</td>\n",
       "      <td>1.69</td>\n",
       "    </tr>\n",
       "    <tr>\n",
       "      <th>4828394</th>\n",
       "      <td>644</td>\n",
       "      <td>326</td>\n",
       "      <td>18</td>\n",
       "      <td>1323.40</td>\n",
       "      <td>821.74</td>\n",
       "      <td>1081.46</td>\n",
       "      <td>1.90</td>\n",
       "    </tr>\n",
       "  </tbody>\n",
       "</table>\n",
       "</div>"
      ],
      "text/plain": [
       "         sourceid  dstid  hod  mean_travel_time  \\\n",
       "4466722       644    326   16           1535.80   \n",
       "4740735       644    326   17           2155.74   \n",
       "4828394       644    326   18           1323.40   \n",
       "\n",
       "         standard_deviation_travel_time  geometric_mean_travel_time  \\\n",
       "4466722                          714.09                     1398.89   \n",
       "4740735                          874.06                     1929.15   \n",
       "4828394                          821.74                     1081.46   \n",
       "\n",
       "         geometric_standard_deviation_travel_time  \n",
       "4466722                                      1.54  \n",
       "4740735                                      1.69  \n",
       "4828394                                      1.90  "
      ]
     },
     "execution_count": 75,
     "metadata": {
      "tags": []
     },
     "output_type": "execute_result"
    }
   ],
   "source": [
    "time_florida_unicentro_2017.sort_values('hod') # NO MODIFIQUE ESTA CELDA"
   ]
  },
  {
   "cell_type": "markdown",
   "metadata": {
    "colab_type": "text",
    "id": "5TOf4w8_gGDF"
   },
   "source": [
    "Una vez haya extraído tanto `time_florida_unicentro_2016` como `time_florida_unicentro_2017`. Ejecute las siguientes líneas de código para verificar en qué porcentaje mejoró o empeoró la movilidad con el deprimido de la 94."
   ]
  },
  {
   "cell_type": "code",
   "execution_count": 0,
   "metadata": {
    "colab": {
     "autoexec": {
      "startup": false,
      "wait_interval": 0
     }
    },
    "colab_type": "code",
    "id": "0ecR_9s3gGDG"
   },
   "outputs": [],
   "source": [
    "time_florida_unicentro_2016 = time_florida_unicentro_2016.sort_values('hod')['mean_travel_time'].values\n",
    "time_florida_unicentro_2017 = time_florida_unicentro_2017.sort_values('hod')['mean_travel_time'].values\n",
    "\n",
    "time_change = 1 - (time_florida_unicentro_2017 / time_florida_unicentro_2016)"
   ]
  },
  {
   "cell_type": "code",
   "execution_count": 0,
   "metadata": {
    "colab": {
     "autoexec": {
      "startup": false,
      "wait_interval": 0
     }
    },
    "colab_type": "code",
    "id": "ebwWpk69gGDL"
   },
   "outputs": [],
   "source": [
    "time_change"
   ]
  },
  {
   "cell_type": "markdown",
   "metadata": {
    "colab_type": "text",
    "id": "JCD5VzuvgGDN"
   },
   "source": [
    "¿Mejoró? ¿Empeoró?"
   ]
  },
  {
   "cell_type": "markdown",
   "metadata": {
    "colab_type": "text",
    "id": "b6tbKKfagGDN"
   },
   "source": [
    "## 2. Usando los datos desde un origen frecuente"
   ]
  },
  {
   "cell_type": "markdown",
   "metadata": {
    "colab_type": "text",
    "id": "qKuLMzyJgGDN"
   },
   "source": [
    "Se ha escogido la FLORIDA (SUPERCADE DE LA 30), como el punto de estudio. Se ha descargado la información de viajes promedio por día desde la Florida, hacia todos los destinos posibles en Bogotá durante los meses de Marzo y Abril del 2017. Los archivos se encuentran organizados de tal manera que cada uno contenga la información de un solo día. Por ejemplo el archivo `florida_3_01_All.csv` contiene los tiempos agregados del primero de Marzo desde la Florida hacía todos los distintos destinos de Bogotá. `florida_3_01_AM.csv` contiene los tiempos agregados en las horas pico de la mañana del primero de Marzo desde la Florida hacía los distintos destinos de Bogotá. Y finalmente, `florida_3_01_PM.csv` contiene los tiempos agregados en las horas pico de la tarde del primero de Marzo desde la Florida hacía los distintos destinos de Bogotá.\n",
    "\n",
    "Los archivos tienen la siguiente estructura:\n",
    "`florida_{mes}_{día}_{All|AM|PM}.csv`"
   ]
  },
  {
   "cell_type": "code",
   "execution_count": 0,
   "metadata": {
    "colab": {
     "autoexec": {
      "startup": false,
      "wait_interval": 0
     }
    },
    "colab_type": "code",
    "id": "AMbiq-y5gGDP",
    "outputId": "909bde00-fa28-4965-adb9-5301c0e4eb8e"
   },
   "outputs": [
    {
     "name": "stdout",
     "output_type": "stream",
     "text": [
      "\"Origen Movement ID\",\"Nombre de origen\",\"Destino Movement ID\",\"Nombre de destino\",\"Rango de fechas\",\"Tiempo promedio de viaje (segundos)\",\"Rango - Tiempo de viaje límite inferior (segundos)\",\"Rango - Tiempo de viaje límite superior (segundos)\"\r\n",
      "\"644\",\"FLORIDA, 006101 (644)\",\"4\",\"PALO BLANCO, 005501 (4)\",\"3/1/2017, Cada día, Promedio diario\",1380,892,2132\r\n",
      "\"644\",\"FLORIDA, 006101 (644)\",\"6\",\"BANCO CENTRAL, 007208 (6)\",\"3/1/2017, Cada día, Promedio diario\",548,361,830\r\n"
     ]
    }
   ],
   "source": [
    "!head -n 3 data/uber/FLORIDA/florida_3_01_All.csv"
   ]
  },
  {
   "cell_type": "code",
   "execution_count": 0,
   "metadata": {
    "colab": {
     "autoexec": {
      "startup": false,
      "wait_interval": 0
     }
    },
    "colab_type": "code",
    "id": "uzY-6GhogGDS",
    "outputId": "5698e4ba-8443-4f1b-dd9f-218038329862"
   },
   "outputs": [
    {
     "name": "stdout",
     "output_type": "stream",
     "text": [
      "\"Origen Movement ID\",\"Nombre de origen\",\"Destino Movement ID\",\"Nombre de destino\",\"Rango de fechas\",\"Tiempo promedio de viaje (segundos)\",\"Rango - Tiempo de viaje límite inferior (segundos)\",\"Rango - Tiempo de viaje límite superior (segundos)\"\r\n",
      "\"644\",\"FLORIDA, 006101 (644)\",\"6\",\"BANCO CENTRAL, 007208 (6)\",\"3/1/2017, Cada día, AM pico\",795,568,1111\r\n",
      "\"644\",\"FLORIDA, 006101 (644)\",\"8\",\"LA ESTANZUELA, 004104 (8)\",\"3/1/2017, Cada día, AM pico\",624,477,815\r\n"
     ]
    }
   ],
   "source": [
    "!head -n 3 data/uber/FLORIDA/florida_3_01_AM.csv"
   ]
  },
  {
   "cell_type": "code",
   "execution_count": 0,
   "metadata": {
    "colab": {
     "autoexec": {
      "startup": false,
      "wait_interval": 0
     }
    },
    "colab_type": "code",
    "id": "KJgVyVLEgGDX",
    "outputId": "66d9bfbe-350b-447c-dcb4-bb38b2072b91"
   },
   "outputs": [
    {
     "name": "stdout",
     "output_type": "stream",
     "text": [
      "\"Origen Movement ID\",\"Nombre de origen\",\"Destino Movement ID\",\"Nombre de destino\",\"Rango de fechas\",\"Tiempo promedio de viaje (segundos)\",\"Rango - Tiempo de viaje límite inferior (segundos)\",\"Rango - Tiempo de viaje límite superior (segundos)\"\r\n",
      "\"644\",\"FLORIDA, 006101 (644)\",\"4\",\"PALO BLANCO, 005501 (4)\",\"3/1/2017, Cada día, PM pico\",2022,1422,2873\r\n",
      "\"644\",\"FLORIDA, 006101 (644)\",\"6\",\"BANCO CENTRAL, 007208 (6)\",\"3/1/2017, Cada día, PM pico\",831,566,1218\r\n"
     ]
    }
   ],
   "source": [
    "!head -n 3 data/uber/FLORIDA/florida_3_01_PM.csv"
   ]
  },
  {
   "cell_type": "markdown",
   "metadata": {
    "colab_type": "text",
    "id": "smhjcd42gGDa"
   },
   "source": [
    "Se deben crear tres listas, en las que cada una contendrá los archivos ordenados de los agregados del día, de los agregados de las horas pico de la mañana y los agregados de las horas pico de la tarde. Usando `glob`, se pueden listar los archivos de una carpeta usando un *wildcard* (\\*)"
   ]
  },
  {
   "cell_type": "code",
   "execution_count": 0,
   "metadata": {
    "colab": {
     "autoexec": {
      "startup": false,
      "wait_interval": 0
     }
    },
    "colab_type": "code",
    "id": "Vi5Kmj7JgGDa"
   },
   "outputs": [],
   "source": [
    "import glob\n",
    "\n",
    "list_files_all = sorted(glob.glob('data/uber/FLORIDA/florida*All.csv'))"
   ]
  },
  {
   "cell_type": "code",
   "execution_count": 0,
   "metadata": {
    "colab": {
     "autoexec": {
      "startup": false,
      "wait_interval": 0
     }
    },
    "colab_type": "code",
    "id": "TaXrhcWVgGDc",
    "outputId": "3135501a-e121-4e11-ab6f-3db06c2a059c"
   },
   "outputs": [
    {
     "data": {
      "text/plain": [
       "['data/uber/FLORIDA/florida_3_01_All.csv',\n",
       " 'data/uber/FLORIDA/florida_3_02_All.csv',\n",
       " 'data/uber/FLORIDA/florida_3_03_All.csv',\n",
       " 'data/uber/FLORIDA/florida_3_04_All.csv',\n",
       " 'data/uber/FLORIDA/florida_3_05_All.csv']"
      ]
     },
     "execution_count": 30,
     "metadata": {
      "tags": []
     },
     "output_type": "execute_result"
    }
   ],
   "source": [
    "list_files_all[:5]"
   ]
  },
  {
   "cell_type": "markdown",
   "metadata": {
    "colab_type": "text",
    "id": "cphtJZVMgGDe"
   },
   "source": [
    "Hacemos el mismo proceso para los archivos de agregados de las horas pico de la mañana y de la tarde"
   ]
  },
  {
   "cell_type": "code",
   "execution_count": 0,
   "metadata": {
    "colab": {
     "autoexec": {
      "startup": false,
      "wait_interval": 0
     }
    },
    "colab_type": "code",
    "id": "OlBo3IiTgGDe"
   },
   "outputs": [],
   "source": [
    "list_files_morning = sorted(glob.glob('data/uber/FLORIDA/florida*AM.csv'))\n",
    "list_files_afternoon = sorted(glob.glob('data/uber/FLORIDA/florida*PM.csv'))"
   ]
  },
  {
   "cell_type": "markdown",
   "metadata": {
    "colab_type": "text",
    "id": "l3gbYAHhgGDg"
   },
   "source": [
    "Cargamos cada día como un DataFrame"
   ]
  },
  {
   "cell_type": "code",
   "execution_count": 0,
   "metadata": {
    "colab": {
     "autoexec": {
      "startup": false,
      "wait_interval": 0
     }
    },
    "colab_type": "code",
    "id": "9uKewToVgGDg"
   },
   "outputs": [],
   "source": [
    "list_df_all = [pd.read_csv(path) for path in list_files_all]\n",
    "list_df_morning = [pd.read_csv(path) for path in list_files_morning]\n",
    "list_df_afternoon = [pd.read_csv(path) for path in list_files_afternoon]"
   ]
  },
  {
   "cell_type": "code",
   "execution_count": 0,
   "metadata": {
    "colab": {
     "autoexec": {
      "startup": false,
      "wait_interval": 0
     }
    },
    "colab_type": "code",
    "id": "DB9bWIKogGDi",
    "outputId": "95552b4e-e579-4e2d-d838-aafc50279599"
   },
   "outputs": [
    {
     "data": {
      "text/html": [
       "<div>\n",
       "<style scoped>\n",
       "    .dataframe tbody tr th:only-of-type {\n",
       "        vertical-align: middle;\n",
       "    }\n",
       "\n",
       "    .dataframe tbody tr th {\n",
       "        vertical-align: top;\n",
       "    }\n",
       "\n",
       "    .dataframe thead th {\n",
       "        text-align: right;\n",
       "    }\n",
       "</style>\n",
       "<table border=\"1\" class=\"dataframe\">\n",
       "  <thead>\n",
       "    <tr style=\"text-align: right;\">\n",
       "      <th></th>\n",
       "      <th>Origen Movement ID</th>\n",
       "      <th>Nombre de origen</th>\n",
       "      <th>Destino Movement ID</th>\n",
       "      <th>Nombre de destino</th>\n",
       "      <th>Rango de fechas</th>\n",
       "      <th>Tiempo promedio de viaje (segundos)</th>\n",
       "      <th>Rango - Tiempo de viaje límite inferior (segundos)</th>\n",
       "      <th>Rango - Tiempo de viaje límite superior (segundos)</th>\n",
       "    </tr>\n",
       "  </thead>\n",
       "  <tbody>\n",
       "    <tr>\n",
       "      <th>0</th>\n",
       "      <td>644</td>\n",
       "      <td>FLORIDA, 006101 (644)</td>\n",
       "      <td>6</td>\n",
       "      <td>BANCO CENTRAL, 007208 (6)</td>\n",
       "      <td>4/30/2017, Cada día, PM pico</td>\n",
       "      <td>557</td>\n",
       "      <td>414</td>\n",
       "      <td>747</td>\n",
       "    </tr>\n",
       "    <tr>\n",
       "      <th>1</th>\n",
       "      <td>644</td>\n",
       "      <td>FLORIDA, 006101 (644)</td>\n",
       "      <td>8</td>\n",
       "      <td>LA ESTANZUELA, 004104 (8)</td>\n",
       "      <td>4/30/2017, Cada día, PM pico</td>\n",
       "      <td>486</td>\n",
       "      <td>370</td>\n",
       "      <td>637</td>\n",
       "    </tr>\n",
       "    <tr>\n",
       "      <th>2</th>\n",
       "      <td>644</td>\n",
       "      <td>FLORIDA, 006101 (644)</td>\n",
       "      <td>9</td>\n",
       "      <td>LAS NIEVES, 003102 (9)</td>\n",
       "      <td>4/30/2017, Cada día, PM pico</td>\n",
       "      <td>256</td>\n",
       "      <td>161</td>\n",
       "      <td>406</td>\n",
       "    </tr>\n",
       "    <tr>\n",
       "      <th>3</th>\n",
       "      <td>644</td>\n",
       "      <td>FLORIDA, 006101 (644)</td>\n",
       "      <td>12</td>\n",
       "      <td>LA CAPUCHINA, 003108 (12)</td>\n",
       "      <td>4/30/2017, Cada día, PM pico</td>\n",
       "      <td>431</td>\n",
       "      <td>303</td>\n",
       "      <td>612</td>\n",
       "    </tr>\n",
       "    <tr>\n",
       "      <th>4</th>\n",
       "      <td>644</td>\n",
       "      <td>FLORIDA, 006101 (644)</td>\n",
       "      <td>23</td>\n",
       "      <td>QUINTA RAMOS, 001206 (23)</td>\n",
       "      <td>4/30/2017, Cada día, PM pico</td>\n",
       "      <td>1127</td>\n",
       "      <td>897</td>\n",
       "      <td>1415</td>\n",
       "    </tr>\n",
       "  </tbody>\n",
       "</table>\n",
       "</div>"
      ],
      "text/plain": [
       "   Origen Movement ID       Nombre de origen  Destino Movement ID  \\\n",
       "0                 644  FLORIDA, 006101 (644)                    6   \n",
       "1                 644  FLORIDA, 006101 (644)                    8   \n",
       "2                 644  FLORIDA, 006101 (644)                    9   \n",
       "3                 644  FLORIDA, 006101 (644)                   12   \n",
       "4                 644  FLORIDA, 006101 (644)                   23   \n",
       "\n",
       "           Nombre de destino               Rango de fechas  \\\n",
       "0  BANCO CENTRAL, 007208 (6)  4/30/2017, Cada día, PM pico   \n",
       "1  LA ESTANZUELA, 004104 (8)  4/30/2017, Cada día, PM pico   \n",
       "2     LAS NIEVES, 003102 (9)  4/30/2017, Cada día, PM pico   \n",
       "3  LA CAPUCHINA, 003108 (12)  4/30/2017, Cada día, PM pico   \n",
       "4  QUINTA RAMOS, 001206 (23)  4/30/2017, Cada día, PM pico   \n",
       "\n",
       "   Tiempo promedio de viaje (segundos)  \\\n",
       "0                                  557   \n",
       "1                                  486   \n",
       "2                                  256   \n",
       "3                                  431   \n",
       "4                                 1127   \n",
       "\n",
       "   Rango - Tiempo de viaje límite inferior (segundos)  \\\n",
       "0                                                414    \n",
       "1                                                370    \n",
       "2                                                161    \n",
       "3                                                303    \n",
       "4                                                897    \n",
       "\n",
       "   Rango - Tiempo de viaje límite superior (segundos)  \n",
       "0                                                747   \n",
       "1                                                637   \n",
       "2                                                406   \n",
       "3                                                612   \n",
       "4                                               1415   "
      ]
     },
     "execution_count": 46,
     "metadata": {
      "tags": []
     },
     "output_type": "execute_result"
    }
   ],
   "source": [
    "list_df_afternoon[-1].head()"
   ]
  },
  {
   "cell_type": "markdown",
   "metadata": {
    "colab_type": "text",
    "id": "EazQayQXgGDk"
   },
   "source": [
    "### Visualización de la información\n",
    "\n",
    "A continuación visualizaremos los tiempos en minutos hacia las diferentes zonas de Bogotá, partiendo desde la zona FLORIDA. Usaremos los datos agregados de las horas pico de la tarde del 30 de Abril de 2017 para la visualización. Para esto, crearemos un DataFrame `df_times_test`, que contiene un `MOVEMENT_ID` del destino y el tiempo promedio gastado hacia ese destino."
   ]
  },
  {
   "cell_type": "code",
   "execution_count": 0,
   "metadata": {
    "colab": {
     "autoexec": {
      "startup": false,
      "wait_interval": 0
     }
    },
    "colab_type": "code",
    "id": "Dc_8HY47gGDk"
   },
   "outputs": [],
   "source": [
    "april_test_df = list_df_afternoon[-1] #El último elemento corresponde al 30 de Abril\n",
    "\n",
    "df_times_test = pd.DataFrame({'MOVEMENT_ID': april_test_df[april_test_df.columns[2]],\n",
    "                              'time': april_test_df[april_test_df.columns[5]]})"
   ]
  },
  {
   "cell_type": "markdown",
   "metadata": {
    "colab_type": "text",
    "id": "An0X6OAzgGDm"
   },
   "source": [
    "Luego fusionamos ambos DataFrames. Debido a que estamos trabajando con un GeoDataFrame, debemos usar `gpd.GeoDataFrame.merge` en vez de `pd.merge`. Adicionalmente creamos una columna, la cual expresa el tiempo gastado a un destino en minutos."
   ]
  },
  {
   "cell_type": "code",
   "execution_count": 0,
   "metadata": {
    "colab": {
     "autoexec": {
      "startup": false,
      "wait_interval": 0
     }
    },
    "colab_type": "code",
    "id": "vH9kJFDlgGDn"
   },
   "outputs": [],
   "source": [
    "df_bogota.MOVEMENT_ID = df_bogota.MOVEMENT_ID.astype(np.int64)\n",
    "\n",
    "df_times_test = gpd.GeoDataFrame.merge(df_bogota, df_times_test, on='MOVEMENT_ID')\n",
    "df_times_test['time_minutes'] = df_times_test['time'] / 60"
   ]
  },
  {
   "cell_type": "code",
   "execution_count": 0,
   "metadata": {
    "colab": {
     "autoexec": {
      "startup": false,
      "wait_interval": 0
     }
    },
    "colab_type": "code",
    "id": "Hma3CLP3gGDp",
    "outputId": "3515e3fb-101d-4a96-eb4e-694926ad0721"
   },
   "outputs": [
    {
     "data": {
      "text/html": [
       "<div>\n",
       "<style scoped>\n",
       "    .dataframe tbody tr th:only-of-type {\n",
       "        vertical-align: middle;\n",
       "    }\n",
       "\n",
       "    .dataframe tbody tr th {\n",
       "        vertical-align: top;\n",
       "    }\n",
       "\n",
       "    .dataframe thead th {\n",
       "        text-align: right;\n",
       "    }\n",
       "</style>\n",
       "<table border=\"1\" class=\"dataframe\">\n",
       "  <thead>\n",
       "    <tr style=\"text-align: right;\">\n",
       "      <th></th>\n",
       "      <th>cartodb_id</th>\n",
       "      <th>scacodigo</th>\n",
       "      <th>scatipo</th>\n",
       "      <th>scanombre</th>\n",
       "      <th>shape_leng</th>\n",
       "      <th>shape_area</th>\n",
       "      <th>MOVEMENT_ID</th>\n",
       "      <th>DISPLAY_NAME</th>\n",
       "      <th>geometry</th>\n",
       "      <th>time</th>\n",
       "      <th>time_minutes</th>\n",
       "    </tr>\n",
       "  </thead>\n",
       "  <tbody>\n",
       "    <tr>\n",
       "      <th>0</th>\n",
       "      <td>108</td>\n",
       "      <td>007208</td>\n",
       "      <td>0</td>\n",
       "      <td>BANCO CENTRAL</td>\n",
       "      <td>0.014862</td>\n",
       "      <td>0.000013</td>\n",
       "      <td>6</td>\n",
       "      <td>BANCO CENTRAL, 007208 (6)</td>\n",
       "      <td>(POLYGON ((-74.071786 4.642472, -74.0715430000...</td>\n",
       "      <td>557</td>\n",
       "      <td>9.283333</td>\n",
       "    </tr>\n",
       "    <tr>\n",
       "      <th>1</th>\n",
       "      <td>183</td>\n",
       "      <td>004104</td>\n",
       "      <td>0</td>\n",
       "      <td>LA ESTANZUELA</td>\n",
       "      <td>0.029466</td>\n",
       "      <td>0.000036</td>\n",
       "      <td>8</td>\n",
       "      <td>LA ESTANZUELA, 004104 (8)</td>\n",
       "      <td>(POLYGON ((-74.091623 4.597399, -74.091398 4.5...</td>\n",
       "      <td>486</td>\n",
       "      <td>8.100000</td>\n",
       "    </tr>\n",
       "    <tr>\n",
       "      <th>2</th>\n",
       "      <td>223</td>\n",
       "      <td>003102</td>\n",
       "      <td>0</td>\n",
       "      <td>LAS NIEVES</td>\n",
       "      <td>0.024801</td>\n",
       "      <td>0.000037</td>\n",
       "      <td>9</td>\n",
       "      <td>LAS NIEVES, 003102 (9)</td>\n",
       "      <td>(POLYGON ((-74.073802 4.60692, -74.07320199999...</td>\n",
       "      <td>256</td>\n",
       "      <td>4.266667</td>\n",
       "    </tr>\n",
       "    <tr>\n",
       "      <th>3</th>\n",
       "      <td>290</td>\n",
       "      <td>003108</td>\n",
       "      <td>0</td>\n",
       "      <td>LA CAPUCHINA</td>\n",
       "      <td>0.021162</td>\n",
       "      <td>0.000024</td>\n",
       "      <td>12</td>\n",
       "      <td>LA CAPUCHINA, 003108 (12)</td>\n",
       "      <td>(POLYGON ((-74.078091 4.606167, -74.077551 4.6...</td>\n",
       "      <td>431</td>\n",
       "      <td>7.183333</td>\n",
       "    </tr>\n",
       "    <tr>\n",
       "      <th>4</th>\n",
       "      <td>619</td>\n",
       "      <td>001206</td>\n",
       "      <td>0</td>\n",
       "      <td>QUINTA RAMOS</td>\n",
       "      <td>0.009461</td>\n",
       "      <td>0.000006</td>\n",
       "      <td>23</td>\n",
       "      <td>QUINTA RAMOS, 001206 (23)</td>\n",
       "      <td>(POLYGON ((-74.088142 4.577244, -74.088219 4.5...</td>\n",
       "      <td>1127</td>\n",
       "      <td>18.783333</td>\n",
       "    </tr>\n",
       "  </tbody>\n",
       "</table>\n",
       "</div>"
      ],
      "text/plain": [
       "   cartodb_id scacodigo  scatipo      scanombre  shape_leng  shape_area  \\\n",
       "0         108    007208        0  BANCO CENTRAL    0.014862    0.000013   \n",
       "1         183    004104        0  LA ESTANZUELA    0.029466    0.000036   \n",
       "2         223    003102        0     LAS NIEVES    0.024801    0.000037   \n",
       "3         290    003108        0   LA CAPUCHINA    0.021162    0.000024   \n",
       "4         619    001206        0   QUINTA RAMOS    0.009461    0.000006   \n",
       "\n",
       "   MOVEMENT_ID               DISPLAY_NAME  \\\n",
       "0            6  BANCO CENTRAL, 007208 (6)   \n",
       "1            8  LA ESTANZUELA, 004104 (8)   \n",
       "2            9     LAS NIEVES, 003102 (9)   \n",
       "3           12  LA CAPUCHINA, 003108 (12)   \n",
       "4           23  QUINTA RAMOS, 001206 (23)   \n",
       "\n",
       "                                            geometry  time  time_minutes  \n",
       "0  (POLYGON ((-74.071786 4.642472, -74.0715430000...   557      9.283333  \n",
       "1  (POLYGON ((-74.091623 4.597399, -74.091398 4.5...   486      8.100000  \n",
       "2  (POLYGON ((-74.073802 4.60692, -74.07320199999...   256      4.266667  \n",
       "3  (POLYGON ((-74.078091 4.606167, -74.077551 4.6...   431      7.183333  \n",
       "4  (POLYGON ((-74.088142 4.577244, -74.088219 4.5...  1127     18.783333  "
      ]
     },
     "execution_count": 80,
     "metadata": {
      "tags": []
     },
     "output_type": "execute_result"
    }
   ],
   "source": [
    "df_times_test.head()"
   ]
  },
  {
   "cell_type": "markdown",
   "metadata": {
    "colab_type": "text",
    "id": "qojeF8HWgGDs"
   },
   "source": [
    "Con el objetivo de visualizar los puntos de origen y destino en el mapa, se usa la herramienta de calculo de centroides de GeoPandas. Esto nos permite extraer el centroide de un polígono. `cents` es ahora una GeoSerie, que contiene la información geográfica de cada punto. (SUPERCADE DE LA 30 y UNICENTRO)"
   ]
  },
  {
   "cell_type": "code",
   "execution_count": 0,
   "metadata": {
    "colab": {
     "autoexec": {
      "startup": false,
      "wait_interval": 0
     }
    },
    "colab_type": "code",
    "id": "x0BQG6NLgGDs",
    "outputId": "5b209947-ddba-433d-da26-ea41f72cd4e6"
   },
   "outputs": [
    {
     "data": {
      "text/plain": [
       "325    POINT (-74.04871421020594 4.701745717764982)\n",
       "643    POINT (-74.08004747802593 4.623532947145633)\n",
       "dtype: object"
      ]
     },
     "execution_count": 81,
     "metadata": {
      "tags": []
     },
     "output_type": "execute_result"
    }
   ],
   "source": [
    "source_dest_points = df_bogota.loc[df_bogota['MOVEMENT_ID'].isin([644, 326])]\n",
    "cents = source_dest_points.centroid\n",
    "cents.head()"
   ]
  },
  {
   "cell_type": "markdown",
   "metadata": {
    "colab_type": "text",
    "id": "JCQNyMvogGDt"
   },
   "source": [
    "Ahora combinamos el mapas con los puntos de origen y destino, para finalmente obtener un mapa del tiempo aproximado que se gastaba una persona para movilizarse del Supercade de la 30 a cualquier zona de la ciudad el 30 de Abril de 2017."
   ]
  },
  {
   "cell_type": "code",
   "execution_count": 0,
   "metadata": {
    "colab": {
     "autoexec": {
      "startup": false,
      "wait_interval": 0
     }
    },
    "colab_type": "code",
    "id": "blKmQmTBgGDw",
    "outputId": "c679b56d-1256-4f90-8ad1-ccf778efa126"
   },
   "outputs": [
    {
     "data": {
      "text/plain": [
       "(-74.23244790000001, -73.9894821, 4.3953386000000005, 4.857985399999999)"
      ]
     },
     "execution_count": 98,
     "metadata": {
      "tags": []
     },
     "output_type": "execute_result"
    },
    {
     "data": {
      "image/png": "[encoded data removed]",
      "text/plain": [
       "<Figure size 1080x720 with 1 Axes>"
      ]
     },
     "metadata": {
      "tags": []
     },
     "output_type": "display_data"
    }
   ],
   "source": [
    "f, ax = plt.subplots(1, figsize=(15, 10))\n",
    "ax.set_title(u'Tiempo promedio de viaje desde el Supercade de la 30')\n",
    "\n",
    "# Imprimimos el mapa cloroplético con la columna 'time_minutes'\n",
    "df_times_test.plot(column='time_minutes', scheme='fisher_jenks', k=10, \n",
    "                   cmap=plt.cm.Blues, legend=True, ax=ax) # k nos permite controlar el número de clases para el mapa\n",
    "\n",
    "# Imprimimos Bogotá de fondo\n",
    "df_bogota_filtered.plot(color='None', edgecolor='black', linewidth=0.1, ax=ax)\n",
    "\n",
    "# Imprimimos los puntos de origen y destino de la ruta \"FLORIDA - UNICENTRO\"\n",
    "cents.plot(color='Red', ax=ax)\n",
    "\n",
    "# Añadimos los nombres de los puntos de origen y destino de la ruta \"FLORIDA - UNICENTRO\"\n",
    "props = dict(boxstyle='round', facecolor='linen', alpha=1)\n",
    "for point, txt in zip(cents.iteritems(), ['UNICENTRO', 'FLORIDA']):\n",
    "    ax.text(point[1].x,\n",
    "            point[1].y - 0.015,\n",
    "            txt,\n",
    "            horizontalalignment='center',\n",
    "            fontsize=10,\n",
    "            bbox=props)\n",
    "\n",
    "# Eliminamos los ejes\n",
    "ax.set_axis_off()\n",
    "plt.axis('equal')"
   ]
  },
  {
   "cell_type": "markdown",
   "metadata": {
    "colab_type": "text",
    "id": "2Vb27xjhgGDx"
   },
   "source": [
    "### 2.1.\n",
    "Construya la serie de tiempo de la ruta SUPERCADE DE LA 30 - UNICENTRO durante Marzo y Abril de 2017, recolectando la información agregada de tiempo durante todo el día, durante las horas pico de la mañana y durante las horas pico de la tarde. En total son 3 series de tiempo."
   ]
  },
  {
   "cell_type": "markdown",
   "metadata": {
    "colab_type": "text",
    "id": "Lj1c09h6gGDy"
   },
   "source": [
    "\n",
    "\n",
    "Primero defina una función `extract_time`, que reciba una lista de DataFrames (Agregado diario, agregado hora pico mañana o agregado hora pico tarde), el destino, y el tipo de dato agregado que quiere usar para la serie de tiempo (Promedio, valor mínimo o valor máximo). Como se muestra más adelante, debe retornar una lista de 61 elementos que corresponden a los tiempos agregados hacia el destino solicitado. Debido a que los dataframes fueron creados por orden cronológico, no hay necesidad de volver a ordenarlos para obtener los datos de forma correcta. **Tip:** Use .values para extraer los valores en crudo de un DataFrame"
   ]
  },
  {
   "cell_type": "code",
   "execution_count": 0,
   "metadata": {
    "colab": {
     "autoexec": {
      "startup": false,
      "wait_interval": 0
     }
    },
    "colab_type": "code",
    "id": "BBXA8jFqgGDy"
   },
   "outputs": [],
   "source": [
    "def extract_time(list_dfs, dest, tipo='mean'):\n",
    "    \"\"\"\n",
    "    list_dfs: lista, contiene la lista de DataFrames\n",
    "    dest: int, contiene el MOVEMENT_ID del destino\n",
    "    tipo: string, 'mean', 'min' o 'max'\n",
    "    \n",
    "    Regresa:\n",
    "    time_list: lista, lista del tamaño de list_dfs, \n",
    "               que contiene los tiempos agregados hacia \n",
    "               el destino dest, organizados por fecha.\n",
    "    \"\"\"\n",
    "    \n",
    "    time_list = []\n",
    "    for df in list_dfs:\n",
    "        if tipo == 'mean':\n",
    "            value = # DEFINA SU CÓDIGO AQUÍ. Use .values\n",
    "        elif tipo == 'min':\n",
    "            value = # DEFINA SU CÓDIGO AQUÍ\n",
    "        else:\n",
    "            value = # DEFINA SU CÓDIGO AQUÍ\n",
    "        value = value[0] if len(value) >= 1 else None\n",
    "        time_list.append(value)\n",
    "    return time_list"
   ]
  },
  {
   "cell_type": "markdown",
   "metadata": {
    "colab_type": "text",
    "id": "HOhkCT78gGD0"
   },
   "source": [
    "Use las dos siguientes celdas para probar que la función haya quedado bien diseñada"
   ]
  },
  {
   "cell_type": "code",
   "execution_count": 0,
   "metadata": {
    "colab": {
     "autoexec": {
      "startup": false,
      "wait_interval": 0
     }
    },
    "colab_type": "code",
    "id": "MD4RfWmagGD0"
   },
   "outputs": [],
   "source": [
    "# PRUEBE SU CÓDIGO AQUÍ\n",
    "extract_time(list_df_all, 326, tipo='min')[:5]"
   ]
  },
  {
   "cell_type": "code",
   "execution_count": 0,
   "metadata": {
    "colab": {
     "autoexec": {
      "startup": false,
      "wait_interval": 0
     }
    },
    "colab_type": "code",
    "id": "1WQVG3YWgGD4"
   },
   "outputs": [],
   "source": [
    "# PRUEBE SU CÓDIGO AQUÍ\n",
    "len(extract_time(list_df_all, 326, tipo='min'))"
   ]
  },
  {
   "cell_type": "code",
   "execution_count": 0,
   "metadata": {
    "colab": {
     "autoexec": {
      "startup": false,
      "wait_interval": 0
     }
    },
    "colab_type": "code",
    "id": "nXtdAGzTgGD7",
    "outputId": "29ef271c-eac2-4546-a923-fad7bdbfd873"
   },
   "outputs": [
    {
     "data": {
      "text/plain": [
       "[909, 897, 614, 629, 464]"
      ]
     },
     "execution_count": 102,
     "metadata": {
      "tags": []
     },
     "output_type": "execute_result"
    }
   ],
   "source": [
    "extract_time(list_df_all, 326, tipo='min')[:5] # NO MODIFIQUE ESTA CELDA"
   ]
  },
  {
   "cell_type": "code",
   "execution_count": 0,
   "metadata": {
    "colab": {
     "autoexec": {
      "startup": false,
      "wait_interval": 0
     }
    },
    "colab_type": "code",
    "id": "SU-dUii3gGD-",
    "outputId": "8fc68153-d992-44a9-f585-7f51dcbe5120"
   },
   "outputs": [
    {
     "data": {
      "text/plain": [
       "61"
      ]
     },
     "execution_count": 103,
     "metadata": {
      "tags": []
     },
     "output_type": "execute_result"
    }
   ],
   "source": [
    "len(extract_time(list_df_all, 326, tipo='min')) # NO MODIFIQUE ESTA CELDA"
   ]
  },
  {
   "cell_type": "markdown",
   "metadata": {
    "colab_type": "text",
    "id": "vVFfa-udgGEA"
   },
   "source": [
    "Ahora crearemos un rango de tiempo desde el primero de marzo hasta el 30 de abril de 2017. `DataFrameIndex` es un formato especial que permite indexar DataFrames por fechas de forma sencilla."
   ]
  },
  {
   "cell_type": "code",
   "execution_count": 0,
   "metadata": {
    "colab": {
     "autoexec": {
      "startup": false,
      "wait_interval": 0
     }
    },
    "colab_type": "code",
    "id": "NNKc_L_HgGEA"
   },
   "outputs": [],
   "source": [
    "dates = pd.date_range('3/1/2017', '4/30/2017', freq='D')"
   ]
  },
  {
   "cell_type": "code",
   "execution_count": 0,
   "metadata": {
    "colab": {
     "autoexec": {
      "startup": false,
      "wait_interval": 0
     }
    },
    "colab_type": "code",
    "id": "8XmW6Q3FgGEB",
    "outputId": "43f7f1fe-b586-43ee-f0fd-a7dfb143f44e"
   },
   "outputs": [
    {
     "name": "stdout",
     "output_type": "stream",
     "text": [
      "DatetimeIndex(['2017-03-01', '2017-03-02', '2017-03-03', '2017-03-04',\n",
      "               '2017-03-05'],\n",
      "              dtype='datetime64[ns]', freq='D')\n"
     ]
    }
   ],
   "source": [
    "print dates[:5]"
   ]
  },
  {
   "cell_type": "markdown",
   "metadata": {
    "colab_type": "text",
    "id": "zdqSNsxTgGED"
   },
   "source": [
    "Creamos la serie de tiempo para los agregados de todo el día, los agregados de las horas pico de la mañana y los agregados de las horas pico de la tarde."
   ]
  },
  {
   "cell_type": "code",
   "execution_count": 0,
   "metadata": {
    "colab": {
     "autoexec": {
      "startup": false,
      "wait_interval": 0
     }
    },
    "colab_type": "code",
    "id": "DgqfRMX9gGED"
   },
   "outputs": [],
   "source": [
    "time_series_all = pd.Series(extract_time(list_df_all, 326, tipo='mean'), dates) # 326 corresponde a Unicentro\n",
    "time_series_am = pd.Series(extract_time(list_df_morning, 326, tipo='mean'), dates)\n",
    "time_series_pm = pd.Series(extract_time(list_df_afternoon, 326, tipo='mean'), dates)"
   ]
  },
  {
   "cell_type": "markdown",
   "metadata": {
    "colab_type": "text",
    "id": "wDsIJcergGEG"
   },
   "source": [
    "Ahora COMBINE los 3 DataFrames"
   ]
  },
  {
   "cell_type": "code",
   "execution_count": 0,
   "metadata": {
    "colab": {
     "autoexec": {
      "startup": false,
      "wait_interval": 0
     }
    },
    "colab_type": "code",
    "id": "nszXsq-pgGEG"
   },
   "outputs": [],
   "source": [
    "# DEFINA SU CÓDIGO AQUÍ\n",
    "# Cree un DataFrame df_to_florida a partir de las 3 series de tiempo\n"
   ]
  },
  {
   "cell_type": "code",
   "execution_count": 0,
   "metadata": {
    "colab": {
     "autoexec": {
      "startup": false,
      "wait_interval": 0
     }
    },
    "colab_type": "code",
    "id": "JHl7GxWrgGEH"
   },
   "outputs": [],
   "source": [
    "# PRUEBE SU CÓDIGO AQUÍ\n",
    "\n",
    "df_to_florida.head()"
   ]
  },
  {
   "cell_type": "code",
   "execution_count": 0,
   "metadata": {
    "colab": {
     "autoexec": {
      "startup": false,
      "wait_interval": 0
     }
    },
    "colab_type": "code",
    "id": "WNpy1ApXgGEK",
    "outputId": "c7c9cb4d-59d3-4699-f0c0-616e402c5b58"
   },
   "outputs": [
    {
     "data": {
      "text/html": [
       "<div>\n",
       "<style scoped>\n",
       "    .dataframe tbody tr th:only-of-type {\n",
       "        vertical-align: middle;\n",
       "    }\n",
       "\n",
       "    .dataframe tbody tr th {\n",
       "        vertical-align: top;\n",
       "    }\n",
       "\n",
       "    .dataframe thead th {\n",
       "        text-align: right;\n",
       "    }\n",
       "</style>\n",
       "<table border=\"1\" class=\"dataframe\">\n",
       "  <thead>\n",
       "    <tr style=\"text-align: right;\">\n",
       "      <th></th>\n",
       "      <th>AM</th>\n",
       "      <th>PM</th>\n",
       "      <th>all</th>\n",
       "    </tr>\n",
       "  </thead>\n",
       "  <tbody>\n",
       "    <tr>\n",
       "      <th>2017-03-01</th>\n",
       "      <td>1491</td>\n",
       "      <td>2049</td>\n",
       "      <td>1429</td>\n",
       "    </tr>\n",
       "    <tr>\n",
       "      <th>2017-03-02</th>\n",
       "      <td>1343</td>\n",
       "      <td>2021</td>\n",
       "      <td>1427</td>\n",
       "    </tr>\n",
       "    <tr>\n",
       "      <th>2017-03-03</th>\n",
       "      <td>1600</td>\n",
       "      <td>2205</td>\n",
       "      <td>990</td>\n",
       "    </tr>\n",
       "    <tr>\n",
       "      <th>2017-03-04</th>\n",
       "      <td>1007</td>\n",
       "      <td>900</td>\n",
       "      <td>986</td>\n",
       "    </tr>\n",
       "    <tr>\n",
       "      <th>2017-03-05</th>\n",
       "      <td>614</td>\n",
       "      <td>674</td>\n",
       "      <td>624</td>\n",
       "    </tr>\n",
       "  </tbody>\n",
       "</table>\n",
       "</div>"
      ],
      "text/plain": [
       "              AM    PM   all\n",
       "2017-03-01  1491  2049  1429\n",
       "2017-03-02  1343  2021  1427\n",
       "2017-03-03  1600  2205   990\n",
       "2017-03-04  1007   900   986\n",
       "2017-03-05   614   674   624"
      ]
     },
     "execution_count": 281,
     "metadata": {
      "tags": []
     },
     "output_type": "execute_result"
    }
   ],
   "source": [
    "df_to_florida.head() # NO MODIFIQUE ESTA CELDA"
   ]
  },
  {
   "cell_type": "markdown",
   "metadata": {
    "colab_type": "text",
    "id": "RkSTY5P2gGEN"
   },
   "source": [
    "### 2.2.\n",
    "Use las herramientas de visualización de Pandas e imprima las 3 series de tiempo en un gráfico."
   ]
  },
  {
   "cell_type": "code",
   "execution_count": 0,
   "metadata": {
    "colab": {
     "autoexec": {
      "startup": false,
      "wait_interval": 0
     }
    },
    "colab_type": "code",
    "id": "htNY1IvjgGEN"
   },
   "outputs": [],
   "source": [
    "# PRUEBE SU CÓDIGO AQUÍ\n"
   ]
  },
  {
   "cell_type": "code",
   "execution_count": 0,
   "metadata": {
    "colab": {
     "autoexec": {
      "startup": false,
      "wait_interval": 0
     }
    },
    "colab_type": "code",
    "id": "FqpzLIk2gGEP",
    "outputId": "1c107b12-b1b3-4ae3-91d1-34f16c58a92d"
   },
   "outputs": [
    {
     "data": {
      "text/plain": [
       "<matplotlib.axes._subplots.AxesSubplot at 0x7f0f1e7cff90>"
      ]
     },
     "execution_count": 285,
     "metadata": {
      "tags": []
     },
     "output_type": "execute_result"
    },
    {
     "data": {
      "image/png": "[encoded data removed]",
      "text/plain": [
       "<Figure size 432x288 with 1 Axes>"
      ]
     },
     "metadata": {
      "tags": []
     },
     "output_type": "display_data"
    }
   ],
   "source": [
    "# NO MODIFIQUE ESTA CELDA"
   ]
  },
  {
   "cell_type": "markdown",
   "metadata": {
    "colab_type": "text",
    "id": "b3lx4PF0gGER"
   },
   "source": [
    "### 2.3.\n",
    "Filtre cada serie de tiempo a solo días entre semana e imprima las 3 series de tiempo en un gráfico. (IMPORTANTE: Descarte Jueves y Viernes Santo)"
   ]
  },
  {
   "cell_type": "code",
   "execution_count": 0,
   "metadata": {
    "colab": {
     "autoexec": {
      "startup": false,
      "wait_interval": 0
     }
    },
    "colab_type": "code",
    "id": "o6gmWY9agGER"
   },
   "outputs": [],
   "source": [
    ""
   ]
  },
  {
   "cell_type": "code",
   "execution_count": 0,
   "metadata": {
    "colab": {
     "autoexec": {
      "startup": false,
      "wait_interval": 0
     }
    },
    "colab_type": "code",
    "id": "wwUczP4_gGET"
   },
   "outputs": [],
   "source": [
    "# DEFINA SU CÓDIGO AQUÍ\n",
    "# Cree un DataFrame weekdays_data que contenga la serie de tiempo solamente\n",
    "# para los días entre semana. Excluya el 13 y el 14 de Abril, puesto\n",
    "# que fueron Jueves y Viernes Santo.\n",
    "# Tip: Puede comparar elementos de tipo Date contra datetime.date(2017,4,13)\n",
    "# Tip: df_to_florida.index almacena la fecha de cada elemento de la serie de tiempo\n",
    "\n",
    "import datetime\n",
    "\n",
    "\n",
    "weekdays_data = "
   ]
  },
  {
   "cell_type": "code",
   "execution_count": 0,
   "metadata": {
    "colab": {
     "autoexec": {
      "startup": false,
      "wait_interval": 0
     }
    },
    "colab_type": "code",
    "id": "W_wzFoUQgGET"
   },
   "outputs": [],
   "source": [
    "# PRUEBE SU CÓDIGO AQUÍ\n"
   ]
  },
  {
   "cell_type": "code",
   "execution_count": 0,
   "metadata": {
    "colab": {
     "autoexec": {
      "startup": false,
      "wait_interval": 0
     }
    },
    "colab_type": "code",
    "id": "jyqSL7CFgGEU",
    "outputId": "7a3f9bdd-4c7c-4fc9-8ab4-244a4c2bfe6b"
   },
   "outputs": [
    {
     "data": {
      "text/plain": [
       "<matplotlib.axes._subplots.AxesSubplot at 0x7f0f1ea52950>"
      ]
     },
     "execution_count": 307,
     "metadata": {
      "tags": []
     },
     "output_type": "execute_result"
    },
    {
     "data": {
      "image/png": "[encoded data removed]",
      "text/plain": [
       "<Figure size 432x288 with 1 Axes>"
      ]
     },
     "metadata": {
      "tags": []
     },
     "output_type": "display_data"
    }
   ],
   "source": [
    "# NO MODIFIQUE ESTA CELDA"
   ]
  },
  {
   "cell_type": "markdown",
   "metadata": {
    "colab_type": "text",
    "id": "U4TE31sigGEV"
   },
   "source": [
    "### 2.4.\n",
    "Filtre cada serie de tiempo a solo fines de semana e imprima las 3 series de tiempo en un gráfico."
   ]
  },
  {
   "cell_type": "code",
   "execution_count": 0,
   "metadata": {
    "colab": {
     "autoexec": {
      "startup": false,
      "wait_interval": 0
     }
    },
    "colab_type": "code",
    "id": "WG-aiZPpgGEW"
   },
   "outputs": [],
   "source": [
    "# DEFINA SU CÓDIGO AQUÍ\n",
    "# Cree un DataFrame weekends_data que contenga la serie de tiempo solamente\n",
    "# para los fines de semana.\n"
   ]
  },
  {
   "cell_type": "code",
   "execution_count": 0,
   "metadata": {
    "colab": {
     "autoexec": {
      "startup": false,
      "wait_interval": 0
     }
    },
    "colab_type": "code",
    "id": "RuQuApIAgGEY"
   },
   "outputs": [],
   "source": [
    "# PRUEBE SU CÓDIGO AQUÍ\n",
    "# Solo imprima la columna 'All'\n"
   ]
  },
  {
   "cell_type": "code",
   "execution_count": 0,
   "metadata": {
    "colab": {
     "autoexec": {
      "startup": false,
      "wait_interval": 0
     }
    },
    "colab_type": "code",
    "id": "mqe943G7gGEZ",
    "outputId": "c72afd7f-605c-4d1c-e036-dafd08bcf1ce"
   },
   "outputs": [
    {
     "data": {
      "text/plain": [
       "<matplotlib.axes._subplots.AxesSubplot at 0x7f0f1ea37f90>"
      ]
     },
     "execution_count": 310,
     "metadata": {
      "tags": []
     },
     "output_type": "execute_result"
    },
    {
     "data": {
      "image/png": "[encoded data removed]",
      "text/plain": [
       "<Figure size 432x288 with 1 Axes>"
      ]
     },
     "metadata": {
      "tags": []
     },
     "output_type": "display_data"
    }
   ],
   "source": [
    "# NO MODIFIQUE ESTA CELDA"
   ]
  },
  {
   "cell_type": "markdown",
   "metadata": {
    "colab_type": "text",
    "id": "SBY59icygGEb"
   },
   "source": [
    "### 2.5. (Opcional)\n",
    "Escoja otro trayecto, que atraviese el deprimido de la 94 y realice el mismo análisis. Si desea consultar el MOVEMENT_ID de otra zona, puede consultarlo en la herramienta en línea de la siguiente manera:\n",
    "\n",
    "![LINK](https://i.imgur.com/xlrkOQA.png)"
   ]
  }
 ],
 "metadata": {
  "colab": {
   "default_view": {},
   "name": "Aplicación practica usando Pandas.ipynb",
   "provenance": [],
   "version": "0.3.2",
   "views": {}
  },
  "kernelspec": {
   "display_name": "Python [conda env:sierraenv]",
   "language": "python",
   "name": "conda-env-sierraenv-py"
  }
 },
 "nbformat": 4,
 "nbformat_minor": 0
}
