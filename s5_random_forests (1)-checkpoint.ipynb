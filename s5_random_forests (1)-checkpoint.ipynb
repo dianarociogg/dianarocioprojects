{
 "cells": [
  {
   "cell_type": "markdown",
   "metadata": {
    "colab_type": "text",
    "id": "nzB4FeQwkq4n"
   },
   "source": [
    "# Diplomado ML & DS \n",
    "# Sesión 5: Random Forests y exploración aleatorizada\n",
    "\n",
    "Definimos primero unas librerías y funciones que vamos a usar a durante la sesión:"
   ]
  },
  {
   "cell_type": "code",
   "execution_count": 1,
   "metadata": {
    "colab": {
     "autoexec": {
      "startup": false,
      "wait_interval": 0
     }
    },
    "colab_type": "code",
    "id": "l0PVs_y_kq4n"
   },
   "outputs": [],
   "source": [
    "%matplotlib inline\n",
    "import matplotlib.pyplot as plt\n",
    "import numpy as np\n",
    "import pylab as pl\n",
    "from sklearn.datasets import make_circles\n",
    "from matplotlib.colors import Normalize\n",
    "from time import time\n",
    "\n",
    "\n",
    "# Función para visualizar un conjunto de datos en 2D\n",
    "def plot_data(X, y):\n",
    "    y_unique = np.unique(y)\n",
    "    colors = pl.cm.rainbow(np.linspace(0.0, 1.0, y_unique.size))\n",
    "    for this_y, color in zip(y_unique, colors):\n",
    "        this_X = X[y == this_y]\n",
    "        pl.scatter(this_X[:, 0], this_X[:, 1],  c=color,\n",
    "                    alpha=0.5, edgecolor='k',\n",
    "                    label=\"Class %s\" % this_y)\n",
    "    pl.legend(loc=\"best\")\n",
    "    pl.title(\"Data\")\n",
    "    \n",
    "# Función para visualizar de la superficie de decisión de un clasificador\n",
    "def plot_decision_region(X, pred_fun):\n",
    "    min_x = np.min(X[:, 0])\n",
    "    max_x = np.max(X[:, 0])\n",
    "    min_y = np.min(X[:, 1])\n",
    "    max_y = np.max(X[:, 1])\n",
    "    min_x = min_x - (max_x - min_x) * 0.05\n",
    "    max_x = max_x + (max_x - min_x) * 0.05\n",
    "    min_y = min_y - (max_y - min_y) * 0.05\n",
    "    max_y = max_y + (max_y - min_y) * 0.05\n",
    "    x_vals = np.linspace(min_x, max_x, 100)\n",
    "    y_vals = np.linspace(min_y, max_y, 100)\n",
    "    XX, YY = np.meshgrid(x_vals, y_vals)\n",
    "    grid_r, grid_c = XX.shape\n",
    "    ZZ = np.zeros((grid_r, grid_c))\n",
    "    for i in range(grid_r):\n",
    "        for j in range(grid_c):\n",
    "            ZZ[i, j] = pred_fun(XX[i, j], YY[i, j])\n",
    "    pl.contourf(XX, YY, ZZ, 100, cmap = pl.cm.coolwarm, vmin= -1, vmax=2)\n",
    "    pl.colorbar()\n",
    "    pl.xlabel(\"x\")\n",
    "    pl.ylabel(\"y\")\n",
    "    \n",
    "class MidpointNormalize(Normalize):\n",
    "\n",
    "    def __init__(self, vmin=None, vmax=None, midpoint=None, clip=False):\n",
    "        self.midpoint = midpoint\n",
    "        Normalize.__init__(self, vmin, vmax, clip)\n",
    "\n",
    "    def __call__(self, value, clip=None):\n",
    "        x, y = [self.vmin, self.midpoint, self.vmax], [0, 0.5, 1]\n",
    "        return np.ma.masked_array(np.interp(value, x, y))\n",
    "    \n",
    "def gen_pred_fun(clf):\n",
    "    def pred_fun(x1, x2):\n",
    "        x = np.array([[x1, x2]])\n",
    "        return clf.predict(x)[0]\n",
    "    return pred_fun\n",
    "\n",
    "def plot_labels(n_folds, n_classes, list_labels):\n",
    "    ind = np.arange(n_folds)\n",
    "    width = 0.15\n",
    "    \n",
    "    countings = []\n",
    "    for labels in list_labels:\n",
    "        labels = np.array(labels)\n",
    "        countings.append([np.count_nonzero(labels == x) for x in range(n_classes)])\n",
    "    \n",
    "    class_bars = []\n",
    "    for cls in range(n_classes):\n",
    "        class_bars.append([l[cls] for l in countings])\n",
    "    \n",
    "    fig, ax = pl.subplots()\n",
    "    i = 0\n",
    "    for class_bar in class_bars:\n",
    "        ax.bar(ind + width*i, class_bar, width, label='Clase '+str(i))\n",
    "        i += 1\n",
    "        \n",
    "    ax.set_xticks(ind + 2*width / 3)\n",
    "    ax.set_xticklabels(['Pliegue {}'.format(k) for k in range(n_folds)])\n",
    "    pl.legend(loc=\"best\")\n",
    "    pl.title(\"Etiquetas\")"
   ]
  },
  {
   "cell_type": "markdown",
   "metadata": {
    "colab_type": "text",
    "id": "aOPTUzPlkq4q"
   },
   "source": [
    "# Árboles de decisión y Bagging\n",
    "\n",
    "Considere el siguiente conjunto de datos"
   ]
  },
  {
   "cell_type": "code",
   "execution_count": 2,
   "metadata": {
    "colab": {
     "autoexec": {
      "startup": false,
      "wait_interval": 0
     }
    },
    "colab_type": "code",
    "id": "iYpb97tSkq4s"
   },
   "outputs": [],
   "source": [
    "from sklearn.datasets import make_circles, make_moons\n",
    "from sklearn.model_selection import train_test_split\n",
    "\n",
    "np.random.seed(0)\n",
    "\n",
    "X, y = make_circles(n_samples=1000, factor=.4, noise=.15)\n",
    "\n",
    "X_train, X_test, y_train, y_test = train_test_split(X,\n",
    "                                                    y,\n",
    "                                                    test_size=0.4,\n",
    "                                                    random_state=2)"
   ]
  },
  {
   "cell_type": "code",
   "execution_count": 3,
   "metadata": {
    "colab": {
     "autoexec": {
      "startup": false,
      "wait_interval": 0
     },
     "base_uri": "https://localhost:8080/",
     "height": 389
    },
    "colab_type": "code",
    "executionInfo": {
     "elapsed": 1379,
     "status": "ok",
     "timestamp": 1526501424629,
     "user": {
      "displayName": "Fabio A. Gonzalez",
      "photoUrl": "//lh5.googleusercontent.com/-jcmRx3yeVv4/AAAAAAAAAAI/AAAAAAAAAic/QZe3kSPTExE/s50-c-k-no/photo.jpg",
      "userId": "112315845334496218213"
     },
     "user_tz": 300
    },
    "id": "Ok6FpGCgkq4u",
    "outputId": "8a90fe95-ee77-491e-c151-5f9f66297b69"
   },
   "outputs": [
    {
     "data": {
      "image/png": "[encoded data removed]",
      "text/plain": [
       "<matplotlib.figure.Figure at 0x7fecdc094c88>"
      ]
     },
     "metadata": {},
     "output_type": "display_data"
    }
   ],
   "source": [
    "pl.figure(figsize = (10, 6))\n",
    "plot_data(X, y)"
   ]
  },
  {
   "cell_type": "markdown",
   "metadata": {
    "colab_type": "text",
    "id": "w6Q127R_kq4z"
   },
   "source": [
    "Vamos a entrenar un modelo de árbol de decisión para resolver este problema de clasificación."
   ]
  },
  {
   "cell_type": "code",
   "execution_count": 4,
   "metadata": {
    "colab": {
     "autoexec": {
      "startup": false,
      "wait_interval": 0
     }
    },
    "colab_type": "code",
    "id": "ZKzIyNLckq4z"
   },
   "outputs": [],
   "source": [
    "from sklearn.tree import DecisionTreeClassifier"
   ]
  },
  {
   "cell_type": "markdown",
   "metadata": {
    "colab_type": "text",
    "id": "bca9iqF-kq41"
   },
   "source": [
    "Entrenamos un árbol de decisión de profundidad máxima $5$"
   ]
  },
  {
   "cell_type": "code",
   "execution_count": 5,
   "metadata": {
    "colab": {
     "autoexec": {
      "startup": false,
      "wait_interval": 0
     },
     "base_uri": "https://localhost:8080/",
     "height": 119
    },
    "colab_type": "code",
    "executionInfo": {
     "elapsed": 588,
     "status": "ok",
     "timestamp": 1526501432356,
     "user": {
      "displayName": "Fabio A. Gonzalez",
      "photoUrl": "//lh5.googleusercontent.com/-jcmRx3yeVv4/AAAAAAAAAAI/AAAAAAAAAic/QZe3kSPTExE/s50-c-k-no/photo.jpg",
      "userId": "112315845334496218213"
     },
     "user_tz": 300
    },
    "id": "E_Ivdsywkq41",
    "outputId": "74a17014-d7c5-4d08-acb2-af35a66ef15d"
   },
   "outputs": [
    {
     "data": {
      "text/plain": [
       "DecisionTreeClassifier(class_weight=None, criterion='gini', max_depth=5,\n",
       "            max_features=None, max_leaf_nodes=None,\n",
       "            min_impurity_decrease=0.0, min_impurity_split=None,\n",
       "            min_samples_leaf=1, min_samples_split=2,\n",
       "            min_weight_fraction_leaf=0.0, presort=False, random_state=None,\n",
       "            splitter='best')"
      ]
     },
     "execution_count": 5,
     "metadata": {},
     "output_type": "execute_result"
    }
   ],
   "source": [
    "dt = DecisionTreeClassifier(max_depth=5)\n",
    "\n",
    "dt.fit(X_train, y_train)"
   ]
  },
  {
   "cell_type": "code",
   "execution_count": 6,
   "metadata": {
    "colab": {
     "autoexec": {
      "startup": false,
      "wait_interval": 0
     },
     "base_uri": "https://localhost:8080/",
     "height": 437
    },
    "colab_type": "code",
    "executionInfo": {
     "elapsed": 1644,
     "status": "ok",
     "timestamp": 1526501439615,
     "user": {
      "displayName": "Fabio A. Gonzalez",
      "photoUrl": "//lh5.googleusercontent.com/-jcmRx3yeVv4/AAAAAAAAAAI/AAAAAAAAAic/QZe3kSPTExE/s50-c-k-no/photo.jpg",
      "userId": "112315845334496218213"
     },
     "user_tz": 300
    },
    "id": "6Gdda7Nykq44",
    "outputId": "d55847c1-39a3-4d5b-9e97-23c52a90aaa0"
   },
   "outputs": [
    {
     "name": "stdout",
     "output_type": "stream",
     "text": [
      "Error en entrenamiento: 0.021666666666666612\n",
      "Error en prueba: 0.06000000000000005\n"
     ]
    },
    {
     "data": {
      "image/png": "[encoded data removed]",
      "text/plain": [
       "<matplotlib.figure.Figure at 0x7fecad30cac8>"
      ]
     },
     "metadata": {},
     "output_type": "display_data"
    }
   ],
   "source": [
    "print('Error en entrenamiento: {}'.format(1-dt.score(X_train, y_train)))\n",
    "print('Error en prueba: {}'.format(1-dt.score(X_test, y_test)))\n",
    "\n",
    "pl.figure(figsize = (10, 6))\n",
    "plot_decision_region(X_test, gen_pred_fun(dt))\n",
    "plot_data(X_test, y_test)"
   ]
  },
  {
   "cell_type": "markdown",
   "metadata": {
    "colab_type": "text",
    "id": "y4HSrPGTkq47"
   },
   "source": [
    "El modelo presenta un error de generalización del $6\\%$, además sus predicciones no se ajustan a la naturaleza de los datos\n",
    "\n",
    "Problemas:\n",
    "* En algunos casos, las franteras de decisión generadas por el árbol de decisión (paralelas a los ejes) no son lo suficientemente flexibles para capturar la no linealidad del conjunto de datos.\n",
    "* Por otro lado, los árboles de clasificación pueden crear reglas decisión muy espcíficas que se ajustan demasiado a los datos de entrenamiento.\n",
    "* Tambien son sensibles a pequeñas variaciones de los datos que pueden resultar en árboles totalmente distintos. Esto es un problema cuando se hace validación cruzada de k-pliegues.\n",
    "\n",
    "**¿Cómo solucionar este problema?**\n",
    "\n",
    "\n",
    "Vamos a utilizar una estrategia conocida como *clasificación por comité* o *ensamble de clasificadores*. Un ensamble de clasificadores combina diferentes algoritmos de aprendizaje para obtener un mejor desempeño predictivo. A continuación, presentamos una forma de como construír un ensamble de árboles de clasificación. Se entrenan diferentes árboles en diferentes subconjuntos de los datos de entrenamiento. Posteriormente cuando se va hacer una predicción para un nuevo dato, se obtienen las predicciones de todos los árboles y se regresa aquella clase de mayor frecuencia predicha.\n",
    "\n",
    "<img src=\"figures/ensemble2.svg\" width=\"80%\">\n",
    "\n",
    "A la técnica de la figura se le conoce como *bagging*. En el ejemplo siguiente vamos a utilizar la función `BaggingClassifier` la cual entrena un modelo usando esta estrategia. Los parámetros recibidos por la función son los siguientes:\n",
    "*  `base_estimator`: Consiste en el estimador base que se va a entrenar sobre los diferentes subconjunto del conjunto de datos de entrenamiento.\n",
    "* `n_estimators`: Es el número de estimadores base que se van a usar para la estrategia de *bagging*."
   ]
  },
  {
   "cell_type": "code",
   "execution_count": 7,
   "metadata": {
    "colab": {
     "autoexec": {
      "startup": false,
      "wait_interval": 0
     },
     "base_uri": "https://localhost:8080/",
     "height": 437
    },
    "colab_type": "code",
    "executionInfo": {
     "elapsed": 11362,
     "status": "ok",
     "timestamp": 1526502024320,
     "user": {
      "displayName": "Fabio A. Gonzalez",
      "photoUrl": "//lh5.googleusercontent.com/-jcmRx3yeVv4/AAAAAAAAAAI/AAAAAAAAAic/QZe3kSPTExE/s50-c-k-no/photo.jpg",
      "userId": "112315845334496218213"
     },
     "user_tz": 300
    },
    "id": "kiWpI7fwk_Rm",
    "outputId": "f12e2a0c-8afa-4cb2-e9e6-7ee034bc56e7"
   },
   "outputs": [
    {
     "name": "stdout",
     "output_type": "stream",
     "text": [
      "Error en entrenamiento: 0.013333333333333308\n",
      "Error en prueba: 0.040000000000000036\n"
     ]
    },
    {
     "data": {
      "image/png": "[encoded data removed]",
      "text/plain": [
       "<matplotlib.figure.Figure at 0x7feca65bdf60>"
      ]
     },
     "metadata": {},
     "output_type": "display_data"
    }
   ],
   "source": [
    "from sklearn.ensemble import BaggingClassifier\n",
    "\n",
    "bc = BaggingClassifier(base_estimator=DecisionTreeClassifier(max_depth=5), n_estimators=20)\n",
    "bc.fit(X_train, y_train)\n",
    "\n",
    "print('Error en entrenamiento: {}'.format(1-bc.score(X_train, y_train)))\n",
    "print('Error en prueba: {}'.format(1-bc.score(X_test, y_test)))\n",
    "\n",
    "pl.figure(figsize = (10, 6))\n",
    "plot_decision_region(X_test, gen_pred_fun(bc))\n",
    "plot_data(X_test, y_test)"
   ]
  },
  {
   "cell_type": "markdown",
   "metadata": {
    "colab_type": "text",
    "id": "_3bCzfHnkq48"
   },
   "source": [
    "# Random Forests\n",
    "\n",
    "Existen varias alternativas para combinar y promediar árboles de decisión, una de las más usadas es Random Forest. Scikit-Learn provee una implementación a través de `sklearn.ensemble.RandomForestClassifier`. Más adelante se discuten los parámetros más importantes de esta implementación."
   ]
  },
  {
   "cell_type": "code",
   "execution_count": 8,
   "metadata": {
    "colab": {
     "autoexec": {
      "startup": false,
      "wait_interval": 0
     }
    },
    "colab_type": "code",
    "id": "3EzAX-4dkq48"
   },
   "outputs": [],
   "source": [
    "from sklearn.ensemble import RandomForestClassifier"
   ]
  },
  {
   "cell_type": "code",
   "execution_count": 9,
   "metadata": {
    "colab": {
     "autoexec": {
      "startup": false,
      "wait_interval": 0
     }
    },
    "colab_type": "code",
    "id": "euWnFssWkq4-",
    "outputId": "15ac2d49-284b-4070-8229-09e7ddf3d030"
   },
   "outputs": [
    {
     "data": {
      "text/plain": [
       "RandomForestClassifier(bootstrap=True, class_weight=None, criterion='gini',\n",
       "            max_depth=5, max_features='auto', max_leaf_nodes=None,\n",
       "            min_impurity_decrease=0.0, min_impurity_split=None,\n",
       "            min_samples_leaf=1, min_samples_split=2,\n",
       "            min_weight_fraction_leaf=0.0, n_estimators=14, n_jobs=1,\n",
       "            oob_score=False, random_state=None, verbose=0,\n",
       "            warm_start=False)"
      ]
     },
     "execution_count": 9,
     "metadata": {},
     "output_type": "execute_result"
    }
   ],
   "source": [
    "rf = RandomForestClassifier(n_estimators=14, max_depth=5)\n",
    "\n",
    "rf.fit(X_train, y_train)"
   ]
  },
  {
   "cell_type": "code",
   "execution_count": 10,
   "metadata": {
    "colab": {
     "autoexec": {
      "startup": false,
      "wait_interval": 0
     }
    },
    "colab_type": "code",
    "id": "pxmDpMY0kq5A",
    "outputId": "579c60ae-c241-425e-afea-c93287938dc8"
   },
   "outputs": [
    {
     "data": {
      "image/png": "[encoded data removed]",
      "text/plain": [
       "<matplotlib.figure.Figure at 0x7fecad3412e8>"
      ]
     },
     "metadata": {},
     "output_type": "display_data"
    }
   ],
   "source": [
    "pl.figure(figsize = (10, 6))\n",
    "plot_decision_region(X_test, gen_pred_fun(rf))\n",
    "plot_data(X_test, y_test)"
   ]
  },
  {
   "cell_type": "code",
   "execution_count": 11,
   "metadata": {
    "colab": {
     "autoexec": {
      "startup": false,
      "wait_interval": 0
     }
    },
    "colab_type": "code",
    "id": "cl6VI_bmkq5D",
    "outputId": "d34916f9-99be-4e06-a3b3-ad874e47fde2"
   },
   "outputs": [
    {
     "name": "stdout",
     "output_type": "stream",
     "text": [
      "Error en entrenamiento: 0.015000000000000013\n",
      "Error en prueba: 0.05249999999999999\n"
     ]
    }
   ],
   "source": [
    "print('Error en entrenamiento: {}'.format(1-rf.score(X_train, y_train)))\n",
    "print('Error en prueba: {}'.format(1-rf.score(X_test, y_test)))"
   ]
  },
  {
   "cell_type": "markdown",
   "metadata": {
    "colab_type": "text",
    "id": "nUb08O0Ekq5G"
   },
   "source": [
    "Mientras baja el error de generalización, observamos tambien que se adapta mejor a la naturaleza de los datos"
   ]
  },
  {
   "cell_type": "markdown",
   "metadata": {
    "colab_type": "text",
    "id": "ZrdT1db0kq5H"
   },
   "source": [
    "## Intuición detrás de RandomForests\n",
    "\n",
    "Random Forest es una técnica de **ensamble** que combina diferentes árboles de decisión. Estos árboles se entrenan en diferentes muestras del conjunto de datos, estos árboles pueden sobreajustarse, sin embargo la combinación de sus predicciones resulta en un clasificador con menor sobreajuste. Para entender la idea de como se construye este algoritmo, suponga que entrenamos los siguientes árboles para determinar si una persona está enferma o sana:\n",
    "\n",
    "<img src=\"figures/RF.png\" width=\"100%\">\n",
    "\n",
    "**¿Qué sucede si todos los árboles de clasificación son iguales?**\n",
    "\n",
    "**¿Cómo logro que cada árbol de clasificación sea diferente?**\n",
    "\n"
   ]
  },
  {
   "cell_type": "markdown",
   "metadata": {
    "colab_type": "text",
    "id": "Jlieocf1kq5I"
   },
   "source": [
    "## Algoritmo básico Random Forest\n",
    "\n",
    "A diferencia del árbol común de decisión, los árboles de Random Forest se entrenan de una forma diferente. A continuación, presentamos el algoritmo básico de entrenamiento:\n",
    "\n",
    "1. Para cada árbol se realiza el siguiente procedimiento:\n",
    "    * Se escoge una muestra con reemplazo de tamaño $n$ del conjunto de entrenamiento.\n",
    "    * Se seleccionan $m$ variables al azar de las variables disponibles\n",
    "    * Se entrena un árbol sobre la muestra usando las $m$ variables repitiendo los siguientes pasos:\n",
    "        * Se escoge la variable (y umbral) que genera la mejor partición\n",
    "        * Se divide los datos en dos subconjuntos de acuerdo a la variable y el umbral\n",
    "        * Si no se satisface un criterio de parada se aplica este procedimiento recursivamente sobre los subconjutos\n",
    "2. Una vez cada árbol ha sido entrenado, se genera el ensamble de árboles.\n",
    "\n",
    "## Implementación en Scikit-Learn\n",
    "\n",
    "La implementación en Scikit-Learn nos permite controlar los siguientes parámetros:\n",
    "* `n_estimators`: Número de árboles a entrenar\n",
    "* `max_features`: Número de variables $m$ al azar que se tienen en cuenta para la construcción de cada árbol.\n",
    "\n",
    "Un número grande de árboles resulta en un buen desempeño a costas del costo computacional. Ambos parámetros deben ser explorados usando validación cruzada. A continuación, usaremos el conjunto de datos `wine`."
   ]
  },
  {
   "cell_type": "code",
   "execution_count": 12,
   "metadata": {
    "colab": {
     "autoexec": {
      "startup": false,
      "wait_interval": 0
     },
     "base_uri": "https://localhost:8080/",
     "height": 881
    },
    "colab_type": "code",
    "executionInfo": {
     "elapsed": 849,
     "status": "error",
     "timestamp": 1526503039028,
     "user": {
      "displayName": "Fabio A. Gonzalez",
      "photoUrl": "//lh5.googleusercontent.com/-jcmRx3yeVv4/AAAAAAAAAAI/AAAAAAAAAic/QZe3kSPTExE/s50-c-k-no/photo.jpg",
      "userId": "112315845334496218213"
     },
     "user_tz": 300
    },
    "id": "aVhcUhrTkq5I",
    "outputId": "509d9ca1-941e-44de-95e5-406fb8038fb8"
   },
   "outputs": [],
   "source": [
    "import pandas as pd\n",
    "\n",
    "df = pd.read_csv('data/wine.data.txt')\n"
   ]
  },
  {
   "cell_type": "code",
   "execution_count": 13,
   "metadata": {
    "colab": {
     "autoexec": {
      "startup": false,
      "wait_interval": 0
     }
    },
    "colab_type": "code",
    "id": "gwRwZAUwkq5K",
    "outputId": "d2c0e8c0-45fb-48d8-b25f-fc4e15f0215d"
   },
   "outputs": [
    {
     "data": {
      "text/html": [
       "<div>\n",
       "<style scoped>\n",
       "    .dataframe tbody tr th:only-of-type {\n",
       "        vertical-align: middle;\n",
       "    }\n",
       "\n",
       "    .dataframe tbody tr th {\n",
       "        vertical-align: top;\n",
       "    }\n",
       "\n",
       "    .dataframe thead th {\n",
       "        text-align: right;\n",
       "    }\n",
       "</style>\n",
       "<table border=\"1\" class=\"dataframe\">\n",
       "  <thead>\n",
       "    <tr style=\"text-align: right;\">\n",
       "      <th></th>\n",
       "      <th>Class</th>\n",
       "      <th>Alcohol</th>\n",
       "      <th>Malic_acid</th>\n",
       "      <th>Ash</th>\n",
       "      <th>Alcalinity</th>\n",
       "      <th>Magnesium</th>\n",
       "      <th>Phenols</th>\n",
       "      <th>Flavanoids</th>\n",
       "      <th>Nonflavanoid</th>\n",
       "      <th>Proanthocyanins</th>\n",
       "      <th>Color</th>\n",
       "      <th>Hue</th>\n",
       "      <th>OD280/OD315</th>\n",
       "      <th>Proline</th>\n",
       "    </tr>\n",
       "  </thead>\n",
       "  <tbody>\n",
       "    <tr>\n",
       "      <th>0</th>\n",
       "      <td>1</td>\n",
       "      <td>14.23</td>\n",
       "      <td>1.71</td>\n",
       "      <td>2.43</td>\n",
       "      <td>15.6</td>\n",
       "      <td>127</td>\n",
       "      <td>2.80</td>\n",
       "      <td>3.06</td>\n",
       "      <td>0.28</td>\n",
       "      <td>2.29</td>\n",
       "      <td>5.64</td>\n",
       "      <td>1.04</td>\n",
       "      <td>3.92</td>\n",
       "      <td>1065</td>\n",
       "    </tr>\n",
       "    <tr>\n",
       "      <th>1</th>\n",
       "      <td>1</td>\n",
       "      <td>13.20</td>\n",
       "      <td>1.78</td>\n",
       "      <td>2.14</td>\n",
       "      <td>11.2</td>\n",
       "      <td>100</td>\n",
       "      <td>2.65</td>\n",
       "      <td>2.76</td>\n",
       "      <td>0.26</td>\n",
       "      <td>1.28</td>\n",
       "      <td>4.38</td>\n",
       "      <td>1.05</td>\n",
       "      <td>3.40</td>\n",
       "      <td>1050</td>\n",
       "    </tr>\n",
       "    <tr>\n",
       "      <th>2</th>\n",
       "      <td>1</td>\n",
       "      <td>13.16</td>\n",
       "      <td>2.36</td>\n",
       "      <td>2.67</td>\n",
       "      <td>18.6</td>\n",
       "      <td>101</td>\n",
       "      <td>2.80</td>\n",
       "      <td>3.24</td>\n",
       "      <td>0.30</td>\n",
       "      <td>2.81</td>\n",
       "      <td>5.68</td>\n",
       "      <td>1.03</td>\n",
       "      <td>3.17</td>\n",
       "      <td>1185</td>\n",
       "    </tr>\n",
       "    <tr>\n",
       "      <th>3</th>\n",
       "      <td>1</td>\n",
       "      <td>14.37</td>\n",
       "      <td>1.95</td>\n",
       "      <td>2.50</td>\n",
       "      <td>16.8</td>\n",
       "      <td>113</td>\n",
       "      <td>3.85</td>\n",
       "      <td>3.49</td>\n",
       "      <td>0.24</td>\n",
       "      <td>2.18</td>\n",
       "      <td>7.80</td>\n",
       "      <td>0.86</td>\n",
       "      <td>3.45</td>\n",
       "      <td>1480</td>\n",
       "    </tr>\n",
       "    <tr>\n",
       "      <th>4</th>\n",
       "      <td>1</td>\n",
       "      <td>13.24</td>\n",
       "      <td>2.59</td>\n",
       "      <td>2.87</td>\n",
       "      <td>21.0</td>\n",
       "      <td>118</td>\n",
       "      <td>2.80</td>\n",
       "      <td>2.69</td>\n",
       "      <td>0.39</td>\n",
       "      <td>1.82</td>\n",
       "      <td>4.32</td>\n",
       "      <td>1.04</td>\n",
       "      <td>2.93</td>\n",
       "      <td>735</td>\n",
       "    </tr>\n",
       "  </tbody>\n",
       "</table>\n",
       "</div>"
      ],
      "text/plain": [
       "   Class  Alcohol   Malic_acid   Ash   Alcalinity   Magnesium   Phenols  \\\n",
       "0      1    14.23         1.71  2.43         15.6         127      2.80   \n",
       "1      1    13.20         1.78  2.14         11.2         100      2.65   \n",
       "2      1    13.16         2.36  2.67         18.6         101      2.80   \n",
       "3      1    14.37         1.95  2.50         16.8         113      3.85   \n",
       "4      1    13.24         2.59  2.87         21.0         118      2.80   \n",
       "\n",
       "    Flavanoids   Nonflavanoid   Proanthocyanins  Color   Hue   OD280/OD315  \\\n",
       "0         3.06           0.28              2.29   5.64  1.04          3.92   \n",
       "1         2.76           0.26              1.28   4.38  1.05          3.40   \n",
       "2         3.24           0.30              2.81   5.68  1.03          3.17   \n",
       "3         3.49           0.24              2.18   7.80  0.86          3.45   \n",
       "4         2.69           0.39              1.82   4.32  1.04          2.93   \n",
       "\n",
       "    Proline      \n",
       "0          1065  \n",
       "1          1050  \n",
       "2          1185  \n",
       "3          1480  \n",
       "4           735  "
      ]
     },
     "execution_count": 13,
     "metadata": {},
     "output_type": "execute_result"
    }
   ],
   "source": [
    "df.head()"
   ]
  },
  {
   "cell_type": "markdown",
   "metadata": {
    "colab_type": "text",
    "id": "M2lR20yskq5N"
   },
   "source": [
    "Generamos la matriz de características y el arreglo de etiquetas"
   ]
  },
  {
   "cell_type": "code",
   "execution_count": 14,
   "metadata": {
    "colab": {
     "autoexec": {
      "startup": false,
      "wait_interval": 0
     }
    },
    "colab_type": "code",
    "id": "982A1h00kq5O"
   },
   "outputs": [
    {
     "data": {
      "text/plain": [
       "array([1, 1, 1, 1, 1, 1, 1, 1, 1, 1, 1, 1, 1, 1, 1, 1, 1, 1, 1, 1, 1, 1,\n",
       "       1, 1, 1, 1, 1, 1, 1, 1, 1, 1, 1, 1, 1, 1, 1, 1, 1, 1, 1, 1, 1, 1,\n",
       "       1, 1, 1, 1, 1, 1, 1, 1, 1, 1, 1, 1, 1, 1, 1, 2, 2, 2, 2, 2, 2, 2,\n",
       "       2, 2, 2, 2, 2, 2, 2, 2, 2, 2, 2, 2, 2, 2, 2, 2, 2, 2, 2, 2, 2, 2,\n",
       "       2, 2, 2, 2, 2, 2, 2, 2, 2, 2, 2, 2, 2, 2, 2, 2, 2, 2, 2, 2, 2, 2,\n",
       "       2, 2, 2, 2, 2, 2, 2, 2, 2, 2, 2, 2, 2, 2, 2, 2, 2, 2, 2, 2, 3, 3,\n",
       "       3, 3, 3, 3, 3, 3, 3, 3, 3, 3, 3, 3, 3, 3, 3, 3, 3, 3, 3, 3, 3, 3,\n",
       "       3, 3, 3, 3, 3, 3, 3, 3, 3, 3, 3, 3, 3, 3, 3, 3, 3, 3, 3, 3, 3, 3,\n",
       "       3, 3])"
      ]
     },
     "execution_count": 14,
     "metadata": {},
     "output_type": "execute_result"
    }
   ],
   "source": [
    "X = df.drop(columns=['Class'], axis=1).values\n",
    "y = df['Class'].values\n",
    "y"
   ]
  },
  {
   "cell_type": "markdown",
   "metadata": {
    "colab_type": "text",
    "id": "ePgLxFrhkq5Q"
   },
   "source": [
    "Definimos la malla de parámetros:"
   ]
  },
  {
   "cell_type": "code",
   "execution_count": 15,
   "metadata": {
    "colab": {
     "autoexec": {
      "startup": false,
      "wait_interval": 0
     }
    },
    "colab_type": "code",
    "id": "MhIYf5kQkq5Q"
   },
   "outputs": [],
   "source": [
    "max_features_params = [np.round(10**-1 * i, decimals=1) for i in range(1, 11, 1)]\n",
    "param_grid = {'n_estimators': [2**i for i in range(2, 12, 1)], 'max_features': max_features_params}"
   ]
  },
  {
   "cell_type": "code",
   "execution_count": 16,
   "metadata": {
    "colab": {
     "autoexec": {
      "startup": false,
      "wait_interval": 0
     }
    },
    "colab_type": "code",
    "id": "CH2ZoZi0kq5S",
    "outputId": "25fc0a1b-8b71-4757-cbf8-7388a1d3b530"
   },
   "outputs": [
    {
     "name": "stdout",
     "output_type": "stream",
     "text": [
      "Número de árboles: [4, 8, 16, 32, 64, 128, 256, 512, 1024, 2048]\n"
     ]
    }
   ],
   "source": [
    "print('Número de árboles: {}'.format(param_grid['n_estimators']))"
   ]
  },
  {
   "cell_type": "code",
   "execution_count": 17,
   "metadata": {
    "colab": {
     "autoexec": {
      "startup": false,
      "wait_interval": 0
     }
    },
    "colab_type": "code",
    "id": "M6e2PJ4hkq5Y",
    "outputId": "235a656e-8ea5-44bd-d7c9-fce66338ea59"
   },
   "outputs": [
    {
     "name": "stdout",
     "output_type": "stream",
     "text": [
      "Porcentaje de características a usar: [0.1, 0.2, 0.3, 0.4, 0.5, 0.6, 0.7, 0.8, 0.9, 1.0]\n"
     ]
    }
   ],
   "source": [
    "print('Porcentaje de características a usar: {}'.format(param_grid['max_features']))"
   ]
  },
  {
   "cell_type": "markdown",
   "metadata": {
    "colab_type": "text",
    "id": "3Cmo63Idkq5b"
   },
   "source": [
    "Creamos la partición de entrenamiento y prueba"
   ]
  },
  {
   "cell_type": "code",
   "execution_count": 18,
   "metadata": {
    "colab": {
     "autoexec": {
      "startup": false,
      "wait_interval": 0
     }
    },
    "colab_type": "code",
    "id": "-sOvzyJUkq5b"
   },
   "outputs": [],
   "source": [
    "from sklearn.model_selection import GridSearchCV, train_test_split\n",
    "\n",
    "X_train, X_test, y_train, y_test = train_test_split(X, y, test_size=0.3, random_state=1, stratify=y)"
   ]
  },
  {
   "cell_type": "markdown",
   "metadata": {
    "colab_type": "text",
    "id": "poQ0c4Yzkq5d"
   },
   "source": [
    "Corremos el modelo `GridSearchCV` usando la retícula de parámetros"
   ]
  },
  {
   "cell_type": "code",
   "execution_count": 19,
   "metadata": {
    "colab": {
     "autoexec": {
      "startup": false,
      "wait_interval": 0
     }
    },
    "colab_type": "code",
    "id": "BZDDmXydkq5e",
    "outputId": "eeb67fbb-9492-4d0b-a2bc-5a1bd73ec10e"
   },
   "outputs": [
    {
     "name": "stdout",
     "output_type": "stream",
     "text": [
      "Fitting 5 folds for each of 100 candidates, totalling 500 fits\n"
     ]
    },
    {
     "name": "stderr",
     "output_type": "stream",
     "text": [
      "[Parallel(n_jobs=-1)]: Done 280 tasks      | elapsed:   20.6s\n"
     ]
    },
    {
     "name": "stdout",
     "output_type": "stream",
     "text": [
      "GridSearchCV tomó 44.20951008796692 segundos usando 100 configuraciones\n"
     ]
    },
    {
     "name": "stderr",
     "output_type": "stream",
     "text": [
      "[Parallel(n_jobs=-1)]: Done 500 out of 500 | elapsed:   43.9s finished\n"
     ]
    }
   ],
   "source": [
    "start = time()\n",
    "clf = GridSearchCV(RandomForestClassifier(), param_grid=param_grid, verbose=1, n_jobs=-1, cv=5)\n",
    "clf.fit(X_train, y_train)\n",
    "print(\"GridSearchCV tomó {} segundos usando {} configuraciones\".format(time() - start,\n",
    "                                                                         len(clf.cv_results_['params'])))"
   ]
  },
  {
   "cell_type": "markdown",
   "metadata": {
    "colab_type": "text",
    "id": "gSUXa4rykq5f"
   },
   "source": [
    "Usando `cv_results_` extraemos el desempeño promedio sobre cada configuración de parámetros"
   ]
  },
  {
   "cell_type": "code",
   "execution_count": 20,
   "metadata": {
    "colab": {
     "autoexec": {
      "startup": false,
      "wait_interval": 0
     }
    },
    "colab_type": "code",
    "id": "6IR_1FmOkq5g"
   },
   "outputs": [],
   "source": [
    "scores = clf.cv_results_['mean_test_score'].reshape(len(param_grid['max_features']),\n",
    "                                                    len(param_grid['n_estimators']))"
   ]
  },
  {
   "cell_type": "code",
   "execution_count": 21,
   "metadata": {
    "colab": {
     "autoexec": {
      "startup": false,
      "wait_interval": 0
     }
    },
    "colab_type": "code",
    "id": "wJru3J98kq5i",
    "outputId": "a75f74e0-0a12-4a18-af55-09f7b917f817"
   },
   "outputs": [
    {
     "data": {
      "text/plain": [
       "array([[0.93548387, 0.91935484, 0.95967742, 0.97580645, 0.98387097,\n",
       "        0.98387097, 0.98387097, 0.98387097, 0.98387097, 0.98387097],\n",
       "       [0.92741935, 0.95967742, 0.96774194, 0.96774194, 0.98387097,\n",
       "        0.98387097, 0.98387097, 0.98387097, 0.98387097, 0.98387097],\n",
       "       [0.88709677, 0.94354839, 0.97580645, 0.97580645, 0.98387097,\n",
       "        0.97580645, 0.97580645, 0.97580645, 0.97580645, 0.97580645],\n",
       "       [0.91935484, 0.9516129 , 0.96774194, 0.96774194, 0.97580645,\n",
       "        0.96774194, 0.97580645, 0.97580645, 0.97580645, 0.97580645],\n",
       "       [0.94354839, 0.9516129 , 0.96774194, 0.97580645, 0.96774194,\n",
       "        0.97580645, 0.97580645, 0.97580645, 0.97580645, 0.97580645],\n",
       "       [0.95967742, 0.95967742, 0.97580645, 0.96774194, 0.96774194,\n",
       "        0.97580645, 0.97580645, 0.97580645, 0.97580645, 0.97580645],\n",
       "       [0.92741935, 0.93548387, 0.95967742, 0.96774194, 0.95967742,\n",
       "        0.9516129 , 0.97580645, 0.95967742, 0.97580645, 0.97580645],\n",
       "       [0.93548387, 0.94354839, 0.9516129 , 0.96774194, 0.95967742,\n",
       "        0.96774194, 0.97580645, 0.97580645, 0.97580645, 0.97580645],\n",
       "       [0.94354839, 0.91129032, 0.95967742, 0.93548387, 0.97580645,\n",
       "        0.96774194, 0.97580645, 0.97580645, 0.97580645, 0.97580645],\n",
       "       [0.93548387, 0.94354839, 0.94354839, 0.95967742, 0.96774194,\n",
       "        0.95967742, 0.95967742, 0.95967742, 0.95967742, 0.96774194]])"
      ]
     },
     "execution_count": 21,
     "metadata": {},
     "output_type": "execute_result"
    }
   ],
   "source": [
    "scores"
   ]
  },
  {
   "cell_type": "markdown",
   "metadata": {
    "colab_type": "text",
    "id": "meAC7Fihkq5l"
   },
   "source": [
    "Visualizamos la mejor combinación de parámetros:"
   ]
  },
  {
   "cell_type": "code",
   "execution_count": 22,
   "metadata": {
    "colab": {
     "autoexec": {
      "startup": false,
      "wait_interval": 0
     }
    },
    "colab_type": "code",
    "id": "4v-S8T1skq5l",
    "outputId": "f9d90e36-0f7e-4d5f-b0d4-cf3138e56802"
   },
   "outputs": [
    {
     "data": {
      "image/png": "[encoded data removed]",
      "text/plain": [
       "<matplotlib.figure.Figure at 0x7feca5ebb2b0>"
      ]
     },
     "metadata": {},
     "output_type": "display_data"
    }
   ],
   "source": [
    "pl.figure(figsize=(10, 6))\n",
    "pl.subplots_adjust(left=.2, right=0.95, bottom=0.15, top=0.95)\n",
    "pl.imshow(scores, interpolation='nearest', cmap=plt.cm.hot,\n",
    "           norm=MidpointNormalize(vmin=0.89, midpoint=0.97, vmax=1.))\n",
    "pl.xlabel('n_estimators')\n",
    "pl.ylabel('max_features')\n",
    "pl.colorbar()\n",
    "pl.xticks(np.arange(len(param_grid['n_estimators'])), param_grid['n_estimators'], rotation=45)\n",
    "pl.yticks(np.arange(len(param_grid['max_features'])), param_grid['max_features'])\n",
    "pl.title('Accuracy en validación')\n",
    "pl.show() # Entre más arboles mejor, entre menos características mejor (10% que para el conjunto de datos wine es 1 o 2 vars)"
   ]
  },
  {
   "cell_type": "markdown",
   "metadata": {
    "colab_type": "text",
    "id": "ycbbknODkq5o"
   },
   "source": [
    "La mejor combinación de parámetros está dada por:"
   ]
  },
  {
   "cell_type": "code",
   "execution_count": 23,
   "metadata": {
    "colab": {
     "autoexec": {
      "startup": false,
      "wait_interval": 0
     }
    },
    "colab_type": "code",
    "id": "S6dIfCGxkq5o",
    "outputId": "566df69c-72c8-4b3f-86f9-c96848206e3c"
   },
   "outputs": [
    {
     "data": {
      "text/plain": [
       "{'max_features': 0.1, 'n_estimators': 64}"
      ]
     },
     "execution_count": 23,
     "metadata": {},
     "output_type": "execute_result"
    }
   ],
   "source": [
    "clf.best_params_"
   ]
  },
  {
   "cell_type": "code",
   "execution_count": 24,
   "metadata": {
    "colab": {
     "autoexec": {
      "startup": false,
      "wait_interval": 0
     }
    },
    "colab_type": "code",
    "id": "WSS-sNypkq5s",
    "outputId": "b719fdb1-7e45-411e-fa78-20a977eaa6b2"
   },
   "outputs": [
    {
     "data": {
      "text/plain": [
       "0.9838709677419355"
      ]
     },
     "execution_count": 24,
     "metadata": {},
     "output_type": "execute_result"
    }
   ],
   "source": [
    "clf.best_score_"
   ]
  },
  {
   "cell_type": "markdown",
   "metadata": {
    "colab_type": "text",
    "id": "ynbzxQ0Akq5u"
   },
   "source": [
    "Finalmente, reportamos en el conjunto de prueba:"
   ]
  },
  {
   "cell_type": "code",
   "execution_count": 25,
   "metadata": {
    "colab": {
     "autoexec": {
      "startup": false,
      "wait_interval": 0
     }
    },
    "colab_type": "code",
    "id": "hyDm4Ns4kq5v",
    "outputId": "dd7cfee3-8331-453b-e053-9c1e4281edec"
   },
   "outputs": [
    {
     "data": {
      "text/plain": [
       "1.0"
      ]
     },
     "execution_count": 25,
     "metadata": {},
     "output_type": "execute_result"
    }
   ],
   "source": [
    "clf.score(X_test, y_test)"
   ]
  },
  {
   "cell_type": "markdown",
   "metadata": {
    "colab_type": "text",
    "id": "g6DFb_PMkq51"
   },
   "source": [
    "## Importancia de características\n",
    "\n",
    "Una ventaja muy significativa de usar Random Forests consiste en la posibilidad de obtener la importancia de las características del conjunto de datos. Esta importancia nos indica qué tanto una característica contribuye al desempeño en los nodos de los diferentes árboles.\n",
    "\n",
    "A continuación, seguimos usando el conjunto de datos `wine` y obtenemos la importancia de las características del mejor modelo usando validación cruzada. Entrenemos de nuevo el modelo:"
   ]
  },
  {
   "cell_type": "code",
   "execution_count": 26,
   "metadata": {
    "colab": {
     "autoexec": {
      "startup": false,
      "wait_interval": 0
     }
    },
    "colab_type": "code",
    "id": "m-rVoGBNkq52"
   },
   "outputs": [],
   "source": [
    "clf = RandomForestClassifier(n_estimators=64, max_features=.1)\n",
    "\n",
    "clf.fit(X_train, y_train);"
   ]
  },
  {
   "cell_type": "markdown",
   "metadata": {
    "colab_type": "text",
    "id": "76TDTF32kq54"
   },
   "source": [
    "Extraemos la importancia de las características"
   ]
  },
  {
   "cell_type": "code",
   "execution_count": 27,
   "metadata": {
    "colab": {
     "autoexec": {
      "startup": false,
      "wait_interval": 0
     }
    },
    "colab_type": "code",
    "id": "i61Udnk7kq54",
    "outputId": "8227e115-3427-4bba-a9e5-638d4cc4bee7"
   },
   "outputs": [
    {
     "data": {
      "text/plain": [
       "array([0.12501515, 0.0692023 , 0.04384025, 0.07453953, 0.05741117,\n",
       "       0.07197751, 0.07658201, 0.03417012, 0.05802869, 0.1104047 ,\n",
       "       0.06747811, 0.10632191, 0.10502857])"
      ]
     },
     "execution_count": 27,
     "metadata": {},
     "output_type": "execute_result"
    }
   ],
   "source": [
    "clf.feature_importances_"
   ]
  },
  {
   "cell_type": "markdown",
   "metadata": {
    "colab_type": "text",
    "id": "8gTA1CIekq57"
   },
   "source": [
    "A continuación ordenamos las características por su importancia"
   ]
  },
  {
   "cell_type": "code",
   "execution_count": 28,
   "metadata": {
    "colab": {
     "autoexec": {
      "startup": false,
      "wait_interval": 0
     }
    },
    "colab_type": "code",
    "id": "_0JO-w-hkq57",
    "outputId": "5f84d454-b447-4823-fc7f-79029da46d25"
   },
   "outputs": [
    {
     "name": "stdout",
     "output_type": "stream",
     "text": [
      "Importancia de características:\n",
      "Característica Alcohol (0.125015)\n",
      "Característica Color (0.110405)\n",
      "Característica  OD280/OD315 (0.106322)\n",
      "Característica  Proline     (0.105029)\n",
      "Característica  Flavanoids (0.076582)\n",
      "Característica  Alcalinity (0.074540)\n",
      "Característica  Phenols (0.071978)\n",
      "Característica  Malic_acid (0.069202)\n",
      "Característica  Hue (0.067478)\n",
      "Característica  Proanthocyanins (0.058029)\n",
      "Característica  Magnesium (0.057411)\n",
      "Característica  Ash (0.043840)\n",
      "Característica  Nonflavanoid (0.034170)\n"
     ]
    }
   ],
   "source": [
    "importances = clf.feature_importances_\n",
    "indices = np.argsort(importances)[::-1]\n",
    "\n",
    "print(\"Importancia de características:\")\n",
    "\n",
    "for f in range(X_train.shape[1]):\n",
    "    print(\"Característica %s (%f)\" % (df.columns[int(1+indices[f])], importances[indices[f]]))"
   ]
  },
  {
   "cell_type": "code",
   "execution_count": 29,
   "metadata": {
    "colab": {
     "autoexec": {
      "startup": false,
      "wait_interval": 0
     }
    },
    "colab_type": "code",
    "id": "hy9BAVGpkq59",
    "outputId": "ad232bb2-6705-4730-f1a4-5ea5c0b2f4b0"
   },
   "outputs": [
    {
     "data": {
      "image/png": "[encoded data removed]",
      "text/plain": [
       "<matplotlib.figure.Figure at 0x7feca5eaada0>"
      ]
     },
     "metadata": {},
     "output_type": "display_data"
    }
   ],
   "source": [
    "plt.figure()\n",
    "plt.title(\"Importancia de las características\")\n",
    "plt.bar(range(X_train.shape[1]), importances[indices],\n",
    "       color=\"r\", align=\"center\")\n",
    "xticks_labels = [df.columns[1+i] for i in indices]\n",
    "plt.xticks(range(X.shape[1]), xticks_labels, rotation=45)\n",
    "plt.xlim([-1, X.shape[1]])\n",
    "plt.show()"
   ]
  },
  {
   "cell_type": "markdown",
   "metadata": {
    "colab_type": "text",
    "id": "-Pu085Cakq5_"
   },
   "source": [
    "# Optimización aleatoria de parámetros\n",
    "\n",
    "A pesar de las ventajas que ofrece `GridSearchCV` sobre la exploración sistemática de los hiperparámetros de un modelo, puede gastar un tiempo considerable en esta exploración. Scikit-Learn permite hacer también una exploración aleatoria de los parámetros, la cual se ha demostrado empiricamente que es más eficiente que optimizar los parámetros usando una malla con `GridSearchCV` ([Referencia](http://www.jmlr.org/papers/volume13/bergstra12a/bergstra12a.pdf)). `RandomizedSearchCV` implementa una búsqueda aleatoria sobre los parámetros. El rango de exploración de los parámetros se puede especificar de la siguiente manera:\n",
    "\n",
    "* Usando una lista:\n",
    "    * `\"criterion\": [\"gini\", \"entropy\"]`\n",
    "* Usando una distribución discreta uniforme:\n",
    "    * `\"n_estimators\": randint(4, 2048)`\n",
    "    * `randint` proviene de `scipy.stats`. Este genera una distribución discreta entre 4 y 2048. \n",
    "* Usando una distribución uniforme:\n",
    "    * `\"max_features\": uniform()`\n",
    "    * `uniform` proviene de `scipy.stats`. Este genera una distribución uniforme entre 0 y 1.\n",
    "    \n",
    "`RandomizedSearchCV` puede recibir tanto listas de elementos como distribuciones de probabilidad, las cuales deben ser especificadas usando `scipy.stats`. A continuación, creamos nuestro estimador y definimos la distribución de parámetros:"
   ]
  },
  {
   "cell_type": "code",
   "execution_count": 30,
   "metadata": {
    "colab": {
     "autoexec": {
      "startup": false,
      "wait_interval": 0
     }
    },
    "colab_type": "code",
    "id": "h5214wOZkq6A"
   },
   "outputs": [],
   "source": [
    "from sklearn.model_selection import RandomizedSearchCV\n",
    "from scipy.stats import uniform \n",
    "from scipy.stats import randint\n",
    "\n",
    "clf = RandomForestClassifier()\n",
    "\n",
    "param_dist = {\"n_estimators\": randint(4, 800),\n",
    "              \"max_features\": uniform()} # núm aleatorio entre 0 y 1"
   ]
  },
  {
   "cell_type": "markdown",
   "metadata": {
    "colab_type": "text",
    "id": "-bmwtozgkq6B"
   },
   "source": [
    "`n_iter_search` nos define el número de configuraciones que vamos a extraer de la distribución de parámetros."
   ]
  },
  {
   "cell_type": "code",
   "execution_count": 31,
   "metadata": {
    "colab": {
     "autoexec": {
      "startup": false,
      "wait_interval": 0
     }
    },
    "colab_type": "code",
    "id": "cA6cUpd_kq6D"
   },
   "outputs": [],
   "source": [
    "n_iter_search = 20\n",
    "random_search = RandomizedSearchCV(clf, param_distributions=param_dist,\n",
    "                                   n_iter=n_iter_search, cv=5, # 5 folds\n",
    "                                   n_jobs=-1, verbose=2) # n_jobs paralelizar"
   ]
  },
  {
   "cell_type": "markdown",
   "metadata": {
    "colab_type": "text",
    "id": "hIFOFdzWkq6E"
   },
   "source": [
    "`RandomizedSearchCV` también soporta la ejecución en paralelo usando `n_jobs=-1`. También podemos especificar el número de pliegues a usar usando `cv=5`"
   ]
  },
  {
   "cell_type": "code",
   "execution_count": 32,
   "metadata": {
    "colab": {
     "autoexec": {
      "startup": false,
      "wait_interval": 0
     }
    },
    "colab_type": "code",
    "id": "vneDqAwxkq6F",
    "outputId": "1cdeca3a-67ed-409b-9052-93ba03b4bdf6"
   },
   "outputs": [
    {
     "name": "stdout",
     "output_type": "stream",
     "text": [
      "Fitting 5 folds for each of 20 candidates, totalling 100 fits\n",
      "[CV] max_features=0.9879976996098128, n_estimators=609 ...............\n",
      "[CV] max_features=0.9879976996098128, n_estimators=609 ...............\n",
      "[CV] max_features=0.2732522958715481, n_estimators=207 ...............\n",
      "[CV] max_features=0.2732522958715481, n_estimators=207 ...............\n",
      "[CV] max_features=0.9879976996098128, n_estimators=609 ...............\n",
      "[CV] max_features=0.9879976996098128, n_estimators=609 ...............\n",
      "[CV] max_features=0.2732522958715481, n_estimators=207 ...............\n",
      "[CV] max_features=0.9879976996098128, n_estimators=609 ...............\n",
      "[CV]  max_features=0.2732522958715481, n_estimators=207, total=   0.3s\n",
      "[CV]  max_features=0.2732522958715481, n_estimators=207, total=   0.3s\n",
      "[CV] max_features=0.2732522958715481, n_estimators=207 ...............\n",
      "[CV] max_features=0.2732522958715481, n_estimators=207 ...............\n",
      "[CV]  max_features=0.2732522958715481, n_estimators=207, total=   0.3s\n",
      "[CV] max_features=0.6913108812107946, n_estimators=172 ...............\n",
      "[CV]  max_features=0.2732522958715481, n_estimators=207, total=   0.3s\n",
      "[CV] max_features=0.6913108812107946, n_estimators=172 ...............\n",
      "[CV]  max_features=0.2732522958715481, n_estimators=207, total=   0.3s\n",
      "[CV] max_features=0.6913108812107946, n_estimators=172 ...............\n",
      "[CV]  max_features=0.6913108812107946, n_estimators=172, total=   0.3s\n",
      "[CV] max_features=0.6913108812107946, n_estimators=172 ...............\n",
      "[CV]  max_features=0.6913108812107946, n_estimators=172, total=   0.3s\n",
      "[CV] max_features=0.6913108812107946, n_estimators=172 ...............\n",
      "[CV]  max_features=0.6913108812107946, n_estimators=172, total=   0.3s\n",
      "[CV]  max_features=0.6913108812107946, n_estimators=172, total=   0.3s\n",
      "[CV] max_features=0.39228861690437555, n_estimators=515 ..............\n",
      "[CV] max_features=0.39228861690437555, n_estimators=515 ..............\n",
      "[CV]  max_features=0.9879976996098128, n_estimators=609, total=   1.0s\n",
      "[CV]  max_features=0.9879976996098128, n_estimators=609, total=   1.0s\n",
      "[CV] max_features=0.39228861690437555, n_estimators=515 ..............\n",
      "[CV] max_features=0.39228861690437555, n_estimators=515 ..............\n",
      "[CV]  max_features=0.9879976996098128, n_estimators=609, total=   1.0s\n",
      "[CV] max_features=0.39228861690437555, n_estimators=515 ..............\n",
      "[CV]  max_features=0.9879976996098128, n_estimators=609, total=   1.0s\n",
      "[CV] max_features=0.8965112620633212, n_estimators=286 ...............\n",
      "[CV]  max_features=0.9879976996098128, n_estimators=609, total=   1.0s\n",
      "[CV] max_features=0.8965112620633212, n_estimators=286 ...............\n",
      "[CV]  max_features=0.6913108812107946, n_estimators=172, total=   0.3s\n",
      "[CV] max_features=0.8965112620633212, n_estimators=286 ...............\n",
      "[CV]  max_features=0.8965112620633212, n_estimators=286, total=   0.5s\n",
      "[CV] max_features=0.8965112620633212, n_estimators=286 ...............\n",
      "[CV]  max_features=0.8965112620633212, n_estimators=286, total=   0.5s\n",
      "[CV] max_features=0.8965112620633212, n_estimators=286 ...............\n",
      "[CV]  max_features=0.8965112620633212, n_estimators=286, total=   0.5s\n",
      "[CV] max_features=0.08415431203200696, n_estimators=622 ..............\n",
      "[CV]  max_features=0.39228861690437555, n_estimators=515, total=   0.8s\n",
      "[CV]  max_features=0.39228861690437555, n_estimators=515, total=   0.8s\n",
      "[CV] max_features=0.08415431203200696, n_estimators=622 ..............\n",
      "[CV] max_features=0.08415431203200696, n_estimators=622 ..............\n",
      "[CV]  max_features=0.39228861690437555, n_estimators=515, total=   0.8s\n",
      "[CV]  max_features=0.39228861690437555, n_estimators=515, total=   0.8s\n",
      "[CV] max_features=0.08415431203200696, n_estimators=622 ..............\n",
      "[CV] max_features=0.08415431203200696, n_estimators=622 ..............\n",
      "[CV]  max_features=0.39228861690437555, n_estimators=515, total=   0.8s\n",
      "[CV] max_features=0.8226302461820598, n_estimators=451 ...............\n",
      "[CV]  max_features=0.8965112620633212, n_estimators=286, total=   0.5s\n",
      "[CV]  max_features=0.8965112620633212, n_estimators=286, total=   0.5s\n",
      "[CV] max_features=0.8226302461820598, n_estimators=451 ...............\n",
      "[CV] max_features=0.8226302461820598, n_estimators=451 ...............\n"
     ]
    },
    {
     "name": "stderr",
     "output_type": "stream",
     "text": [
      "[Parallel(n_jobs=-1)]: Done  25 tasks      | elapsed:    2.2s\n"
     ]
    },
    {
     "name": "stdout",
     "output_type": "stream",
     "text": [
      "[CV]  max_features=0.8226302461820598, n_estimators=451, total=   0.7s\n",
      "[CV] max_features=0.8226302461820598, n_estimators=451 ...............\n",
      "[CV]  max_features=0.08415431203200696, n_estimators=622, total=   0.9s\n",
      "[CV] max_features=0.8226302461820598, n_estimators=451 ...............\n",
      "[CV]  max_features=0.08415431203200696, n_estimators=622, total=   0.9s\n",
      "[CV] max_features=0.8325885178221839, n_estimators=547 ...............\n",
      "[CV]  max_features=0.08415431203200696, n_estimators=622, total=   1.0s\n",
      "[CV]  max_features=0.08415431203200696, n_estimators=622, total=   1.0s\n",
      "[CV] max_features=0.8325885178221839, n_estimators=547 ...............\n",
      "[CV] max_features=0.8325885178221839, n_estimators=547 ...............\n",
      "[CV]  max_features=0.08415431203200696, n_estimators=622, total=   1.0s\n",
      "[CV] max_features=0.8325885178221839, n_estimators=547 ...............\n",
      "[CV]  max_features=0.8226302461820598, n_estimators=451, total=   0.7s\n",
      "[CV] max_features=0.8325885178221839, n_estimators=547 ...............\n",
      "[CV]  max_features=0.8226302461820598, n_estimators=451, total=   0.8s\n",
      "[CV] max_features=0.33535172861352824, n_estimators=159 ..............\n",
      "[CV]  max_features=0.33535172861352824, n_estimators=159, total=   0.3s\n",
      "[CV] max_features=0.33535172861352824, n_estimators=159 ..............\n",
      "[CV]  max_features=0.8226302461820598, n_estimators=451, total=   0.8s\n",
      "[CV] max_features=0.33535172861352824, n_estimators=159 ..............\n",
      "[CV]  max_features=0.33535172861352824, n_estimators=159, total=   0.2s\n",
      "[CV] max_features=0.33535172861352824, n_estimators=159 ..............\n",
      "[CV]  max_features=0.8226302461820598, n_estimators=451, total=   0.8s\n",
      "[CV] max_features=0.33535172861352824, n_estimators=159 ..............\n",
      "[CV]  max_features=0.33535172861352824, n_estimators=159, total=   0.3s\n",
      "[CV] max_features=0.04379776410449121, n_estimators=652 ..............\n",
      "[CV]  max_features=0.8325885178221839, n_estimators=547, total=   0.9s\n",
      "[CV]  max_features=0.8325885178221839, n_estimators=547, total=   0.9s\n",
      "[CV] max_features=0.04379776410449121, n_estimators=652 ..............\n",
      "[CV]  max_features=0.8325885178221839, n_estimators=547, total=   0.9s\n",
      "[CV] max_features=0.04379776410449121, n_estimators=652 ..............\n",
      "[CV] max_features=0.04379776410449121, n_estimators=652 ..............\n",
      "[CV]  max_features=0.8325885178221839, n_estimators=547, total=   0.9s\n",
      "[CV] max_features=0.04379776410449121, n_estimators=652 ..............\n",
      "[CV]  max_features=0.33535172861352824, n_estimators=159, total=   0.3s\n",
      "[CV]  max_features=0.33535172861352824, n_estimators=159, total=   0.3s\n",
      "[CV] max_features=0.9328824379767133, n_estimators=734 ...............\n",
      "[CV] max_features=0.9328824379767133, n_estimators=734 ...............\n",
      "[CV]  max_features=0.8325885178221839, n_estimators=547, total=   1.0s\n",
      "[CV] max_features=0.9328824379767133, n_estimators=734 ...............\n",
      "[CV]  max_features=0.04379776410449121, n_estimators=652, total=   1.0s\n",
      "[CV] max_features=0.9328824379767133, n_estimators=734 ...............\n",
      "[CV]  max_features=0.04379776410449121, n_estimators=652, total=   1.0s\n",
      "[CV]  max_features=0.04379776410449121, n_estimators=652, total=   1.0s\n",
      "[CV] max_features=0.9328824379767133, n_estimators=734 ...............\n",
      "[CV] max_features=0.4899233666388467, n_estimators=230 ...............\n",
      "[CV]  max_features=0.04379776410449121, n_estimators=652, total=   1.0s\n",
      "[CV] max_features=0.4899233666388467, n_estimators=230 ...............\n",
      "[CV]  max_features=0.04379776410449121, n_estimators=652, total=   1.0s\n",
      "[CV] max_features=0.4899233666388467, n_estimators=230 ...............\n",
      "[CV]  max_features=0.9328824379767133, n_estimators=734, total=   1.2s\n",
      "[CV]  max_features=0.9328824379767133, n_estimators=734, total=   1.2s\n",
      "[CV] max_features=0.4899233666388467, n_estimators=230 ...............\n",
      "[CV]  max_features=0.9328824379767133, n_estimators=734, total=   1.2s\n",
      "[CV] max_features=0.0009129195408695834, n_estimators=755 ............\n",
      "[CV] max_features=0.4899233666388467, n_estimators=230 ...............\n",
      "[CV]  max_features=0.4899233666388467, n_estimators=230, total=   0.4s\n",
      "[CV] max_features=0.0009129195408695834, n_estimators=755 ............\n",
      "[CV]  max_features=0.4899233666388467, n_estimators=230, total=   0.4s\n",
      "[CV] max_features=0.0009129195408695834, n_estimators=755 ............\n",
      "[CV]  max_features=0.4899233666388467, n_estimators=230, total=   0.4s\n",
      "[CV] max_features=0.0009129195408695834, n_estimators=755 ............\n",
      "[CV]  max_features=0.4899233666388467, n_estimators=230, total=   0.4s\n",
      "[CV] max_features=0.0009129195408695834, n_estimators=755 ............\n",
      "[CV]  max_features=0.4899233666388467, n_estimators=230, total=   0.4s\n",
      "[CV] max_features=0.29612672735239554, n_estimators=636 ..............\n",
      "[CV]  max_features=0.9328824379767133, n_estimators=734, total=   1.2s\n",
      "[CV] max_features=0.29612672735239554, n_estimators=636 ..............\n",
      "[CV]  max_features=0.9328824379767133, n_estimators=734, total=   1.2s\n",
      "[CV] max_features=0.29612672735239554, n_estimators=636 ..............\n",
      "[CV]  max_features=0.0009129195408695834, n_estimators=755, total=   1.2s\n",
      "[CV] max_features=0.29612672735239554, n_estimators=636 ..............\n",
      "[CV]  max_features=0.0009129195408695834, n_estimators=755, total=   1.2s\n",
      "[CV] max_features=0.29612672735239554, n_estimators=636 ..............\n",
      "[CV]  max_features=0.0009129195408695834, n_estimators=755, total=   1.1s\n",
      "[CV] max_features=0.4169634544238936, n_estimators=452 ...............\n",
      "[CV]  max_features=0.0009129195408695834, n_estimators=755, total=   1.2s\n",
      "[CV] max_features=0.4169634544238936, n_estimators=452 ...............\n",
      "[CV]  max_features=0.29612672735239554, n_estimators=636, total=   1.0s\n",
      "[CV] max_features=0.4169634544238936, n_estimators=452 ...............\n",
      "[CV]  max_features=0.0009129195408695834, n_estimators=755, total=   1.2s\n",
      "[CV] max_features=0.4169634544238936, n_estimators=452 ...............\n",
      "[CV]  max_features=0.29612672735239554, n_estimators=636, total=   1.0s\n",
      "[CV]  max_features=0.29612672735239554, n_estimators=636, total=   1.0s\n",
      "[CV] max_features=0.4169634544238936, n_estimators=452 ...............\n",
      "[CV] max_features=0.008187288629735945, n_estimators=720 .............\n",
      "[CV]  max_features=0.4169634544238936, n_estimators=452, total=   0.7s\n",
      "[CV] max_features=0.008187288629735945, n_estimators=720 .............\n",
      "[CV]  max_features=0.4169634544238936, n_estimators=452, total=   0.7s\n",
      "[CV] max_features=0.008187288629735945, n_estimators=720 .............\n",
      "[CV]  max_features=0.4169634544238936, n_estimators=452, total=   0.7s\n",
      "[CV] max_features=0.008187288629735945, n_estimators=720 .............\n",
      "[CV]  max_features=0.29612672735239554, n_estimators=636, total=   1.0s\n",
      "[CV] max_features=0.008187288629735945, n_estimators=720 .............\n",
      "[CV]  max_features=0.29612672735239554, n_estimators=636, total=   1.0s\n",
      "[CV] max_features=0.2899526427392588, n_estimators=764 ...............\n",
      "[CV]  max_features=0.4169634544238936, n_estimators=452, total=   0.7s\n",
      "[CV] max_features=0.2899526427392588, n_estimators=764 ...............\n",
      "[CV]  max_features=0.4169634544238936, n_estimators=452, total=   0.7s\n",
      "[CV] max_features=0.2899526427392588, n_estimators=764 ...............\n",
      "[CV]  max_features=0.008187288629735945, n_estimators=720, total=   1.1s\n",
      "[CV] max_features=0.2899526427392588, n_estimators=764 ...............\n",
      "[CV]  max_features=0.008187288629735945, n_estimators=720, total=   1.1s\n",
      "[CV]  max_features=0.008187288629735945, n_estimators=720, total=   1.1s\n",
      "[CV] max_features=0.2899526427392588, n_estimators=764 ...............\n",
      "[CV] max_features=0.029435237061361197, n_estimators=224 .............\n",
      "[CV]  max_features=0.008187288629735945, n_estimators=720, total=   1.1s\n",
      "[CV] max_features=0.029435237061361197, n_estimators=224 .............\n",
      "[CV]  max_features=0.008187288629735945, n_estimators=720, total=   1.1s\n",
      "[CV] max_features=0.029435237061361197, n_estimators=224 .............\n",
      "[CV]  max_features=0.029435237061361197, n_estimators=224, total=   0.3s\n",
      "[CV] max_features=0.029435237061361197, n_estimators=224 .............\n",
      "[CV]  max_features=0.2899526427392588, n_estimators=764, total=   1.2s\n",
      "[CV] max_features=0.029435237061361197, n_estimators=224 .............\n",
      "[CV]  max_features=0.2899526427392588, n_estimators=764, total=   1.2s\n"
     ]
    },
    {
     "name": "stdout",
     "output_type": "stream",
     "text": [
      "[CV] max_features=0.8459838734615371, n_estimators=736 ...............\n",
      "[CV]  max_features=0.029435237061361197, n_estimators=224, total=   0.3s\n",
      "[CV] max_features=0.8459838734615371, n_estimators=736 ...............\n",
      "[CV]  max_features=0.029435237061361197, n_estimators=224, total=   0.3s\n",
      "[CV] max_features=0.8459838734615371, n_estimators=736 ...............\n",
      "[CV]  max_features=0.029435237061361197, n_estimators=224, total=   0.3s\n",
      "[CV] max_features=0.8459838734615371, n_estimators=736 ...............\n",
      "[CV]  max_features=0.029435237061361197, n_estimators=224, total=   0.3s\n",
      "[CV] max_features=0.8459838734615371, n_estimators=736 ...............\n",
      "[CV]  max_features=0.2899526427392588, n_estimators=764, total=   1.2s\n",
      "[CV] max_features=0.5871565138465034, n_estimators=534 ...............\n",
      "[CV]  max_features=0.2899526427392588, n_estimators=764, total=   1.2s\n",
      "[CV] max_features=0.5871565138465034, n_estimators=534 ...............\n",
      "[CV]  max_features=0.2899526427392588, n_estimators=764, total=   1.2s\n",
      "[CV] max_features=0.5871565138465034, n_estimators=534 ...............\n",
      "[CV]  max_features=0.5871565138465034, n_estimators=534, total=   0.8s\n",
      "[CV] max_features=0.5871565138465034, n_estimators=534 ...............\n",
      "[CV]  max_features=0.8459838734615371, n_estimators=736, total=   1.2s\n",
      "[CV] max_features=0.5871565138465034, n_estimators=534 ...............\n",
      "[CV]  max_features=0.8459838734615371, n_estimators=736, total=   1.3s\n",
      "[CV]  max_features=0.8459838734615371, n_estimators=736, total=   1.2s\n",
      "[CV]  max_features=0.8459838734615371, n_estimators=736, total=   1.1s\n",
      "[CV]  max_features=0.8459838734615371, n_estimators=736, total=   1.2s\n",
      "[CV]  max_features=0.5871565138465034, n_estimators=534, total=   0.9s\n",
      "[CV]  max_features=0.5871565138465034, n_estimators=534, total=   0.8s\n",
      "[CV]  max_features=0.5871565138465034, n_estimators=534, total=   0.6s\n",
      "[CV]  max_features=0.5871565138465034, n_estimators=534, total=   0.6s\n"
     ]
    },
    {
     "name": "stderr",
     "output_type": "stream",
     "text": [
      "[Parallel(n_jobs=-1)]: Done 100 out of 100 | elapsed:   11.0s finished\n"
     ]
    },
    {
     "name": "stdout",
     "output_type": "stream",
     "text": [
      "RandomizedSearchCV tomó 11.594887971878052 segundos usando 20 configuraciones\n"
     ]
    }
   ],
   "source": [
    "start = time()\n",
    "random_search.fit(X_train, y_train)\n",
    "print(\"RandomizedSearchCV tomó {} segundos usando {} configuraciones\".format(time() - start,\n",
    "                                                                               n_iter_search))"
   ]
  },
  {
   "cell_type": "markdown",
   "metadata": {
    "colab_type": "text",
    "id": "DC4Dji2wkq6K"
   },
   "source": [
    "Extraemos los resultados con mejor desempeño promedio:"
   ]
  },
  {
   "cell_type": "code",
   "execution_count": 33,
   "metadata": {
    "colab": {
     "autoexec": {
      "startup": false,
      "wait_interval": 0
     }
    },
    "colab_type": "code",
    "id": "51pbXE-Kkq6L",
    "outputId": "c7d72287-a1f1-4164-b078-2a653440db1a"
   },
   "outputs": [
    {
     "name": "stderr",
     "output_type": "stream",
     "text": [
      "/home/dianar/anaconda3/lib/python3.6/site-packages/sklearn/utils/deprecation.py:122: FutureWarning: You are accessing a training score ('mean_train_score'), which will not be available by default any more in 0.21. If you need training scores, please set return_train_score=True\n",
      "  warnings.warn(*warn_args, **warn_kwargs)\n",
      "/home/dianar/anaconda3/lib/python3.6/site-packages/sklearn/utils/deprecation.py:122: FutureWarning: You are accessing a training score ('split0_train_score'), which will not be available by default any more in 0.21. If you need training scores, please set return_train_score=True\n",
      "  warnings.warn(*warn_args, **warn_kwargs)\n",
      "/home/dianar/anaconda3/lib/python3.6/site-packages/sklearn/utils/deprecation.py:122: FutureWarning: You are accessing a training score ('split1_train_score'), which will not be available by default any more in 0.21. If you need training scores, please set return_train_score=True\n",
      "  warnings.warn(*warn_args, **warn_kwargs)\n",
      "/home/dianar/anaconda3/lib/python3.6/site-packages/sklearn/utils/deprecation.py:122: FutureWarning: You are accessing a training score ('split2_train_score'), which will not be available by default any more in 0.21. If you need training scores, please set return_train_score=True\n",
      "  warnings.warn(*warn_args, **warn_kwargs)\n",
      "/home/dianar/anaconda3/lib/python3.6/site-packages/sklearn/utils/deprecation.py:122: FutureWarning: You are accessing a training score ('split3_train_score'), which will not be available by default any more in 0.21. If you need training scores, please set return_train_score=True\n",
      "  warnings.warn(*warn_args, **warn_kwargs)\n",
      "/home/dianar/anaconda3/lib/python3.6/site-packages/sklearn/utils/deprecation.py:122: FutureWarning: You are accessing a training score ('split4_train_score'), which will not be available by default any more in 0.21. If you need training scores, please set return_train_score=True\n",
      "  warnings.warn(*warn_args, **warn_kwargs)\n",
      "/home/dianar/anaconda3/lib/python3.6/site-packages/sklearn/utils/deprecation.py:122: FutureWarning: You are accessing a training score ('std_train_score'), which will not be available by default any more in 0.21. If you need training scores, please set return_train_score=True\n",
      "  warnings.warn(*warn_args, **warn_kwargs)\n"
     ]
    },
    {
     "data": {
      "text/html": [
       "<div>\n",
       "<style scoped>\n",
       "    .dataframe tbody tr th:only-of-type {\n",
       "        vertical-align: middle;\n",
       "    }\n",
       "\n",
       "    .dataframe tbody tr th {\n",
       "        vertical-align: top;\n",
       "    }\n",
       "\n",
       "    .dataframe thead th {\n",
       "        text-align: right;\n",
       "    }\n",
       "</style>\n",
       "<table border=\"1\" class=\"dataframe\">\n",
       "  <thead>\n",
       "    <tr style=\"text-align: right;\">\n",
       "      <th></th>\n",
       "      <th>param_n_estimators</th>\n",
       "      <th>param_max_features</th>\n",
       "      <th>mean_test_score</th>\n",
       "    </tr>\n",
       "  </thead>\n",
       "  <tbody>\n",
       "    <tr>\n",
       "      <th>15</th>\n",
       "      <td>720</td>\n",
       "      <td>0.00818729</td>\n",
       "      <td>0.983871</td>\n",
       "    </tr>\n",
       "    <tr>\n",
       "      <th>5</th>\n",
       "      <td>622</td>\n",
       "      <td>0.0841543</td>\n",
       "      <td>0.983871</td>\n",
       "    </tr>\n",
       "    <tr>\n",
       "      <th>12</th>\n",
       "      <td>755</td>\n",
       "      <td>0.00091292</td>\n",
       "      <td>0.983871</td>\n",
       "    </tr>\n",
       "    <tr>\n",
       "      <th>17</th>\n",
       "      <td>224</td>\n",
       "      <td>0.0294352</td>\n",
       "      <td>0.983871</td>\n",
       "    </tr>\n",
       "    <tr>\n",
       "      <th>9</th>\n",
       "      <td>652</td>\n",
       "      <td>0.0437978</td>\n",
       "      <td>0.983871</td>\n",
       "    </tr>\n",
       "  </tbody>\n",
       "</table>\n",
       "</div>"
      ],
      "text/plain": [
       "   param_n_estimators param_max_features  mean_test_score\n",
       "15                720         0.00818729         0.983871\n",
       "5                 622          0.0841543         0.983871\n",
       "12                755         0.00091292         0.983871\n",
       "17                224          0.0294352         0.983871\n",
       "9                 652          0.0437978         0.983871"
      ]
     },
     "execution_count": 33,
     "metadata": {},
     "output_type": "execute_result"
    }
   ],
   "source": [
    "cv_results = pd.DataFrame(random_search.cv_results_)\n",
    "\n",
    "cv_results = cv_results[['param_n_estimators', 'param_max_features', 'mean_test_score']]\n",
    "cv_results.sort_values(by='mean_test_score', ascending=False).head()"
   ]
  },
  {
   "cell_type": "markdown",
   "metadata": {
    "colab_type": "text",
    "id": "ZI8HibNgkq6N"
   },
   "source": [
    "Verificamos la mejor configuración y su puntaje sobre todas las particiones de validación:"
   ]
  },
  {
   "cell_type": "code",
   "execution_count": 34,
   "metadata": {
    "colab": {
     "autoexec": {
      "startup": false,
      "wait_interval": 0
     }
    },
    "colab_type": "code",
    "id": "k14BgiRfkq6O",
    "outputId": "9a6217dc-43c4-4ae8-9c38-8f9dbd41c54f"
   },
   "outputs": [
    {
     "data": {
      "text/plain": [
       "{'max_features': 0.08415431203200696, 'n_estimators': 622}"
      ]
     },
     "execution_count": 34,
     "metadata": {},
     "output_type": "execute_result"
    }
   ],
   "source": [
    "random_search.best_params_"
   ]
  },
  {
   "cell_type": "code",
   "execution_count": 35,
   "metadata": {
    "colab": {
     "autoexec": {
      "startup": false,
      "wait_interval": 0
     }
    },
    "colab_type": "code",
    "id": "01ALTrDlkq6Q",
    "outputId": "2d7ec435-d9f0-4389-95f3-623439b251c8"
   },
   "outputs": [
    {
     "data": {
      "text/plain": [
       "0.9838709677419355"
      ]
     },
     "execution_count": 35,
     "metadata": {},
     "output_type": "execute_result"
    }
   ],
   "source": [
    "random_search.best_score_"
   ]
  },
  {
   "cell_type": "markdown",
   "metadata": {
    "colab_type": "text",
    "id": "Q0pRHnGtkq6T"
   },
   "source": [
    "Reportamos el error de generalización:"
   ]
  },
  {
   "cell_type": "code",
   "execution_count": 36,
   "metadata": {
    "colab": {
     "autoexec": {
      "startup": false,
      "wait_interval": 0
     }
    },
    "colab_type": "code",
    "id": "048_ucYGkq6U",
    "outputId": "e64a8f5f-fe60-435a-f51f-afbbe93e3e9c"
   },
   "outputs": [
    {
     "data": {
      "text/plain": [
       "1.0"
      ]
     },
     "execution_count": 36,
     "metadata": {},
     "output_type": "execute_result"
    }
   ],
   "source": [
    "random_search.score(X_test, y_test)"
   ]
  },
  {
   "cell_type": "markdown",
   "metadata": {
    "colab_type": "text",
    "id": "FlKBrJTDkq6W"
   },
   "source": [
    "# Taller\n",
    "\n",
    "Este taller se va a enfocar en trabajar con el conjunto de datos del censo de 1993 de USA. El conjunto de datos reune una serie de características socioeconómicas tanto categóricas como numéricas. El objetivo es construir un clasificador que determine si la persona tiene una ganancia alta al año (más de 50K USD) o baja (menos de 50K USD al año). A continuación encuentra una descripción de las características:\n",
    "\n",
    "Etiqueta:\n",
    "* income: >50K, <=50K.\n",
    "Características:\n",
    "* age: Variable continua.\n",
    "* workclass: Private, Self-emp-not-inc, Self-emp-inc, Federal-gov, Local-gov, State-gov, Without-pay, Never-worked.\n",
    "* fnlwgt: Variable continua.\n",
    "* education: Bachelors, Some-college, 11th, HS-grad, Prof-school, Assoc-acdm, Assoc-voc, 9th, 7th-8th, 12th, Masters, 1st-4th, 10th, Doctorate, 5th-6th, Preschool.\n",
    "* education-num: Variable continua.\n",
    "* marital-status: Married-civ-spouse, Divorced, Never-married, Separated, Widowed, Married-spouse-absent, Married-AF-spouse.\n",
    "* occupation: Tech-support, Craft-repair, Other-service, Sales, Exec-managerial, Prof-specialty, Handlers-cleaners, Machine-op-inspct, Adm-clerical, Farming-fishing, Transport-moving, Priv-house-serv, Protective-serv, Armed-Forces.\n",
    "* relationship: Wife, Own-child, Husband, Not-in-family, Other-relative, Unmarried.\n",
    "* race: White, Asian-Pac-Islander, Amer-Indian-Eskimo, Other, Black.\n",
    "* sex: Female, Male.\n",
    "* capital-gain: Variable continua.\n",
    "* capital-loss: Variable continua.\n",
    "* hours-per-week: Variable continua.\n",
    "* native-country: United-States, Cambodia, England, Puerto-Rico, Canada, Germany, Outlying-US(Guam-USVI-etc), India, Japan, Greece, South, China, Cuba, Iran, Honduras, Philippines, Italy, Poland, Jamaica, Vietnam, Mexico, Portugal, Ireland, France, Dominican-Republic, Laos, Ecuador, Taiwan, Haiti, Columbia, Hungary, Guatemala, Nicaragua, Scotland, Thailand, Yugoslavia, El-Salvador, Trinadad&Tobago, Peru, Hong, Holand-Netherlands.\n",
    "\n",
    "\n",
    "## Carga de datos\n",
    "* Cargue el conjunto de datos `adult.csv` en Pandas.\n",
    "* Este conjunto de datos tiene dos problemas:\n",
    "    * Contiene datos faltantes, representados por un interrogante: \"?\"\n",
    "    * Es un conjunto de datos imbalanceado.\n",
    "* Para verificar ambos hechos:\n",
    "    * Verifique qué porcentaje de valores indefinidos hay para las variables `workclass`, `occupation` y `native-country`.\n",
    "    * Luego, puede limpiar aquellas filas que contengan datos indefinidos. Puede usar el siguiente código:\n",
    "    ```python\n",
    "    df = df[df[\"workclass\"] != \"?\"]\n",
    "    df = df[df[\"occupation\"] != \"?\"]\n",
    "    df = df[df[\"native-country\"] != \"?\"]\n",
    "    ```\n",
    "    * Verifique el DataFrame tenga un tamaño de 45222 elementos por 15 características.\n",
    "    * Verifique la distribución de etiquetas en la columna `income`, ¿Cuál clase tiene mayor número de ejemplos?\n",
    "* Use `.describe()` para obtener un análisis de las variables numéricas del conjunto de datos.\n",
    "* Realice un conteo de cada elemento de las variables categóricas:\n",
    "    * ['workclass', 'race', 'education','marital-status', 'occupation','relationship', 'gender', 'native-country', 'income'] \n",
    "* Simplifique la categoría 'marital-status' de la siguiente forma:\n",
    "    * 'Divorced' -> 'not married'\n",
    "    * 'Married-AF-spouse' -> 'married'\n",
    "    * 'Married-civ-spouse' -> 'married'\n",
    "    * 'Married-spouse-absent' -> 'married'\n",
    "    * 'Never-married' -> 'not married'\n",
    "    * 'Separated' -> 'not married'\n",
    "    * 'Widowed' -> 'not married'\n",
    "* Convierta las variables categóricas a numéricas. El enfoque aquí presentado no es el mejor, pero será una primera aproximación. Puede usar el siguiente código:\n",
    "```python\n",
    "for col in category_col:\n",
    "    b, c = np.unique(df[col], return_inverse=True) \n",
    "    df[col] = c\n",
    "```\n",
    "A pesar de que no queremos inducir un orden en las categorías analizadas, es un buen inicio para probar Validación cruzada.\n",
    "* Cree una matriz `X` de características usando:\n",
    "    * ['age','workclass','education','educational-num','marital-status', 'occupation','relationship','race','gender','capital-gain','capital-loss','hours-per-week', 'native-country']\n",
    "* Cree el arreglo `y` usando la columna `income`:\n",
    "* Genere una partición de entrenamiento y prueba $80\\%-20\\%$ estratificada. NO MODIFIQUE EL CONJUNTO DE DATOS ORIGINAL.\n",
    "* Verifique que en efecto la partición haya sido estratificada.\n",
    "\n",
    "## RandomizedSearchCV\n",
    "\n",
    "* Genere la siguiente distribución de parámetros:\n",
    "    * `n_estimators` seguirá una distribución uniforme discreta entre 4 y 512\n",
    "    * `max_features` seguirá una distribución uniforme entre 0 y 1\n",
    "    * `max_depth` será un valor entre 5 o None\n",
    "    * `bootstrap` será un valor entre True o False\n",
    "* ¿Qué hace `max_depth` y `bootstrap`? ¿Qué significa que `max_depth` sea None? Consulte la [documentación](http://scikit-learn.org/stable/modules/generated/sklearn.ensemble.RandomForestClassifier.html)\n",
    "* Entrene un RandomForestClassifier sobre las siguientes condiciones:\n",
    "    * 20 iteraciones de la distribución de parámetros\n",
    "    * Pliegues de la validación cruzada= 5\n",
    "    * Use `n_jobs=-1` para hacer la búsqueda de parámetros de forma paralela\n",
    "* ¿Cuales son las mejores configuraciones?\n",
    "* ¿Qué desempeño tienen las mejores configuraciones?\n",
    "* Reporte accuracy, precision, recall y matriz de confusión en el conjunto de prueba"
   ]
  },
  {
   "cell_type": "code",
   "execution_count": null,
   "metadata": {},
   "outputs": [],
   "source": [
    "##Cargue el conjunto de datos adult.csv en Pandas.\n",
    "## Este conjunto de datos tiene dos problemas:\n",
    "## Contiene datos faltantes, representados por un interrogante: \"?\"\n",
    "## Es un conjunto de datos imbalanceado.\n",
    "## Para verificar ambos hechos:\n",
    "## Verifique qué porcentaje de valores indefinidos hay para las variables workclass, occupation y native-country.\n",
    "\n",
    "\n",
    "## Luego, puede limpiar aquellas filas que contengan datos indefinidos. Puede usar el siguiente código:\n",
    "\n",
    "        df = df[df[\"workclass\"] != \"?\"]\n",
    "        df = df[df[\"occupation\"] != \"?\"]\n",
    "        df = df[df[\"native-country\"] != \"?\"]\n",
    "\n",
    "##  Verifique el DataFrame tenga un tamaño de 45222 elementos por 15 características.\n",
    "\n",
    "\n",
    "##  Verifique la distribución de etiquetas en la columna income, ¿Cuál clase tiene mayor número de ejemplos?\n",
    "\n",
    "    Use .describe() para obtener un análisis de las variables numéricas del conjunto de datos.\n",
    "    Realice un conteo de cada elemento de las variables categóricas:\n",
    "        ['workclass', 'race', 'education','marital-status', 'occupation','relationship', 'gender', 'native-country', 'income']\n",
    "    Simplifique la categoría 'marital-status' de la siguiente forma:\n",
    "        'Divorced' -> 'not married'\n",
    "        'Married-AF-spouse' -> 'married'\n",
    "        'Married-civ-spouse' -> 'married'\n",
    "        'Married-spouse-absent' -> 'married'\n",
    "        'Never-married' -> 'not married'\n",
    "        'Separated' -> 'not married'\n",
    "        'Widowed' -> 'not married'\n",
    "    Convierta las variables categóricas a numéricas. El enfoque aquí presentado no es el mejor, pero será una primera aproximación. Puede usar el siguiente código:\n",
    "\n",
    "    for col in category_col:\n",
    "      b, c = np.unique(df[col], return_inverse=True) \n",
    "      df[col] = c\n",
    "\n",
    "    A pesar de que no queremos inducir un orden en las categorías analizadas, es un buen inicio para probar Validación cruzada.\n",
    "    Cree una matriz X de características usando:\n",
    "        ['age','workclass','education','educational-num','marital-status', 'occupation','relationship','race','gender','capital-gain','capital-loss','hours-per-week', 'native-country']\n",
    "    Cree el arreglo y usando la columna income:\n",
    "    Genere una partición de entrenamiento y prueba 80%−20%80%−20% estratificada. NO MODIFIQUE EL CONJUNTO DE DATOS ORIGINAL.\n",
    "    Verifique que en efecto la partición haya sido estratificada.\n",
    "\n",
    "## RandomizedSearchCV\n",
    "\n",
    "# Genere la siguiente distribución de parámetros:\n",
    "# n_estimators seguirá una distribución uniforme discreta entre 4 y 512\n",
    "# max_features seguirá una distribución uniforme entre 0 y 1\n",
    "\n",
    "clf = RandomForestClassifier()\n",
    "\n",
    "param_dist = {\"n_estimators\": randint(4, 512),\n",
    "              \"max_features\": uniform()}\n",
    "\n",
    "\n",
    "# max_depth será un valor entre 5 o None\n",
    "\n",
    "\n",
    "# bootstrap será un valor entre True o False\n",
    "\n",
    "\n",
    "# ¿Qué hace max_depth y bootstrap? ¿Qué significa que max_depth sea None? Consulte la documentación\n",
    "\n",
    "\n",
    "\n",
    "\n",
    "# Entrene un RandomForestClassifier sobre las siguientes condiciones:\n",
    "# 20 iteraciones de la distribución de parámetros\n",
    "# Pliegues de la validación cruzada= 5\n",
    "# Use n_jobs=-1 para hacer la búsqueda de parámetros de forma paralela\n",
    "\n",
    "n_iter_search = 20\n",
    "random_search = RandomizedSearchCV(clf, param_distributions=param_dist,\n",
    "                                   n_iter=n_iter_search, cv=5, # 5 folds\n",
    "                                   n_jobs=-1, verbose=2) # n_jobs paralelizar\n",
    "\n",
    "\n",
    "start = time()\n",
    "clf = GridSearchCV(RandomForestClassifier(), param_grid=param_grid, verbose=1, n_jobs=-1, cv=5)\n",
    "clf.fit(X_train, y_train)\n",
    "print(\"GridSearchCV tomó {} segundos usando {} configuraciones\".format(time() - start,\n",
    "                                                                         len(clf.cv_results_['params'])))\n",
    "\n",
    "\n",
    "# ¿Cuales son las mejores configuraciones?\n",
    "\n",
    "scores = clf.cv_results_['mean_test_score'].reshape(len(param_grid['max_features']),\n",
    "                                                    len(param_grid['n_estimators']))\n",
    "\n",
    "# ¿Qué desempeño tienen las mejores configuraciones?\n",
    "\n",
    "cv_results = pd.DataFrame(random_search.cv_results_)\n",
    "\n",
    "cv_results = cv_results[['param_n_estimators', 'param_max_features', 'mean_test_score']]\n",
    "cv_results.sort_values(by='mean_test_score', ascending=False).head()\n",
    "\n",
    "\n",
    "#  Reporte accuracy, precision, recall y matriz de confusión en el conjunto de prueba\n",
    "\n",
    "from sklearn.metrics import confusion_matrix\n",
    "from sklearn.metrics import recall_score, f1_score\n",
    "\n",
    "y_testpred = clf.predict(X_test)\n",
    "y_testpred\n",
    "matest = confusion_matrix(y_test, y_testpred)\n",
    "\n",
    "print(matest)\n",
    "print('Accuracy knn classifier: {}'.format(clf.score(X_test, y_test)))\n",
    "print('Error knn classifier: {}'.format(1-clf.score(X_test, y_test)))\n",
    "print('Recall macro: {}'.format(recall_score(y_test, y_testpred, average='macro')))\n",
    "print('F1 macro: {}'.format(f1_score(y_test, y_testpred, average='macro')))\n",
    "\n"
   ]
  }
 ],
 "metadata": {
  "colab": {
   "collapsed_sections": [
    "ZrdT1db0kq5H"
   ],
   "default_view": {},
   "name": "s5_random_forests.ipynb",
   "provenance": [],
   "version": "0.3.2",
   "views": {}
  },
  "kernelspec": {
   "display_name": "Python 3",
   "language": "python",
   "name": "python3"
  },
  "language_info": {
   "codemirror_mode": {
    "name": "ipython",
    "version": 3
   },
   "file_extension": ".py",
   "mimetype": "text/x-python",
   "name": "python",
   "nbconvert_exporter": "python",
   "pygments_lexer": "ipython3",
   "version": "3.6.5"
  }
 },
 "nbformat": 4,
 "nbformat_minor": 1
}
