{
 "cells": [
  {
   "cell_type": "code",
   "execution_count": null,
   "id": "b8d969c6",
   "metadata": {},
   "outputs": [],
   "source": [
    "class Solution:    \n",
    "def isPalindrome(self, x: int) -> bool:        \n",
    "\tnum1 = x        \n",
    "\tnum2 = 0        \n",
    "\tnum3 = num1        \n",
    "\tif num1 < 0 :            # Si la entrada es negativa, no debe ser un palíndromo\n",
    "\t\treturn False        \n",
    "\tif num1 < 10 and num1 >= 0 :       #Ingrese un solo dígito, debe ser un palíndromo\n",
    "\t\treturn True       \n",
    "\tif num1 < 100 and num1 >= 10:    # Ingrese dos dígitos, si los dos dígitos no son iguales, es Falso, de lo contrario es Verdadero\n",
    "\t\tif num1 % 10 != int(num1 / 10) :    # El resto de dividir por 10 es un solo dígito; después de dividir por 10, descarte el punto decimal, que son las decenas.\n",
    "\t\t\treturn False            \n",
    "\t\telse :                \n",
    "\t\t\treturn True        \n",
    "\tif num1 >= 100 :          #Si la entrada tiene más de tres dígitos\n",
    "\t\twhile(num2 != num3):              #Dos números no son iguales, solo sigue repitiendo\n",
    "\t\t\tnum2 += num1 % 10         #Añadir el único dígito del valor de entrada\n",
    "\t\t\tnum1 = int(num1 /10)        #Introduzca el valor para descartar el último dígito        \n",
    "\t\t\tif num2 == num3 :              #Si es igual, devuelve verdadero, el programa termina      \n",
    "\t\t\t\treturn True                \n",
    "\t\t\tif num1 < 1 :                  #Cuando num1 es menor que 1, indica que se ha procesado hasta el último dígito o no está esperando, salir del bucle\n",
    "\t\t\t\tbreak                \n",
    "\t\t\tnum2 = num2 * 10      # Mueva el número bajo hacia adelante       \n",
    "\t                                         \n",
    "\t\treturn False              #Fin del bucle, devuelve falso     "
   ]
  },
  {
   "cell_type": "code",
   "execution_count": null,
   "id": "abdb2f31",
   "metadata": {},
   "outputs": [],
   "source": []
  }
 ],
 "metadata": {
  "kernelspec": {
   "display_name": "Python 3",
   "language": "python",
   "name": "python3"
  }
 },
 "nbformat": 4,
 "nbformat_minor": 5
}
